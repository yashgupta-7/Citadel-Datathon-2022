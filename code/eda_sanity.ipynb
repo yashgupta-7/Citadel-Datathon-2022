{
 "cells": [
  {
   "cell_type": "code",
   "execution_count": null,
   "metadata": {},
   "outputs": [],
   "source": [
    "import pandas as pd\n",
    "import numpy as np\n",
    "import matplotlib.pyplot as plt\n",
    "import seaborn as sns\n",
    "import os\n",
    "import gc\n",
    "%matplotlib inline\n",
    "\n",
    "pd.set_option('display.max_columns', None)\n",
    "pd.set_option('display.max_rows', None)\n",
    "\n",
    "DATA_DIR = 'data'"
   ]
  },
  {
   "cell_type": "code",
   "execution_count": null,
   "metadata": {},
   "outputs": [],
   "source": [
    "df_acp = pd.read_pickle(os.path.join(DATA_DIR, 'accepted_merged.pickle'))\n",
    "df_acp['year'] = pd.to_datetime(df_acp['issue_d']).dt.year"
   ]
  },
  {
   "cell_type": "code",
   "execution_count": null,
   "metadata": {},
   "outputs": [],
   "source": [
    "race = 'black'\n",
    "normalize_period = '2016Q2'\n",
    "top_n = 30\n",
    "df_demograph = pd.read_csv(os.path.join(DATA_DIR, 'cps_data/demographic_cleaned.csv'), dtype={'zip3': str})\n",
    "black_zip = df_demograph.groupby('zip3')[f'is_{race}'].mean()\n",
    "black_zip = black_zip.sort_values(ascending=False).index[:30].tolist()\n",
    "emp2yr = {'10+ years':10, '3 years':3, '4 years':4, '6 years':6, '1 year':1, '7 years':7, '8 years':8, '5 years':5, '2 years':2, '9 years':9, '< 1 year':1, 0:0}\n",
    "\n",
    "west = ['CA', 'OR', 'UT','WA', 'CO', 'NV', 'AK', 'MT', 'HI', 'WY', 'ID']\n",
    "south_west = ['AZ', 'TX', 'NM', 'OK']\n",
    "south_east = ['GA', 'NC', 'VA', 'FL', 'KY', 'SC', 'LA', 'AL', 'WV', 'DC', 'AR', 'DE', 'MS', 'TN' ]\n",
    "mid_west = ['IL', 'MO', 'MN', 'OH', 'WI', 'KS', 'MI', 'SD', 'IA', 'NE', 'IN', 'ND']\n",
    "north_east = ['CT', 'NY', 'PA', 'NJ', 'RI','MA', 'MD', 'VT', 'NH', 'ME']\n",
    "\n",
    "def finding_regions(state):\n",
    "    if state in west:\n",
    "        return 'West'\n",
    "    elif state in south_west:\n",
    "        return 'SouthWest'\n",
    "    elif state in south_east:\n",
    "        return 'SouthEast'\n",
    "    elif state in mid_west:\n",
    "        return 'MidWest'\n",
    "    else:\n",
    "        return 'NorthEast'"
   ]
  },
  {
   "cell_type": "code",
   "execution_count": null,
   "metadata": {},
   "outputs": [],
   "source": [
    "X_san = df_acp[['dti', 'addr_state', 'emp_length', 'year', 'loan_amnt', 'fico_range_low', 'delinq_2yrs', 'home_ownership', 'annual_inc', \\\n",
    "    'open_acc', 'revol_bal']].copy()\n",
    "X_san['black_zip']  = (df_acp['zip3'].isin(black_zip)).astype(int)\n",
    "X_san['post'] = (pd.to_datetime(df_acp['issue_d']) >= '2016-03-01').astype(int)\n",
    "X_san['emp_length'].fillna(0, inplace=True)\n",
    "X_san['emp_length'] = X_san['emp_length'].apply(lambda x: emp2yr[x]).astype(int)\n",
    "X_san['region'] = X_san['addr_state'].apply(lambda x: finding_regions(x))"
   ]
  },
  {
   "cell_type": "code",
   "execution_count": null,
   "metadata": {},
   "outputs": [],
   "source": [
    "df_acp['year'].unique(), X_san['year'].unique()"
   ]
  },
  {
   "cell_type": "code",
   "execution_count": null,
   "metadata": {},
   "outputs": [],
   "source": [
    "print(df_acp['loan_status'].unique())\n",
    "mask_def = df_acp['loan_status'].isin(['In Grace Period', 'Late (31-120 days)' 'Late (16-30 days)', 'Default'])\n",
    "mask_no_def = df_acp['loan_status'].isin(['Fully Paid'])"
   ]
  },
  {
   "cell_type": "code",
   "execution_count": null,
   "metadata": {},
   "outputs": [],
   "source": [
    "X_san['default'] = 0\n",
    "X_san['default'][mask_def] = 1\n",
    "X_san = X_san[mask_def | mask_no_def]"
   ]
  },
  {
   "cell_type": "code",
   "execution_count": null,
   "metadata": {},
   "outputs": [],
   "source": [
    "X_san['loan_amnt'].fillna(1, inplace=True)\n",
    "X_san['loan_amnt'].clip(upper=40000, inplace=True)\n",
    "X_san['log_loan_amnt'] = np.log(X_san['loan_amnt'] + 1)\n",
    "X_san['loan_amnt_norm'] = X_san['loan_amnt'] / 40000"
   ]
  },
  {
   "cell_type": "code",
   "execution_count": null,
   "metadata": {},
   "outputs": [],
   "source": [
    "import numpy as np\n",
    "X_san['annual_inc'].fillna(1, inplace=True)\n",
    "X_san['annual_inc'].clip(upper=1000000, inplace=True)\n",
    "X_san['annual_inc_norm'] = np.log(X_san['annual_inc'])"
   ]
  },
  {
   "cell_type": "code",
   "execution_count": null,
   "metadata": {},
   "outputs": [],
   "source": [
    "X_san['dti'].clip(upper=100, inplace=True)\n",
    "X_san['post_black_zip'] = X_san['post']*X_san['black_zip']"
   ]
  },
  {
   "cell_type": "code",
   "execution_count": null,
   "metadata": {},
   "outputs": [],
   "source": [
    "df_acp['year'].unique(), X_san['year'].unique()"
   ]
  },
  {
   "cell_type": "code",
   "execution_count": null,
   "metadata": {},
   "outputs": [],
   "source": [
    "sns.set(rc={'figure.figsize':(15,15)})\n",
    "sns.heatmap(X_san.corr(), cmap=\"YlGnBu\", annot=True)"
   ]
  },
  {
   "cell_type": "code",
   "execution_count": null,
   "metadata": {},
   "outputs": [],
   "source": [
    "import statsmodels.formula.api as sm\n",
    "df = X_san\n",
    "result = sm.logit(formula = \"default ~ dti + post + post_black_zip + emp_length + C(year) + C(region) + loan_amnt_norm + \\\n",
    "    delinq_2yrs + annual_inc_norm + fico_range_low + C(home_ownership) + open_acc\", data = df).fit()"
   ]
  },
  {
   "cell_type": "code",
   "execution_count": null,
   "metadata": {},
   "outputs": [],
   "source": [
    "result.summary()"
   ]
  },
  {
   "cell_type": "code",
   "execution_count": null,
   "metadata": {},
   "outputs": [],
   "source": [
    "import statsmodels.formula.api as sm\n",
    "df = X_san\n",
    "result = sm.logit(formula = \"default ~ dti + post + black_zip + emp_length + C(year) + C(region) + loan_amnt_norm + \\\n",
    "    delinq_2yrs + annual_inc_norm + fico_range_low + C(home_ownership) + open_acc\", data = df).fit()"
   ]
  },
  {
   "cell_type": "code",
   "execution_count": null,
   "metadata": {},
   "outputs": [],
   "source": [
    "result.summary()"
   ]
  },
  {
   "cell_type": "code",
   "execution_count": null,
   "metadata": {},
   "outputs": [],
   "source": []
  }
 ],
 "metadata": {
  "interpreter": {
   "hash": "4917c47da835c5286ffcf64176df4c2ef8d44571c62bb8c4b958a352f23ad9ef"
  },
  "kernelspec": {
   "display_name": "Python 3.9.12 ('py39')",
   "language": "python",
   "name": "python3"
  },
  "language_info": {
   "codemirror_mode": {
    "name": "ipython",
    "version": 3
   },
   "file_extension": ".py",
   "mimetype": "text/x-python",
   "name": "python",
   "nbconvert_exporter": "python",
   "pygments_lexer": "ipython3",
   "version": "3.9.12"
  },
  "orig_nbformat": 4
 },
 "nbformat": 4,
 "nbformat_minor": 2
}
