{
 "cells": [
  {
   "cell_type": "code",
   "execution_count": 119,
   "id": "b234d986-64fc-42a2-81b5-564bb1c28a1c",
   "metadata": {},
   "outputs": [],
   "source": [
    "#import\n",
    "import pandas as pd\n",
    "import numpy as np\n",
    "import matplotlib.pyplot as plt\n",
    "import seaborn as sns\n",
    "import os\n",
    "import gc\n",
    "import plotly.express as px\n",
    "\n",
    "%matplotlib inline\n",
    "\n",
    "pd.set_option('display.max_columns', None)\n",
    "pd.set_option('display.max_rows', None)"
   ]
  },
  {
   "cell_type": "code",
   "execution_count": 347,
   "id": "c2c22405-411b-4163-8bbe-95925fbb38c6",
   "metadata": {},
   "outputs": [
    {
     "name": "stderr",
     "output_type": "stream",
     "text": [
      "/var/folders/zx/f9brkgk91s7cwmn105cp0sv80000gn/T/ipykernel_38010/2697318001.py:2: DtypeWarning:\n",
      "\n",
      "Columns (19,59,118,129,130,131,134,135,136,139,145,146,147) have mixed types. Specify dtype option on import or set low_memory=False.\n",
      "\n"
     ]
    },
    {
     "data": {
      "text/html": [
       "<div>\n",
       "<style scoped>\n",
       "    .dataframe tbody tr th:only-of-type {\n",
       "        vertical-align: middle;\n",
       "    }\n",
       "\n",
       "    .dataframe tbody tr th {\n",
       "        vertical-align: top;\n",
       "    }\n",
       "\n",
       "    .dataframe thead th {\n",
       "        text-align: right;\n",
       "    }\n",
       "</style>\n",
       "<table border=\"1\" class=\"dataframe\">\n",
       "  <thead>\n",
       "    <tr style=\"text-align: right;\">\n",
       "      <th></th>\n",
       "      <th>id</th>\n",
       "      <th>loan_amnt</th>\n",
       "      <th>funded_amnt</th>\n",
       "      <th>loan_status</th>\n",
       "      <th>int_rate</th>\n",
       "      <th>grade</th>\n",
       "      <th>sub_grade</th>\n",
       "      <th>emp_length</th>\n",
       "      <th>annual_inc</th>\n",
       "      <th>issue_d</th>\n",
       "      <th>Zip_Code</th>\n",
       "      <th>addr_state</th>\n",
       "      <th>year</th>\n",
       "      <th>purpose</th>\n",
       "      <th>desc</th>\n",
       "      <th>quarter</th>\n",
       "    </tr>\n",
       "  </thead>\n",
       "  <tbody>\n",
       "    <tr>\n",
       "      <th>0</th>\n",
       "      <td>68407277</td>\n",
       "      <td>3600.0</td>\n",
       "      <td>3600.0</td>\n",
       "      <td>Fully Paid</td>\n",
       "      <td>13.99</td>\n",
       "      <td>C</td>\n",
       "      <td>C4</td>\n",
       "      <td>10+ years</td>\n",
       "      <td>55000.0</td>\n",
       "      <td>2015-12-01</td>\n",
       "      <td>190</td>\n",
       "      <td>PA</td>\n",
       "      <td>2015</td>\n",
       "      <td>debt_consolidation</td>\n",
       "      <td>NaN</td>\n",
       "      <td>4</td>\n",
       "    </tr>\n",
       "    <tr>\n",
       "      <th>1</th>\n",
       "      <td>68355089</td>\n",
       "      <td>24700.0</td>\n",
       "      <td>24700.0</td>\n",
       "      <td>Fully Paid</td>\n",
       "      <td>11.99</td>\n",
       "      <td>C</td>\n",
       "      <td>C1</td>\n",
       "      <td>10+ years</td>\n",
       "      <td>65000.0</td>\n",
       "      <td>2015-12-01</td>\n",
       "      <td>577</td>\n",
       "      <td>SD</td>\n",
       "      <td>2015</td>\n",
       "      <td>small_business</td>\n",
       "      <td>NaN</td>\n",
       "      <td>4</td>\n",
       "    </tr>\n",
       "    <tr>\n",
       "      <th>2</th>\n",
       "      <td>68341763</td>\n",
       "      <td>20000.0</td>\n",
       "      <td>20000.0</td>\n",
       "      <td>Fully Paid</td>\n",
       "      <td>10.78</td>\n",
       "      <td>B</td>\n",
       "      <td>B4</td>\n",
       "      <td>10+ years</td>\n",
       "      <td>63000.0</td>\n",
       "      <td>2015-12-01</td>\n",
       "      <td>605</td>\n",
       "      <td>IL</td>\n",
       "      <td>2015</td>\n",
       "      <td>home_improvement</td>\n",
       "      <td>NaN</td>\n",
       "      <td>4</td>\n",
       "    </tr>\n",
       "    <tr>\n",
       "      <th>3</th>\n",
       "      <td>66310712</td>\n",
       "      <td>35000.0</td>\n",
       "      <td>35000.0</td>\n",
       "      <td>Current</td>\n",
       "      <td>14.85</td>\n",
       "      <td>C</td>\n",
       "      <td>C5</td>\n",
       "      <td>10+ years</td>\n",
       "      <td>110000.0</td>\n",
       "      <td>2015-12-01</td>\n",
       "      <td>076</td>\n",
       "      <td>NJ</td>\n",
       "      <td>2015</td>\n",
       "      <td>debt_consolidation</td>\n",
       "      <td>NaN</td>\n",
       "      <td>4</td>\n",
       "    </tr>\n",
       "    <tr>\n",
       "      <th>4</th>\n",
       "      <td>68476807</td>\n",
       "      <td>10400.0</td>\n",
       "      <td>10400.0</td>\n",
       "      <td>Fully Paid</td>\n",
       "      <td>22.45</td>\n",
       "      <td>F</td>\n",
       "      <td>F1</td>\n",
       "      <td>3 years</td>\n",
       "      <td>104433.0</td>\n",
       "      <td>2015-12-01</td>\n",
       "      <td>174</td>\n",
       "      <td>PA</td>\n",
       "      <td>2015</td>\n",
       "      <td>major_purchase</td>\n",
       "      <td>NaN</td>\n",
       "      <td>4</td>\n",
       "    </tr>\n",
       "  </tbody>\n",
       "</table>\n",
       "</div>"
      ],
      "text/plain": [
       "         id  loan_amnt  funded_amnt loan_status  int_rate grade sub_grade  \\\n",
       "0  68407277     3600.0       3600.0  Fully Paid     13.99     C        C4   \n",
       "1  68355089    24700.0      24700.0  Fully Paid     11.99     C        C1   \n",
       "2  68341763    20000.0      20000.0  Fully Paid     10.78     B        B4   \n",
       "3  66310712    35000.0      35000.0     Current     14.85     C        C5   \n",
       "4  68476807    10400.0      10400.0  Fully Paid     22.45     F        F1   \n",
       "\n",
       "  emp_length  annual_inc    issue_d Zip_Code addr_state  year  \\\n",
       "0  10+ years     55000.0 2015-12-01      190         PA  2015   \n",
       "1  10+ years     65000.0 2015-12-01      577         SD  2015   \n",
       "2  10+ years     63000.0 2015-12-01      605         IL  2015   \n",
       "3  10+ years    110000.0 2015-12-01      076         NJ  2015   \n",
       "4    3 years    104433.0 2015-12-01      174         PA  2015   \n",
       "\n",
       "              purpose desc  quarter  \n",
       "0  debt_consolidation  NaN        4  \n",
       "1      small_business  NaN        4  \n",
       "2    home_improvement  NaN        4  \n",
       "3  debt_consolidation  NaN        4  \n",
       "4      major_purchase  NaN        4  "
      ]
     },
     "execution_count": 347,
     "metadata": {},
     "output_type": "execute_result"
    }
   ],
   "source": [
    "#read accepted data\n",
    "df_acp = pd.read_csv('Lending_Club_Accepted_2014_2018.csv')\n",
    "df_acp['dti_cat'] = pd.cut(df_acp['dti'], \n",
    "                           bins=[0,40,100,1000], \n",
    "                           labels=[\"<40\", \"40-100\",\"100-1000\"])\n",
    "df_acp['issue_d'] = pd.to_datetime(df_acp['issue_d'])\n",
    "df_acp['year'] = pd.DatetimeIndex(df_acp['issue_d']).year\n",
    "df_acp['quarter'] = pd.DatetimeIndex(df_acp['issue_d']).quarter\n",
    "df_acp['Zip_Code'] = df_acp['zip_code'].apply(lambda x: str(x)[:3])\n",
    "df_acp = df_acp[['id', 'loan_amnt', 'funded_amnt', 'loan_status', 'int_rate', 'grade', 'sub_grade', 'emp_length' , 'annual_inc',\n",
    "                    'issue_d', 'Zip_Code', 'addr_state', 'year', 'purpose', 'desc', 'quarter']]\n",
    "df_acp.head()"
   ]
  },
  {
   "cell_type": "code",
   "execution_count": 103,
   "id": "c3399d5c-0f52-4f5e-8853-c06092e80489",
   "metadata": {},
   "outputs": [
    {
     "data": {
      "text/plain": [
       "3503840175.0"
      ]
     },
     "execution_count": 103,
     "metadata": {},
     "output_type": "execute_result"
    }
   ],
   "source": [
    "sum(df_acp[df_acp['year'] == 2014]['funded_amnt'])"
   ]
  },
  {
   "cell_type": "code",
   "execution_count": 37,
   "id": "fa6f9776-95bb-4795-a234-a134cfc4cd59",
   "metadata": {},
   "outputs": [
    {
     "data": {
      "text/html": [
       "<div>\n",
       "<style scoped>\n",
       "    .dataframe tbody tr th:only-of-type {\n",
       "        vertical-align: middle;\n",
       "    }\n",
       "\n",
       "    .dataframe tbody tr th {\n",
       "        vertical-align: top;\n",
       "    }\n",
       "\n",
       "    .dataframe thead th {\n",
       "        text-align: right;\n",
       "    }\n",
       "</style>\n",
       "<table border=\"1\" class=\"dataframe\">\n",
       "  <thead>\n",
       "    <tr style=\"text-align: right;\">\n",
       "      <th></th>\n",
       "      <th>YEAR</th>\n",
       "      <th>STATE</th>\n",
       "      <th>zip3</th>\n",
       "      <th>FAMINC</th>\n",
       "      <th>is_black</th>\n",
       "      <th>is_asian</th>\n",
       "      <th>is_white</th>\n",
       "      <th>is_college</th>\n",
       "      <th>Zip_Code</th>\n",
       "    </tr>\n",
       "  </thead>\n",
       "  <tbody>\n",
       "    <tr>\n",
       "      <th>0</th>\n",
       "      <td>2013</td>\n",
       "      <td>AL</td>\n",
       "      <td>350.0</td>\n",
       "      <td>57290.184729</td>\n",
       "      <td>0.353635</td>\n",
       "      <td>0.033399</td>\n",
       "      <td>0.605108</td>\n",
       "      <td>0.364532</td>\n",
       "      <td>350</td>\n",
       "    </tr>\n",
       "    <tr>\n",
       "      <th>1</th>\n",
       "      <td>2013</td>\n",
       "      <td>AL</td>\n",
       "      <td>351.0</td>\n",
       "      <td>57312.860390</td>\n",
       "      <td>0.421751</td>\n",
       "      <td>0.026525</td>\n",
       "      <td>0.546419</td>\n",
       "      <td>0.370130</td>\n",
       "      <td>351</td>\n",
       "    </tr>\n",
       "    <tr>\n",
       "      <th>2</th>\n",
       "      <td>2013</td>\n",
       "      <td>AL</td>\n",
       "      <td>352.0</td>\n",
       "      <td>57312.860390</td>\n",
       "      <td>0.421751</td>\n",
       "      <td>0.026525</td>\n",
       "      <td>0.546419</td>\n",
       "      <td>0.370130</td>\n",
       "      <td>352</td>\n",
       "    </tr>\n",
       "    <tr>\n",
       "      <th>3</th>\n",
       "      <td>2013</td>\n",
       "      <td>AL</td>\n",
       "      <td>354.0</td>\n",
       "      <td>55697.014493</td>\n",
       "      <td>0.443769</td>\n",
       "      <td>0.030395</td>\n",
       "      <td>0.519757</td>\n",
       "      <td>0.376812</td>\n",
       "      <td>354</td>\n",
       "    </tr>\n",
       "    <tr>\n",
       "      <th>4</th>\n",
       "      <td>2013</td>\n",
       "      <td>AL</td>\n",
       "      <td>359.0</td>\n",
       "      <td>57218.918367</td>\n",
       "      <td>0.159091</td>\n",
       "      <td>0.053030</td>\n",
       "      <td>0.772727</td>\n",
       "      <td>0.346939</td>\n",
       "      <td>359</td>\n",
       "    </tr>\n",
       "  </tbody>\n",
       "</table>\n",
       "</div>"
      ],
      "text/plain": [
       "   YEAR STATE   zip3        FAMINC  is_black  is_asian  is_white  is_college  \\\n",
       "0  2013    AL  350.0  57290.184729  0.353635  0.033399  0.605108    0.364532   \n",
       "1  2013    AL  351.0  57312.860390  0.421751  0.026525  0.546419    0.370130   \n",
       "2  2013    AL  352.0  57312.860390  0.421751  0.026525  0.546419    0.370130   \n",
       "3  2013    AL  354.0  55697.014493  0.443769  0.030395  0.519757    0.376812   \n",
       "4  2013    AL  359.0  57218.918367  0.159091  0.053030  0.772727    0.346939   \n",
       "\n",
       "  Zip_Code  \n",
       "0      350  \n",
       "1      351  \n",
       "2      352  \n",
       "3      354  \n",
       "4      359  "
      ]
     },
     "execution_count": 37,
     "metadata": {},
     "output_type": "execute_result"
    }
   ],
   "source": [
    "#read demographics data\n",
    "demo = pd.read_csv('demographic_cleaned.csv')\n",
    "demo['Zip_Code'] = demo['zip3'].apply(lambda x: str(x)[:3])\n",
    "demo.head()"
   ]
  },
  {
   "cell_type": "code",
   "execution_count": 38,
   "id": "90271edc-57e2-491d-9714-ec8c03682028",
   "metadata": {},
   "outputs": [
    {
     "data": {
      "text/html": [
       "<div>\n",
       "<style scoped>\n",
       "    .dataframe tbody tr th:only-of-type {\n",
       "        vertical-align: middle;\n",
       "    }\n",
       "\n",
       "    .dataframe tbody tr th {\n",
       "        vertical-align: top;\n",
       "    }\n",
       "\n",
       "    .dataframe thead th {\n",
       "        text-align: right;\n",
       "    }\n",
       "</style>\n",
       "<table border=\"1\" class=\"dataframe\">\n",
       "  <thead>\n",
       "    <tr style=\"text-align: right;\">\n",
       "      <th></th>\n",
       "      <th>YEAR</th>\n",
       "      <th>STATE</th>\n",
       "      <th>zip3</th>\n",
       "      <th>FAMINC</th>\n",
       "      <th>is_black</th>\n",
       "      <th>is_asian</th>\n",
       "      <th>is_white</th>\n",
       "      <th>is_college</th>\n",
       "      <th>Zip_Code</th>\n",
       "    </tr>\n",
       "  </thead>\n",
       "  <tbody>\n",
       "    <tr>\n",
       "      <th>376</th>\n",
       "      <td>2013</td>\n",
       "      <td>PA</td>\n",
       "      <td>190.0</td>\n",
       "      <td>68668.919355</td>\n",
       "      <td>0.263816</td>\n",
       "      <td>0.046403</td>\n",
       "      <td>0.674140</td>\n",
       "      <td>0.349462</td>\n",
       "      <td>190</td>\n",
       "    </tr>\n",
       "    <tr>\n",
       "      <th>835</th>\n",
       "      <td>2014</td>\n",
       "      <td>PA</td>\n",
       "      <td>190.0</td>\n",
       "      <td>71946.482877</td>\n",
       "      <td>0.210800</td>\n",
       "      <td>0.060228</td>\n",
       "      <td>0.708723</td>\n",
       "      <td>0.372603</td>\n",
       "      <td>190</td>\n",
       "    </tr>\n",
       "    <tr>\n",
       "      <th>1358</th>\n",
       "      <td>2015</td>\n",
       "      <td>PA</td>\n",
       "      <td>190.0</td>\n",
       "      <td>74320.007746</td>\n",
       "      <td>0.244831</td>\n",
       "      <td>0.067465</td>\n",
       "      <td>0.664309</td>\n",
       "      <td>0.370423</td>\n",
       "      <td>190</td>\n",
       "    </tr>\n",
       "    <tr>\n",
       "      <th>1838</th>\n",
       "      <td>2016</td>\n",
       "      <td>PA</td>\n",
       "      <td>190.0</td>\n",
       "      <td>75203.750385</td>\n",
       "      <td>0.218377</td>\n",
       "      <td>0.081146</td>\n",
       "      <td>0.670048</td>\n",
       "      <td>0.420647</td>\n",
       "      <td>190</td>\n",
       "    </tr>\n",
       "    <tr>\n",
       "      <th>2292</th>\n",
       "      <td>2017</td>\n",
       "      <td>PA</td>\n",
       "      <td>190.0</td>\n",
       "      <td>74357.339655</td>\n",
       "      <td>0.220294</td>\n",
       "      <td>0.084780</td>\n",
       "      <td>0.655541</td>\n",
       "      <td>0.387931</td>\n",
       "      <td>190</td>\n",
       "    </tr>\n",
       "    <tr>\n",
       "      <th>2746</th>\n",
       "      <td>2018</td>\n",
       "      <td>PA</td>\n",
       "      <td>190.0</td>\n",
       "      <td>75204.925090</td>\n",
       "      <td>0.214434</td>\n",
       "      <td>0.072866</td>\n",
       "      <td>0.688411</td>\n",
       "      <td>0.411552</td>\n",
       "      <td>190</td>\n",
       "    </tr>\n",
       "  </tbody>\n",
       "</table>\n",
       "</div>"
      ],
      "text/plain": [
       "      YEAR STATE   zip3        FAMINC  is_black  is_asian  is_white  \\\n",
       "376   2013    PA  190.0  68668.919355  0.263816  0.046403  0.674140   \n",
       "835   2014    PA  190.0  71946.482877  0.210800  0.060228  0.708723   \n",
       "1358  2015    PA  190.0  74320.007746  0.244831  0.067465  0.664309   \n",
       "1838  2016    PA  190.0  75203.750385  0.218377  0.081146  0.670048   \n",
       "2292  2017    PA  190.0  74357.339655  0.220294  0.084780  0.655541   \n",
       "2746  2018    PA  190.0  75204.925090  0.214434  0.072866  0.688411   \n",
       "\n",
       "      is_college Zip_Code  \n",
       "376     0.349462      190  \n",
       "835     0.372603      190  \n",
       "1358    0.370423      190  \n",
       "1838    0.420647      190  \n",
       "2292    0.387931      190  \n",
       "2746    0.411552      190  "
      ]
     },
     "execution_count": 38,
     "metadata": {},
     "output_type": "execute_result"
    }
   ],
   "source": [
    "demo[demo['zip3'] == 190]"
   ]
  },
  {
   "cell_type": "code",
   "execution_count": 39,
   "id": "4ae7047f-bccc-4bb0-8485-7f1cd5b43205",
   "metadata": {},
   "outputs": [
    {
     "data": {
      "text/html": [
       "<div>\n",
       "<style scoped>\n",
       "    .dataframe tbody tr th:only-of-type {\n",
       "        vertical-align: middle;\n",
       "    }\n",
       "\n",
       "    .dataframe tbody tr th {\n",
       "        vertical-align: top;\n",
       "    }\n",
       "\n",
       "    .dataframe thead th {\n",
       "        text-align: right;\n",
       "    }\n",
       "</style>\n",
       "<table border=\"1\" class=\"dataframe\">\n",
       "  <thead>\n",
       "    <tr style=\"text-align: right;\">\n",
       "      <th></th>\n",
       "      <th>population</th>\n",
       "      <th>minimum_age</th>\n",
       "      <th>maximum_age</th>\n",
       "      <th>gender</th>\n",
       "      <th>zipcode</th>\n",
       "      <th>geo_id</th>\n",
       "      <th>Zip_Code</th>\n",
       "    </tr>\n",
       "  </thead>\n",
       "  <tbody>\n",
       "    <tr>\n",
       "      <th>0</th>\n",
       "      <td>50</td>\n",
       "      <td>30.0</td>\n",
       "      <td>34.0</td>\n",
       "      <td>female</td>\n",
       "      <td>61747</td>\n",
       "      <td>8600000US61747</td>\n",
       "      <td>617</td>\n",
       "    </tr>\n",
       "    <tr>\n",
       "      <th>1</th>\n",
       "      <td>5</td>\n",
       "      <td>85.0</td>\n",
       "      <td>NaN</td>\n",
       "      <td>male</td>\n",
       "      <td>64120</td>\n",
       "      <td>8600000US64120</td>\n",
       "      <td>641</td>\n",
       "    </tr>\n",
       "    <tr>\n",
       "      <th>2</th>\n",
       "      <td>1389</td>\n",
       "      <td>30.0</td>\n",
       "      <td>34.0</td>\n",
       "      <td>male</td>\n",
       "      <td>95117</td>\n",
       "      <td>8600000US95117</td>\n",
       "      <td>951</td>\n",
       "    </tr>\n",
       "    <tr>\n",
       "      <th>3</th>\n",
       "      <td>231</td>\n",
       "      <td>60.0</td>\n",
       "      <td>61.0</td>\n",
       "      <td>female</td>\n",
       "      <td>74074</td>\n",
       "      <td>8600000US74074</td>\n",
       "      <td>740</td>\n",
       "    </tr>\n",
       "    <tr>\n",
       "      <th>4</th>\n",
       "      <td>56</td>\n",
       "      <td>0.0</td>\n",
       "      <td>4.0</td>\n",
       "      <td>female</td>\n",
       "      <td>58042</td>\n",
       "      <td>8600000US58042</td>\n",
       "      <td>580</td>\n",
       "    </tr>\n",
       "  </tbody>\n",
       "</table>\n",
       "</div>"
      ],
      "text/plain": [
       "   population  minimum_age  maximum_age  gender  zipcode          geo_id  \\\n",
       "0          50         30.0         34.0  female    61747  8600000US61747   \n",
       "1           5         85.0          NaN    male    64120  8600000US64120   \n",
       "2        1389         30.0         34.0    male    95117  8600000US95117   \n",
       "3         231         60.0         61.0  female    74074  8600000US74074   \n",
       "4          56          0.0          4.0  female    58042  8600000US58042   \n",
       "\n",
       "  Zip_Code  \n",
       "0      617  \n",
       "1      641  \n",
       "2      951  \n",
       "3      740  \n",
       "4      580  "
      ]
     },
     "execution_count": 39,
     "metadata": {},
     "output_type": "execute_result"
    }
   ],
   "source": [
    "#read population data\n",
    "df_pop = pd.read_csv('population_by_zip_2010.csv')\n",
    "df_pop['Zip_Code'] = df_pop['zipcode'].apply(lambda x: str(x)[:3])\n",
    "                                            \n",
    "df_pop.head()"
   ]
  },
  {
   "cell_type": "code",
   "execution_count": 40,
   "id": "0b3a8b91-4267-44af-a82c-4f4b55a98d97",
   "metadata": {},
   "outputs": [],
   "source": [
    "df_popgrp = df_pop.groupby(['Zip_Code']).agg( { 'Zip_Code':'first', 'population':sum } )\n",
    "df_popgrp.reset_index(drop=True, inplace =True)"
   ]
  },
  {
   "cell_type": "code",
   "execution_count": 41,
   "id": "e4c6d88d-9b47-44ad-a4d8-e32de3ccbeb9",
   "metadata": {},
   "outputs": [
    {
     "data": {
      "text/html": [
       "<div>\n",
       "<style scoped>\n",
       "    .dataframe tbody tr th:only-of-type {\n",
       "        vertical-align: middle;\n",
       "    }\n",
       "\n",
       "    .dataframe tbody tr th {\n",
       "        vertical-align: top;\n",
       "    }\n",
       "\n",
       "    .dataframe thead th {\n",
       "        text-align: right;\n",
       "    }\n",
       "</style>\n",
       "<table border=\"1\" class=\"dataframe\">\n",
       "  <thead>\n",
       "    <tr style=\"text-align: right;\">\n",
       "      <th></th>\n",
       "      <th>Zip_Code</th>\n",
       "      <th>population</th>\n",
       "    </tr>\n",
       "  </thead>\n",
       "  <tbody>\n",
       "    <tr>\n",
       "      <th>0</th>\n",
       "      <td>100</td>\n",
       "      <td>4741269</td>\n",
       "    </tr>\n",
       "    <tr>\n",
       "      <th>1</th>\n",
       "      <td>101</td>\n",
       "      <td>273228</td>\n",
       "    </tr>\n",
       "    <tr>\n",
       "      <th>2</th>\n",
       "      <td>102</td>\n",
       "      <td>239610</td>\n",
       "    </tr>\n",
       "    <tr>\n",
       "      <th>3</th>\n",
       "      <td>103</td>\n",
       "      <td>1516809</td>\n",
       "    </tr>\n",
       "    <tr>\n",
       "      <th>4</th>\n",
       "      <td>104</td>\n",
       "      <td>4267080</td>\n",
       "    </tr>\n",
       "  </tbody>\n",
       "</table>\n",
       "</div>"
      ],
      "text/plain": [
       "  Zip_Code  population\n",
       "0      100     4741269\n",
       "1      101      273228\n",
       "2      102      239610\n",
       "3      103     1516809\n",
       "4      104     4267080"
      ]
     },
     "execution_count": 41,
     "metadata": {},
     "output_type": "execute_result"
    }
   ],
   "source": [
    "df_popgrp.head()"
   ]
  },
  {
   "cell_type": "code",
   "execution_count": 44,
   "id": "3b5e6edd-b90e-44ca-91dc-eaca5e4bb364",
   "metadata": {},
   "outputs": [
    {
     "data": {
      "text/html": [
       "<div>\n",
       "<style scoped>\n",
       "    .dataframe tbody tr th:only-of-type {\n",
       "        vertical-align: middle;\n",
       "    }\n",
       "\n",
       "    .dataframe tbody tr th {\n",
       "        vertical-align: top;\n",
       "    }\n",
       "\n",
       "    .dataframe thead th {\n",
       "        text-align: right;\n",
       "    }\n",
       "</style>\n",
       "<table border=\"1\" class=\"dataframe\">\n",
       "  <thead>\n",
       "    <tr style=\"text-align: right;\">\n",
       "      <th></th>\n",
       "      <th>YEAR</th>\n",
       "      <th>STATE</th>\n",
       "      <th>zip3</th>\n",
       "      <th>FAMINC</th>\n",
       "      <th>is_black</th>\n",
       "      <th>is_asian</th>\n",
       "      <th>is_white</th>\n",
       "      <th>is_college</th>\n",
       "      <th>Zip_Code</th>\n",
       "      <th>population</th>\n",
       "      <th>year</th>\n",
       "    </tr>\n",
       "  </thead>\n",
       "  <tbody>\n",
       "    <tr>\n",
       "      <th>0</th>\n",
       "      <td>2013</td>\n",
       "      <td>AL</td>\n",
       "      <td>350.0</td>\n",
       "      <td>57290.184729</td>\n",
       "      <td>0.353635</td>\n",
       "      <td>0.033399</td>\n",
       "      <td>0.605108</td>\n",
       "      <td>0.364532</td>\n",
       "      <td>350</td>\n",
       "      <td>1326570</td>\n",
       "      <td>2013</td>\n",
       "    </tr>\n",
       "    <tr>\n",
       "      <th>1</th>\n",
       "      <td>2014</td>\n",
       "      <td>AL</td>\n",
       "      <td>350.0</td>\n",
       "      <td>56019.289474</td>\n",
       "      <td>0.379381</td>\n",
       "      <td>0.016495</td>\n",
       "      <td>0.593814</td>\n",
       "      <td>0.294737</td>\n",
       "      <td>350</td>\n",
       "      <td>1326570</td>\n",
       "      <td>2014</td>\n",
       "    </tr>\n",
       "    <tr>\n",
       "      <th>2</th>\n",
       "      <td>2015</td>\n",
       "      <td>AL</td>\n",
       "      <td>350.0</td>\n",
       "      <td>73053.511364</td>\n",
       "      <td>0.347826</td>\n",
       "      <td>0.030435</td>\n",
       "      <td>0.586957</td>\n",
       "      <td>0.431818</td>\n",
       "      <td>350</td>\n",
       "      <td>1326570</td>\n",
       "      <td>2015</td>\n",
       "    </tr>\n",
       "    <tr>\n",
       "      <th>3</th>\n",
       "      <td>2013</td>\n",
       "      <td>AL</td>\n",
       "      <td>351.0</td>\n",
       "      <td>57312.860390</td>\n",
       "      <td>0.421751</td>\n",
       "      <td>0.026525</td>\n",
       "      <td>0.546419</td>\n",
       "      <td>0.370130</td>\n",
       "      <td>351</td>\n",
       "      <td>974319</td>\n",
       "      <td>2013</td>\n",
       "    </tr>\n",
       "    <tr>\n",
       "      <th>4</th>\n",
       "      <td>2014</td>\n",
       "      <td>AL</td>\n",
       "      <td>351.0</td>\n",
       "      <td>58598.543624</td>\n",
       "      <td>0.423398</td>\n",
       "      <td>0.008357</td>\n",
       "      <td>0.565460</td>\n",
       "      <td>0.322148</td>\n",
       "      <td>351</td>\n",
       "      <td>974319</td>\n",
       "      <td>2014</td>\n",
       "    </tr>\n",
       "  </tbody>\n",
       "</table>\n",
       "</div>"
      ],
      "text/plain": [
       "   YEAR STATE   zip3        FAMINC  is_black  is_asian  is_white  is_college  \\\n",
       "0  2013    AL  350.0  57290.184729  0.353635  0.033399  0.605108    0.364532   \n",
       "1  2014    AL  350.0  56019.289474  0.379381  0.016495  0.593814    0.294737   \n",
       "2  2015    AL  350.0  73053.511364  0.347826  0.030435  0.586957    0.431818   \n",
       "3  2013    AL  351.0  57312.860390  0.421751  0.026525  0.546419    0.370130   \n",
       "4  2014    AL  351.0  58598.543624  0.423398  0.008357  0.565460    0.322148   \n",
       "\n",
       "  Zip_Code  population  year  \n",
       "0      350     1326570  2013  \n",
       "1      350     1326570  2014  \n",
       "2      350     1326570  2015  \n",
       "3      351      974319  2013  \n",
       "4      351      974319  2014  "
      ]
     },
     "execution_count": 44,
     "metadata": {},
     "output_type": "execute_result"
    }
   ],
   "source": [
    "df_demo = pd.merge(demo, df_popgrp, how = 'inner', on = ['Zip_Code'])\n",
    "df_demo['year'] = df_demo['YEAR']\n",
    "df_demo.head()"
   ]
  },
  {
   "cell_type": "code",
   "execution_count": 348,
   "id": "afbf1c87-581d-43fc-a11b-f8a073524ef2",
   "metadata": {},
   "outputs": [
    {
     "data": {
      "text/html": [
       "<div>\n",
       "<style scoped>\n",
       "    .dataframe tbody tr th:only-of-type {\n",
       "        vertical-align: middle;\n",
       "    }\n",
       "\n",
       "    .dataframe tbody tr th {\n",
       "        vertical-align: top;\n",
       "    }\n",
       "\n",
       "    .dataframe thead th {\n",
       "        text-align: right;\n",
       "    }\n",
       "</style>\n",
       "<table border=\"1\" class=\"dataframe\">\n",
       "  <thead>\n",
       "    <tr style=\"text-align: right;\">\n",
       "      <th></th>\n",
       "      <th>id</th>\n",
       "      <th>loan_amnt</th>\n",
       "      <th>funded_amnt</th>\n",
       "      <th>loan_status</th>\n",
       "      <th>int_rate</th>\n",
       "      <th>grade</th>\n",
       "      <th>sub_grade</th>\n",
       "      <th>emp_length</th>\n",
       "      <th>annual_inc</th>\n",
       "      <th>issue_d</th>\n",
       "      <th>Zip_Code</th>\n",
       "      <th>addr_state</th>\n",
       "      <th>year</th>\n",
       "      <th>purpose</th>\n",
       "      <th>desc</th>\n",
       "      <th>quarter</th>\n",
       "      <th>YEAR</th>\n",
       "      <th>STATE</th>\n",
       "      <th>zip3</th>\n",
       "      <th>FAMINC</th>\n",
       "      <th>is_black</th>\n",
       "      <th>is_asian</th>\n",
       "      <th>is_white</th>\n",
       "      <th>is_college</th>\n",
       "      <th>population</th>\n",
       "    </tr>\n",
       "  </thead>\n",
       "  <tbody>\n",
       "    <tr>\n",
       "      <th>0</th>\n",
       "      <td>68407277</td>\n",
       "      <td>3600.0</td>\n",
       "      <td>3600.0</td>\n",
       "      <td>Fully Paid</td>\n",
       "      <td>13.99</td>\n",
       "      <td>C</td>\n",
       "      <td>C4</td>\n",
       "      <td>10+ years</td>\n",
       "      <td>55000.0</td>\n",
       "      <td>2015-12-01</td>\n",
       "      <td>190</td>\n",
       "      <td>PA</td>\n",
       "      <td>2015</td>\n",
       "      <td>debt_consolidation</td>\n",
       "      <td>NaN</td>\n",
       "      <td>4</td>\n",
       "      <td>2015</td>\n",
       "      <td>PA</td>\n",
       "      <td>190.0</td>\n",
       "      <td>74320.007746</td>\n",
       "      <td>0.244831</td>\n",
       "      <td>0.067465</td>\n",
       "      <td>0.664309</td>\n",
       "      <td>0.370423</td>\n",
       "      <td>3762051</td>\n",
       "    </tr>\n",
       "    <tr>\n",
       "      <th>1</th>\n",
       "      <td>68416249</td>\n",
       "      <td>12700.0</td>\n",
       "      <td>12700.0</td>\n",
       "      <td>Fully Paid</td>\n",
       "      <td>17.97</td>\n",
       "      <td>D</td>\n",
       "      <td>D4</td>\n",
       "      <td>3 years</td>\n",
       "      <td>32760.0</td>\n",
       "      <td>2015-12-01</td>\n",
       "      <td>190</td>\n",
       "      <td>PA</td>\n",
       "      <td>2015</td>\n",
       "      <td>debt_consolidation</td>\n",
       "      <td>NaN</td>\n",
       "      <td>4</td>\n",
       "      <td>2015</td>\n",
       "      <td>PA</td>\n",
       "      <td>190.0</td>\n",
       "      <td>74320.007746</td>\n",
       "      <td>0.244831</td>\n",
       "      <td>0.067465</td>\n",
       "      <td>0.664309</td>\n",
       "      <td>0.370423</td>\n",
       "      <td>3762051</td>\n",
       "    </tr>\n",
       "    <tr>\n",
       "      <th>2</th>\n",
       "      <td>68486599</td>\n",
       "      <td>12000.0</td>\n",
       "      <td>12000.0</td>\n",
       "      <td>Fully Paid</td>\n",
       "      <td>6.49</td>\n",
       "      <td>A</td>\n",
       "      <td>A2</td>\n",
       "      <td>10+ years</td>\n",
       "      <td>65000.0</td>\n",
       "      <td>2015-12-01</td>\n",
       "      <td>190</td>\n",
       "      <td>PA</td>\n",
       "      <td>2015</td>\n",
       "      <td>home_improvement</td>\n",
       "      <td>NaN</td>\n",
       "      <td>4</td>\n",
       "      <td>2015</td>\n",
       "      <td>PA</td>\n",
       "      <td>190.0</td>\n",
       "      <td>74320.007746</td>\n",
       "      <td>0.244831</td>\n",
       "      <td>0.067465</td>\n",
       "      <td>0.664309</td>\n",
       "      <td>0.370423</td>\n",
       "      <td>3762051</td>\n",
       "    </tr>\n",
       "    <tr>\n",
       "      <th>3</th>\n",
       "      <td>68476147</td>\n",
       "      <td>12000.0</td>\n",
       "      <td>12000.0</td>\n",
       "      <td>Fully Paid</td>\n",
       "      <td>11.48</td>\n",
       "      <td>B</td>\n",
       "      <td>B5</td>\n",
       "      <td>7 years</td>\n",
       "      <td>85000.0</td>\n",
       "      <td>2015-12-01</td>\n",
       "      <td>190</td>\n",
       "      <td>PA</td>\n",
       "      <td>2015</td>\n",
       "      <td>debt_consolidation</td>\n",
       "      <td>NaN</td>\n",
       "      <td>4</td>\n",
       "      <td>2015</td>\n",
       "      <td>PA</td>\n",
       "      <td>190.0</td>\n",
       "      <td>74320.007746</td>\n",
       "      <td>0.244831</td>\n",
       "      <td>0.067465</td>\n",
       "      <td>0.664309</td>\n",
       "      <td>0.370423</td>\n",
       "      <td>3762051</td>\n",
       "    </tr>\n",
       "    <tr>\n",
       "      <th>4</th>\n",
       "      <td>68566142</td>\n",
       "      <td>35000.0</td>\n",
       "      <td>35000.0</td>\n",
       "      <td>Fully Paid</td>\n",
       "      <td>17.97</td>\n",
       "      <td>D</td>\n",
       "      <td>D4</td>\n",
       "      <td>10+ years</td>\n",
       "      <td>150000.0</td>\n",
       "      <td>2015-12-01</td>\n",
       "      <td>190</td>\n",
       "      <td>PA</td>\n",
       "      <td>2015</td>\n",
       "      <td>debt_consolidation</td>\n",
       "      <td>NaN</td>\n",
       "      <td>4</td>\n",
       "      <td>2015</td>\n",
       "      <td>PA</td>\n",
       "      <td>190.0</td>\n",
       "      <td>74320.007746</td>\n",
       "      <td>0.244831</td>\n",
       "      <td>0.067465</td>\n",
       "      <td>0.664309</td>\n",
       "      <td>0.370423</td>\n",
       "      <td>3762051</td>\n",
       "    </tr>\n",
       "  </tbody>\n",
       "</table>\n",
       "</div>"
      ],
      "text/plain": [
       "         id  loan_amnt  funded_amnt loan_status  int_rate grade sub_grade  \\\n",
       "0  68407277     3600.0       3600.0  Fully Paid     13.99     C        C4   \n",
       "1  68416249    12700.0      12700.0  Fully Paid     17.97     D        D4   \n",
       "2  68486599    12000.0      12000.0  Fully Paid      6.49     A        A2   \n",
       "3  68476147    12000.0      12000.0  Fully Paid     11.48     B        B5   \n",
       "4  68566142    35000.0      35000.0  Fully Paid     17.97     D        D4   \n",
       "\n",
       "  emp_length  annual_inc    issue_d Zip_Code addr_state  year  \\\n",
       "0  10+ years     55000.0 2015-12-01      190         PA  2015   \n",
       "1    3 years     32760.0 2015-12-01      190         PA  2015   \n",
       "2  10+ years     65000.0 2015-12-01      190         PA  2015   \n",
       "3    7 years     85000.0 2015-12-01      190         PA  2015   \n",
       "4  10+ years    150000.0 2015-12-01      190         PA  2015   \n",
       "\n",
       "              purpose desc  quarter  YEAR STATE   zip3        FAMINC  \\\n",
       "0  debt_consolidation  NaN        4  2015    PA  190.0  74320.007746   \n",
       "1  debt_consolidation  NaN        4  2015    PA  190.0  74320.007746   \n",
       "2    home_improvement  NaN        4  2015    PA  190.0  74320.007746   \n",
       "3  debt_consolidation  NaN        4  2015    PA  190.0  74320.007746   \n",
       "4  debt_consolidation  NaN        4  2015    PA  190.0  74320.007746   \n",
       "\n",
       "   is_black  is_asian  is_white  is_college  population  \n",
       "0  0.244831  0.067465  0.664309    0.370423     3762051  \n",
       "1  0.244831  0.067465  0.664309    0.370423     3762051  \n",
       "2  0.244831  0.067465  0.664309    0.370423     3762051  \n",
       "3  0.244831  0.067465  0.664309    0.370423     3762051  \n",
       "4  0.244831  0.067465  0.664309    0.370423     3762051  "
      ]
     },
     "execution_count": 348,
     "metadata": {},
     "output_type": "execute_result"
    }
   ],
   "source": [
    "df_acpdemo = pd.merge(df_acp, df_demo, how = 'inner', on = [ 'year', 'Zip_Code' ] )\n",
    "df_acpdemo.head()"
   ]
  },
  {
   "cell_type": "code",
   "execution_count": 94,
   "id": "72738fac-7454-4798-a2dd-78efa63fe395",
   "metadata": {},
   "outputs": [
    {
     "data": {
      "text/html": [
       "<div>\n",
       "<style scoped>\n",
       "    .dataframe tbody tr th:only-of-type {\n",
       "        vertical-align: middle;\n",
       "    }\n",
       "\n",
       "    .dataframe tbody tr th {\n",
       "        vertical-align: top;\n",
       "    }\n",
       "\n",
       "    .dataframe thead th {\n",
       "        text-align: right;\n",
       "    }\n",
       "</style>\n",
       "<table border=\"1\" class=\"dataframe\">\n",
       "  <thead>\n",
       "    <tr style=\"text-align: right;\">\n",
       "      <th></th>\n",
       "      <th>pop_sum</th>\n",
       "      <th>year</th>\n",
       "    </tr>\n",
       "  </thead>\n",
       "  <tbody>\n",
       "    <tr>\n",
       "      <th>0</th>\n",
       "      <td>478939566813</td>\n",
       "      <td>2014</td>\n",
       "    </tr>\n",
       "    <tr>\n",
       "      <th>1</th>\n",
       "      <td>870215664420</td>\n",
       "      <td>2015</td>\n",
       "    </tr>\n",
       "    <tr>\n",
       "      <th>2</th>\n",
       "      <td>810583076943</td>\n",
       "      <td>2016</td>\n",
       "    </tr>\n",
       "    <tr>\n",
       "      <th>3</th>\n",
       "      <td>831994293300</td>\n",
       "      <td>2017</td>\n",
       "    </tr>\n",
       "    <tr>\n",
       "      <th>4</th>\n",
       "      <td>925530297375</td>\n",
       "      <td>2018</td>\n",
       "    </tr>\n",
       "  </tbody>\n",
       "</table>\n",
       "</div>"
      ],
      "text/plain": [
       "        pop_sum  year\n",
       "0  478939566813  2014\n",
       "1  870215664420  2015\n",
       "2  810583076943  2016\n",
       "3  831994293300  2017\n",
       "4  925530297375  2018"
      ]
     },
     "execution_count": 94,
     "metadata": {},
     "output_type": "execute_result"
    }
   ],
   "source": [
    "group = df_acpdemo.groupby('year').agg({ 'population':sum, 'year':'first'})\n",
    "group.reset_index(drop=True, inplace =True)\n",
    "group.rename(columns={'population':'pop_sum'}, inplace=True)\n",
    "group.head()"
   ]
  },
  {
   "cell_type": "code",
   "execution_count": 95,
   "id": "00e813bc-8644-41f7-a993-b5ccee0e5520",
   "metadata": {},
   "outputs": [
    {
     "data": {
      "text/html": [
       "<div>\n",
       "<style scoped>\n",
       "    .dataframe tbody tr th:only-of-type {\n",
       "        vertical-align: middle;\n",
       "    }\n",
       "\n",
       "    .dataframe tbody tr th {\n",
       "        vertical-align: top;\n",
       "    }\n",
       "\n",
       "    .dataframe thead th {\n",
       "        text-align: right;\n",
       "    }\n",
       "</style>\n",
       "<table border=\"1\" class=\"dataframe\">\n",
       "  <thead>\n",
       "    <tr style=\"text-align: right;\">\n",
       "      <th></th>\n",
       "      <th>id</th>\n",
       "      <th>loan_amnt</th>\n",
       "      <th>funded_amnt</th>\n",
       "      <th>int_rate</th>\n",
       "      <th>grade</th>\n",
       "      <th>sub_grade</th>\n",
       "      <th>emp_length</th>\n",
       "      <th>annual_inc</th>\n",
       "      <th>issue_d</th>\n",
       "      <th>Zip_Code</th>\n",
       "      <th>addr_state</th>\n",
       "      <th>year</th>\n",
       "      <th>purpose</th>\n",
       "      <th>desc</th>\n",
       "      <th>YEAR</th>\n",
       "      <th>STATE</th>\n",
       "      <th>zip3</th>\n",
       "      <th>FAMINC</th>\n",
       "      <th>is_black</th>\n",
       "      <th>is_asian</th>\n",
       "      <th>is_white</th>\n",
       "      <th>is_college</th>\n",
       "      <th>population</th>\n",
       "      <th>pop_sum</th>\n",
       "    </tr>\n",
       "  </thead>\n",
       "  <tbody>\n",
       "    <tr>\n",
       "      <th>0</th>\n",
       "      <td>68407277</td>\n",
       "      <td>3600.0</td>\n",
       "      <td>3600.0</td>\n",
       "      <td>13.99</td>\n",
       "      <td>C</td>\n",
       "      <td>C4</td>\n",
       "      <td>10+ years</td>\n",
       "      <td>55000.0</td>\n",
       "      <td>2015-12-01</td>\n",
       "      <td>190</td>\n",
       "      <td>PA</td>\n",
       "      <td>2015</td>\n",
       "      <td>debt_consolidation</td>\n",
       "      <td>NaN</td>\n",
       "      <td>2015</td>\n",
       "      <td>PA</td>\n",
       "      <td>190.0</td>\n",
       "      <td>74320.007746</td>\n",
       "      <td>0.244831</td>\n",
       "      <td>0.067465</td>\n",
       "      <td>0.664309</td>\n",
       "      <td>0.370423</td>\n",
       "      <td>3762051</td>\n",
       "      <td>870215664420</td>\n",
       "    </tr>\n",
       "    <tr>\n",
       "      <th>1</th>\n",
       "      <td>68416249</td>\n",
       "      <td>12700.0</td>\n",
       "      <td>12700.0</td>\n",
       "      <td>17.97</td>\n",
       "      <td>D</td>\n",
       "      <td>D4</td>\n",
       "      <td>3 years</td>\n",
       "      <td>32760.0</td>\n",
       "      <td>2015-12-01</td>\n",
       "      <td>190</td>\n",
       "      <td>PA</td>\n",
       "      <td>2015</td>\n",
       "      <td>debt_consolidation</td>\n",
       "      <td>NaN</td>\n",
       "      <td>2015</td>\n",
       "      <td>PA</td>\n",
       "      <td>190.0</td>\n",
       "      <td>74320.007746</td>\n",
       "      <td>0.244831</td>\n",
       "      <td>0.067465</td>\n",
       "      <td>0.664309</td>\n",
       "      <td>0.370423</td>\n",
       "      <td>3762051</td>\n",
       "      <td>870215664420</td>\n",
       "    </tr>\n",
       "    <tr>\n",
       "      <th>2</th>\n",
       "      <td>68486599</td>\n",
       "      <td>12000.0</td>\n",
       "      <td>12000.0</td>\n",
       "      <td>6.49</td>\n",
       "      <td>A</td>\n",
       "      <td>A2</td>\n",
       "      <td>10+ years</td>\n",
       "      <td>65000.0</td>\n",
       "      <td>2015-12-01</td>\n",
       "      <td>190</td>\n",
       "      <td>PA</td>\n",
       "      <td>2015</td>\n",
       "      <td>home_improvement</td>\n",
       "      <td>NaN</td>\n",
       "      <td>2015</td>\n",
       "      <td>PA</td>\n",
       "      <td>190.0</td>\n",
       "      <td>74320.007746</td>\n",
       "      <td>0.244831</td>\n",
       "      <td>0.067465</td>\n",
       "      <td>0.664309</td>\n",
       "      <td>0.370423</td>\n",
       "      <td>3762051</td>\n",
       "      <td>870215664420</td>\n",
       "    </tr>\n",
       "    <tr>\n",
       "      <th>3</th>\n",
       "      <td>68476147</td>\n",
       "      <td>12000.0</td>\n",
       "      <td>12000.0</td>\n",
       "      <td>11.48</td>\n",
       "      <td>B</td>\n",
       "      <td>B5</td>\n",
       "      <td>7 years</td>\n",
       "      <td>85000.0</td>\n",
       "      <td>2015-12-01</td>\n",
       "      <td>190</td>\n",
       "      <td>PA</td>\n",
       "      <td>2015</td>\n",
       "      <td>debt_consolidation</td>\n",
       "      <td>NaN</td>\n",
       "      <td>2015</td>\n",
       "      <td>PA</td>\n",
       "      <td>190.0</td>\n",
       "      <td>74320.007746</td>\n",
       "      <td>0.244831</td>\n",
       "      <td>0.067465</td>\n",
       "      <td>0.664309</td>\n",
       "      <td>0.370423</td>\n",
       "      <td>3762051</td>\n",
       "      <td>870215664420</td>\n",
       "    </tr>\n",
       "    <tr>\n",
       "      <th>4</th>\n",
       "      <td>68566142</td>\n",
       "      <td>35000.0</td>\n",
       "      <td>35000.0</td>\n",
       "      <td>17.97</td>\n",
       "      <td>D</td>\n",
       "      <td>D4</td>\n",
       "      <td>10+ years</td>\n",
       "      <td>150000.0</td>\n",
       "      <td>2015-12-01</td>\n",
       "      <td>190</td>\n",
       "      <td>PA</td>\n",
       "      <td>2015</td>\n",
       "      <td>debt_consolidation</td>\n",
       "      <td>NaN</td>\n",
       "      <td>2015</td>\n",
       "      <td>PA</td>\n",
       "      <td>190.0</td>\n",
       "      <td>74320.007746</td>\n",
       "      <td>0.244831</td>\n",
       "      <td>0.067465</td>\n",
       "      <td>0.664309</td>\n",
       "      <td>0.370423</td>\n",
       "      <td>3762051</td>\n",
       "      <td>870215664420</td>\n",
       "    </tr>\n",
       "  </tbody>\n",
       "</table>\n",
       "</div>"
      ],
      "text/plain": [
       "         id  loan_amnt  funded_amnt  int_rate grade sub_grade emp_length  \\\n",
       "0  68407277     3600.0       3600.0     13.99     C        C4  10+ years   \n",
       "1  68416249    12700.0      12700.0     17.97     D        D4    3 years   \n",
       "2  68486599    12000.0      12000.0      6.49     A        A2  10+ years   \n",
       "3  68476147    12000.0      12000.0     11.48     B        B5    7 years   \n",
       "4  68566142    35000.0      35000.0     17.97     D        D4  10+ years   \n",
       "\n",
       "   annual_inc    issue_d Zip_Code addr_state  year             purpose desc  \\\n",
       "0     55000.0 2015-12-01      190         PA  2015  debt_consolidation  NaN   \n",
       "1     32760.0 2015-12-01      190         PA  2015  debt_consolidation  NaN   \n",
       "2     65000.0 2015-12-01      190         PA  2015    home_improvement  NaN   \n",
       "3     85000.0 2015-12-01      190         PA  2015  debt_consolidation  NaN   \n",
       "4    150000.0 2015-12-01      190         PA  2015  debt_consolidation  NaN   \n",
       "\n",
       "   YEAR STATE   zip3        FAMINC  is_black  is_asian  is_white  is_college  \\\n",
       "0  2015    PA  190.0  74320.007746  0.244831  0.067465  0.664309    0.370423   \n",
       "1  2015    PA  190.0  74320.007746  0.244831  0.067465  0.664309    0.370423   \n",
       "2  2015    PA  190.0  74320.007746  0.244831  0.067465  0.664309    0.370423   \n",
       "3  2015    PA  190.0  74320.007746  0.244831  0.067465  0.664309    0.370423   \n",
       "4  2015    PA  190.0  74320.007746  0.244831  0.067465  0.664309    0.370423   \n",
       "\n",
       "   population       pop_sum  \n",
       "0     3762051  870215664420  \n",
       "1     3762051  870215664420  \n",
       "2     3762051  870215664420  \n",
       "3     3762051  870215664420  \n",
       "4     3762051  870215664420  "
      ]
     },
     "execution_count": 95,
     "metadata": {},
     "output_type": "execute_result"
    }
   ],
   "source": [
    "df_acpdemo = pd.merge(df_acpdemo, group, how = 'inner', on = [ 'year' ] )\n",
    "df_acpdemo.head()"
   ]
  },
  {
   "cell_type": "code",
   "execution_count": 96,
   "id": "5166158a-7e87-4296-944a-e8caf5767b08",
   "metadata": {},
   "outputs": [
    {
     "data": {
      "text/html": [
       "<div>\n",
       "<style scoped>\n",
       "    .dataframe tbody tr th:only-of-type {\n",
       "        vertical-align: middle;\n",
       "    }\n",
       "\n",
       "    .dataframe tbody tr th {\n",
       "        vertical-align: top;\n",
       "    }\n",
       "\n",
       "    .dataframe thead th {\n",
       "        text-align: right;\n",
       "    }\n",
       "</style>\n",
       "<table border=\"1\" class=\"dataframe\">\n",
       "  <thead>\n",
       "    <tr style=\"text-align: right;\">\n",
       "      <th></th>\n",
       "      <th>id</th>\n",
       "      <th>loan_amnt</th>\n",
       "      <th>funded_amnt</th>\n",
       "      <th>int_rate</th>\n",
       "      <th>grade</th>\n",
       "      <th>sub_grade</th>\n",
       "      <th>emp_length</th>\n",
       "      <th>annual_inc</th>\n",
       "      <th>issue_d</th>\n",
       "      <th>Zip_Code</th>\n",
       "      <th>addr_state</th>\n",
       "      <th>year</th>\n",
       "      <th>purpose</th>\n",
       "      <th>desc</th>\n",
       "      <th>YEAR</th>\n",
       "      <th>STATE</th>\n",
       "      <th>zip3</th>\n",
       "      <th>FAMINC</th>\n",
       "      <th>is_black</th>\n",
       "      <th>is_asian</th>\n",
       "      <th>is_white</th>\n",
       "      <th>is_college</th>\n",
       "      <th>population</th>\n",
       "      <th>pop_sum</th>\n",
       "      <th>black_loan_amnt</th>\n",
       "      <th>white_loan_amnt</th>\n",
       "      <th>asian_loan_amnt</th>\n",
       "      <th>black_pop</th>\n",
       "      <th>white_pop</th>\n",
       "      <th>asian_pop</th>\n",
       "    </tr>\n",
       "  </thead>\n",
       "  <tbody>\n",
       "    <tr>\n",
       "      <th>0</th>\n",
       "      <td>68407277</td>\n",
       "      <td>3600.0</td>\n",
       "      <td>3600.0</td>\n",
       "      <td>13.99</td>\n",
       "      <td>C</td>\n",
       "      <td>C4</td>\n",
       "      <td>10+ years</td>\n",
       "      <td>55000.0</td>\n",
       "      <td>2015-12-01</td>\n",
       "      <td>190</td>\n",
       "      <td>PA</td>\n",
       "      <td>2015</td>\n",
       "      <td>debt_consolidation</td>\n",
       "      <td>NaN</td>\n",
       "      <td>2015</td>\n",
       "      <td>PA</td>\n",
       "      <td>190.0</td>\n",
       "      <td>74320.007746</td>\n",
       "      <td>0.244831</td>\n",
       "      <td>0.067465</td>\n",
       "      <td>0.664309</td>\n",
       "      <td>0.370423</td>\n",
       "      <td>3762051</td>\n",
       "      <td>870215664420</td>\n",
       "      <td>881.392818</td>\n",
       "      <td>2391.512514</td>\n",
       "      <td>242.872688</td>\n",
       "      <td>0.244831</td>\n",
       "      <td>0.664309</td>\n",
       "      <td>0.067465</td>\n",
       "    </tr>\n",
       "    <tr>\n",
       "      <th>1</th>\n",
       "      <td>68416249</td>\n",
       "      <td>12700.0</td>\n",
       "      <td>12700.0</td>\n",
       "      <td>17.97</td>\n",
       "      <td>D</td>\n",
       "      <td>D4</td>\n",
       "      <td>3 years</td>\n",
       "      <td>32760.0</td>\n",
       "      <td>2015-12-01</td>\n",
       "      <td>190</td>\n",
       "      <td>PA</td>\n",
       "      <td>2015</td>\n",
       "      <td>debt_consolidation</td>\n",
       "      <td>NaN</td>\n",
       "      <td>2015</td>\n",
       "      <td>PA</td>\n",
       "      <td>190.0</td>\n",
       "      <td>74320.007746</td>\n",
       "      <td>0.244831</td>\n",
       "      <td>0.067465</td>\n",
       "      <td>0.664309</td>\n",
       "      <td>0.370423</td>\n",
       "      <td>3762051</td>\n",
       "      <td>870215664420</td>\n",
       "      <td>3109.357998</td>\n",
       "      <td>8436.724701</td>\n",
       "      <td>856.800871</td>\n",
       "      <td>0.244831</td>\n",
       "      <td>0.664309</td>\n",
       "      <td>0.067465</td>\n",
       "    </tr>\n",
       "    <tr>\n",
       "      <th>2</th>\n",
       "      <td>68486599</td>\n",
       "      <td>12000.0</td>\n",
       "      <td>12000.0</td>\n",
       "      <td>6.49</td>\n",
       "      <td>A</td>\n",
       "      <td>A2</td>\n",
       "      <td>10+ years</td>\n",
       "      <td>65000.0</td>\n",
       "      <td>2015-12-01</td>\n",
       "      <td>190</td>\n",
       "      <td>PA</td>\n",
       "      <td>2015</td>\n",
       "      <td>home_improvement</td>\n",
       "      <td>NaN</td>\n",
       "      <td>2015</td>\n",
       "      <td>PA</td>\n",
       "      <td>190.0</td>\n",
       "      <td>74320.007746</td>\n",
       "      <td>0.244831</td>\n",
       "      <td>0.067465</td>\n",
       "      <td>0.664309</td>\n",
       "      <td>0.370423</td>\n",
       "      <td>3762051</td>\n",
       "      <td>870215664420</td>\n",
       "      <td>2937.976061</td>\n",
       "      <td>7971.708379</td>\n",
       "      <td>809.575626</td>\n",
       "      <td>0.244831</td>\n",
       "      <td>0.664309</td>\n",
       "      <td>0.067465</td>\n",
       "    </tr>\n",
       "    <tr>\n",
       "      <th>3</th>\n",
       "      <td>68476147</td>\n",
       "      <td>12000.0</td>\n",
       "      <td>12000.0</td>\n",
       "      <td>11.48</td>\n",
       "      <td>B</td>\n",
       "      <td>B5</td>\n",
       "      <td>7 years</td>\n",
       "      <td>85000.0</td>\n",
       "      <td>2015-12-01</td>\n",
       "      <td>190</td>\n",
       "      <td>PA</td>\n",
       "      <td>2015</td>\n",
       "      <td>debt_consolidation</td>\n",
       "      <td>NaN</td>\n",
       "      <td>2015</td>\n",
       "      <td>PA</td>\n",
       "      <td>190.0</td>\n",
       "      <td>74320.007746</td>\n",
       "      <td>0.244831</td>\n",
       "      <td>0.067465</td>\n",
       "      <td>0.664309</td>\n",
       "      <td>0.370423</td>\n",
       "      <td>3762051</td>\n",
       "      <td>870215664420</td>\n",
       "      <td>2937.976061</td>\n",
       "      <td>7971.708379</td>\n",
       "      <td>809.575626</td>\n",
       "      <td>0.244831</td>\n",
       "      <td>0.664309</td>\n",
       "      <td>0.067465</td>\n",
       "    </tr>\n",
       "    <tr>\n",
       "      <th>4</th>\n",
       "      <td>68566142</td>\n",
       "      <td>35000.0</td>\n",
       "      <td>35000.0</td>\n",
       "      <td>17.97</td>\n",
       "      <td>D</td>\n",
       "      <td>D4</td>\n",
       "      <td>10+ years</td>\n",
       "      <td>150000.0</td>\n",
       "      <td>2015-12-01</td>\n",
       "      <td>190</td>\n",
       "      <td>PA</td>\n",
       "      <td>2015</td>\n",
       "      <td>debt_consolidation</td>\n",
       "      <td>NaN</td>\n",
       "      <td>2015</td>\n",
       "      <td>PA</td>\n",
       "      <td>190.0</td>\n",
       "      <td>74320.007746</td>\n",
       "      <td>0.244831</td>\n",
       "      <td>0.067465</td>\n",
       "      <td>0.664309</td>\n",
       "      <td>0.370423</td>\n",
       "      <td>3762051</td>\n",
       "      <td>870215664420</td>\n",
       "      <td>8569.096844</td>\n",
       "      <td>23250.816104</td>\n",
       "      <td>2361.262242</td>\n",
       "      <td>0.244831</td>\n",
       "      <td>0.664309</td>\n",
       "      <td>0.067465</td>\n",
       "    </tr>\n",
       "  </tbody>\n",
       "</table>\n",
       "</div>"
      ],
      "text/plain": [
       "         id  loan_amnt  funded_amnt  int_rate grade sub_grade emp_length  \\\n",
       "0  68407277     3600.0       3600.0     13.99     C        C4  10+ years   \n",
       "1  68416249    12700.0      12700.0     17.97     D        D4    3 years   \n",
       "2  68486599    12000.0      12000.0      6.49     A        A2  10+ years   \n",
       "3  68476147    12000.0      12000.0     11.48     B        B5    7 years   \n",
       "4  68566142    35000.0      35000.0     17.97     D        D4  10+ years   \n",
       "\n",
       "   annual_inc    issue_d Zip_Code addr_state  year             purpose desc  \\\n",
       "0     55000.0 2015-12-01      190         PA  2015  debt_consolidation  NaN   \n",
       "1     32760.0 2015-12-01      190         PA  2015  debt_consolidation  NaN   \n",
       "2     65000.0 2015-12-01      190         PA  2015    home_improvement  NaN   \n",
       "3     85000.0 2015-12-01      190         PA  2015  debt_consolidation  NaN   \n",
       "4    150000.0 2015-12-01      190         PA  2015  debt_consolidation  NaN   \n",
       "\n",
       "   YEAR STATE   zip3        FAMINC  is_black  is_asian  is_white  is_college  \\\n",
       "0  2015    PA  190.0  74320.007746  0.244831  0.067465  0.664309    0.370423   \n",
       "1  2015    PA  190.0  74320.007746  0.244831  0.067465  0.664309    0.370423   \n",
       "2  2015    PA  190.0  74320.007746  0.244831  0.067465  0.664309    0.370423   \n",
       "3  2015    PA  190.0  74320.007746  0.244831  0.067465  0.664309    0.370423   \n",
       "4  2015    PA  190.0  74320.007746  0.244831  0.067465  0.664309    0.370423   \n",
       "\n",
       "   population       pop_sum  black_loan_amnt  white_loan_amnt  \\\n",
       "0     3762051  870215664420       881.392818      2391.512514   \n",
       "1     3762051  870215664420      3109.357998      8436.724701   \n",
       "2     3762051  870215664420      2937.976061      7971.708379   \n",
       "3     3762051  870215664420      2937.976061      7971.708379   \n",
       "4     3762051  870215664420      8569.096844     23250.816104   \n",
       "\n",
       "   asian_loan_amnt  black_pop  white_pop  asian_pop  \n",
       "0       242.872688   0.244831   0.664309   0.067465  \n",
       "1       856.800871   0.244831   0.664309   0.067465  \n",
       "2       809.575626   0.244831   0.664309   0.067465  \n",
       "3       809.575626   0.244831   0.664309   0.067465  \n",
       "4      2361.262242   0.244831   0.664309   0.067465  "
      ]
     },
     "execution_count": 96,
     "metadata": {},
     "output_type": "execute_result"
    }
   ],
   "source": [
    "races = [ 'black', 'white', 'asian' ]\n",
    "sum_cols = [ 'loan_amnt' ]\n",
    "\n",
    "for col in sum_cols:\n",
    "    for race in races:\n",
    "        df_acpdemo[ race + '_' + col ] = df_acpdemo['is_'+race]*df_acpdemo[col]\n",
    "\n",
    "for race in races:\n",
    "    df_acpdemo[ race + '_pop' ] = df_acpdemo['is_'+race]\n",
    "        \n",
    "df_acpdemo.head()"
   ]
  },
  {
   "cell_type": "code",
   "execution_count": 291,
   "id": "563e7a59-1826-42fd-af26-9c23f7137102",
   "metadata": {},
   "outputs": [],
   "source": [
    "df_plot = df_acpdemo.groupby('year').agg(\n",
    "            {\n",
    "                'black_pop':sum,\n",
    "                'white_pop':sum,\n",
    "                'asian_pop':sum,\n",
    "                'black_loan_amnt':sum,\n",
    "                'white_loan_amnt':sum,                \n",
    "                'asian_loan_amnt':sum,\n",
    "                'year': 'first'\n",
    "            })\n",
    "\n",
    "for col in sum_cols:\n",
    "        for race in races:\n",
    "            race_col = race + '_' + col\n",
    "            avg_col =  race_col + '_avg'\n",
    "            df_plot[avg_col] = df_plot[race_col]/df_plot[race+'_pop']\n",
    "                "
   ]
  },
  {
   "cell_type": "code",
   "execution_count": 292,
   "id": "6b583e45-c882-4cb6-a7d8-eb2792fc9cf9",
   "metadata": {},
   "outputs": [
    {
     "data": {
      "text/html": [
       "<div>\n",
       "<style scoped>\n",
       "    .dataframe tbody tr th:only-of-type {\n",
       "        vertical-align: middle;\n",
       "    }\n",
       "\n",
       "    .dataframe tbody tr th {\n",
       "        vertical-align: top;\n",
       "    }\n",
       "\n",
       "    .dataframe thead th {\n",
       "        text-align: right;\n",
       "    }\n",
       "</style>\n",
       "<table border=\"1\" class=\"dataframe\">\n",
       "  <thead>\n",
       "    <tr style=\"text-align: right;\">\n",
       "      <th></th>\n",
       "      <th>black_pop</th>\n",
       "      <th>white_pop</th>\n",
       "      <th>asian_pop</th>\n",
       "      <th>black_loan_amnt</th>\n",
       "      <th>white_loan_amnt</th>\n",
       "      <th>asian_loan_amnt</th>\n",
       "      <th>year</th>\n",
       "      <th>black_loan_amnt_avg</th>\n",
       "      <th>white_loan_amnt_avg</th>\n",
       "      <th>asian_loan_amnt_avg</th>\n",
       "    </tr>\n",
       "    <tr>\n",
       "      <th>year</th>\n",
       "      <th></th>\n",
       "      <th></th>\n",
       "      <th></th>\n",
       "      <th></th>\n",
       "      <th></th>\n",
       "      <th></th>\n",
       "      <th></th>\n",
       "      <th></th>\n",
       "      <th></th>\n",
       "      <th></th>\n",
       "    </tr>\n",
       "  </thead>\n",
       "  <tbody>\n",
       "    <tr>\n",
       "      <th>2014</th>\n",
       "      <td>23279.636849</td>\n",
       "      <td>126398.564726</td>\n",
       "      <td>14283.425342</td>\n",
       "      <td>3.470270e+08</td>\n",
       "      <td>1.873267e+09</td>\n",
       "      <td>2.140090e+08</td>\n",
       "      <td>2014</td>\n",
       "      <td>14906.889681</td>\n",
       "      <td>14820.315461</td>\n",
       "      <td>14983.030811</td>\n",
       "    </tr>\n",
       "    <tr>\n",
       "      <th>2015</th>\n",
       "      <td>41103.965465</td>\n",
       "      <td>234158.370924</td>\n",
       "      <td>27521.224565</td>\n",
       "      <td>6.250602e+08</td>\n",
       "      <td>3.562947e+09</td>\n",
       "      <td>4.260375e+08</td>\n",
       "      <td>2015</td>\n",
       "      <td>15206.810161</td>\n",
       "      <td>15215.969153</td>\n",
       "      <td>15480.326094</td>\n",
       "    </tr>\n",
       "    <tr>\n",
       "      <th>2016</th>\n",
       "      <td>37834.697098</td>\n",
       "      <td>212883.741892</td>\n",
       "      <td>24746.938202</td>\n",
       "      <td>5.561796e+08</td>\n",
       "      <td>3.134625e+09</td>\n",
       "      <td>3.752294e+08</td>\n",
       "      <td>2016</td>\n",
       "      <td>14700.251934</td>\n",
       "      <td>14724.585409</td>\n",
       "      <td>15162.657888</td>\n",
       "    </tr>\n",
       "    <tr>\n",
       "      <th>2017</th>\n",
       "      <td>38955.901084</td>\n",
       "      <td>216254.127553</td>\n",
       "      <td>27334.400167</td>\n",
       "      <td>5.797417e+08</td>\n",
       "      <td>3.215808e+09</td>\n",
       "      <td>4.177611e+08</td>\n",
       "      <td>2017</td>\n",
       "      <td>14881.998313</td>\n",
       "      <td>14870.506513</td>\n",
       "      <td>15283.344727</td>\n",
       "    </tr>\n",
       "    <tr>\n",
       "      <th>2018</th>\n",
       "      <td>43949.723976</td>\n",
       "      <td>238737.116368</td>\n",
       "      <td>31135.745931</td>\n",
       "      <td>7.050072e+08</td>\n",
       "      <td>3.833783e+09</td>\n",
       "      <td>5.125744e+08</td>\n",
       "      <td>2018</td>\n",
       "      <td>16041.220451</td>\n",
       "      <td>16058.594759</td>\n",
       "      <td>16462.571358</td>\n",
       "    </tr>\n",
       "  </tbody>\n",
       "</table>\n",
       "</div>"
      ],
      "text/plain": [
       "         black_pop      white_pop     asian_pop  black_loan_amnt  \\\n",
       "year                                                               \n",
       "2014  23279.636849  126398.564726  14283.425342     3.470270e+08   \n",
       "2015  41103.965465  234158.370924  27521.224565     6.250602e+08   \n",
       "2016  37834.697098  212883.741892  24746.938202     5.561796e+08   \n",
       "2017  38955.901084  216254.127553  27334.400167     5.797417e+08   \n",
       "2018  43949.723976  238737.116368  31135.745931     7.050072e+08   \n",
       "\n",
       "      white_loan_amnt  asian_loan_amnt  year  black_loan_amnt_avg  \\\n",
       "year                                                                \n",
       "2014     1.873267e+09     2.140090e+08  2014         14906.889681   \n",
       "2015     3.562947e+09     4.260375e+08  2015         15206.810161   \n",
       "2016     3.134625e+09     3.752294e+08  2016         14700.251934   \n",
       "2017     3.215808e+09     4.177611e+08  2017         14881.998313   \n",
       "2018     3.833783e+09     5.125744e+08  2018         16041.220451   \n",
       "\n",
       "      white_loan_amnt_avg  asian_loan_amnt_avg  \n",
       "year                                            \n",
       "2014         14820.315461         14983.030811  \n",
       "2015         15215.969153         15480.326094  \n",
       "2016         14724.585409         15162.657888  \n",
       "2017         14870.506513         15283.344727  \n",
       "2018         16058.594759         16462.571358  "
      ]
     },
     "execution_count": 292,
     "metadata": {},
     "output_type": "execute_result"
    }
   ],
   "source": [
    "df_plot"
   ]
  },
  {
   "cell_type": "code",
   "execution_count": 293,
   "id": "5d9b4b63-1dc9-4ae4-86a1-3d79cb857f9a",
   "metadata": {},
   "outputs": [
    {
     "data": {
      "text/plain": [
       "Int64Index([2014, 2015, 2016, 2017, 2018], dtype='int64', name='year')"
      ]
     },
     "execution_count": 293,
     "metadata": {},
     "output_type": "execute_result"
    }
   ],
   "source": [
    "df_plot.index"
   ]
  },
  {
   "cell_type": "code",
   "execution_count": 295,
   "id": "1502799d-b4f8-4175-aed3-1ef5e7195c9c",
   "metadata": {},
   "outputs": [
    {
     "data": {
      "image/png": "[encoded data removed]",
      "text/plain": [
       "<Figure size 576x576 with 1 Axes>"
      ]
     },
     "metadata": {
      "needs_background": "light"
     },
     "output_type": "display_data"
    }
   ],
   "source": [
    "fields = ['white_loan_amnt','black_loan_amnt','asian_loan_amnt']\n",
    "colors = ['#1D2F6F', '#8390FA', '#FAC748']\n",
    "labels = ['White', 'Black', 'Asian' ]\n",
    "\n",
    "# figure and axis\n",
    "fig, ax = plt.subplots(1, figsize=(8, 8))\n",
    "# plot bars\n",
    "bottom = len(df_plot) * [0]\n",
    "for idx, name in enumerate(fields):\n",
    "    plt.bar(df_plot.index, df_plot[name], bottom=bottom, color=colors[idx])\n",
    "    bottom = bottom + df_plot[name]\n",
    "\n",
    "# title, legend, labels\n",
    "#plt.title('Total Issued Loans($) by Race\\n', loc='center', fontsize = 15)\n",
    "plt.legend(labels, ncol=3, loc= 'best', frameon=False, fontsize = 15)\n",
    "plt.xlabel('Year', fontsize = 15)\n",
    "plt.ylabel('Total Loan Issued ($billion)', fontsize = 15)\n",
    "\n",
    "# remove spines\n",
    "ax.spines['right'].set_visible(False)\n",
    "ax.spines['left'].set_visible(False)\n",
    "ax.spines['top'].set_visible(False)\n",
    "ax.spines['bottom'].set_visible(False)\n",
    "\n",
    "plt.ylim(0, ax.get_yticks()[-1] + 0.5)\n",
    "ax.yaxis.grid(color='gray', linestyle='dashed')\n",
    "plt.rcParams.update({'font.size': 15})\n",
    "plt.show()"
   ]
  },
  {
   "cell_type": "code",
   "execution_count": 250,
   "id": "5cb3d3bf-b7d8-49be-a715-b862016f8f21",
   "metadata": {},
   "outputs": [
    {
     "data": {
      "image/png": "[encoded data removed]",
      "text/plain": [
       "<Figure size 576x576 with 1 Axes>"
      ]
     },
     "metadata": {
      "needs_background": "light"
     },
     "output_type": "display_data"
    }
   ],
   "source": [
    "df_plot['total loan amt'] = df_plot['white_loan_amnt'] + df_plot['black_loan_amnt'] + df_plot['asian_loan_amnt']\n",
    "\n",
    "for race in races:\n",
    "    df_plot[race+'_perc'] = df_plot[race+'_loan_amnt']*100/df_plot['total loan amt']\n",
    "\n",
    "fields = ['white_perc','black_perc','asian_perc']\n",
    "colors = ['#1D2F6F', '#8390FA', '#FAC748']\n",
    "labels = ['White', 'Black', 'Asian' ]\n",
    "\n",
    "# figure and axis\n",
    "fig, ax = plt.subplots(1, figsize=(8, 8))\n",
    "# plot bars\n",
    "bottom = len(df_plot) * [0]\n",
    "for idx, name in enumerate(fields):\n",
    "    plt.bar(df_plot.index, df_plot[name], bottom=bottom, color=colors[idx])\n",
    "    bottom = bottom + df_plot[name]\n",
    "\n",
    "# title, legend, labels\n",
    "plt.title('Percentage of Issued Loans by Race\\n', loc='center', fontsize = 15)\n",
    "plt.legend(labels, ncol=3, loc= 'best', frameon=False, fontsize = 15)\n",
    "plt.xlabel('Year', fontsize = 15)\n",
    "plt.ylabel('Total Loan Issued (%)', fontsize = 15)\n",
    "\n",
    "# remove spines\n",
    "ax.spines['right'].set_visible(False)\n",
    "ax.spines['left'].set_visible(False)\n",
    "ax.spines['top'].set_visible(False)\n",
    "ax.spines['bottom'].set_visible(False)\n",
    "\n",
    "plt.ylim(0, ax.get_yticks()[-1] - 0.1)\n",
    "ax.yaxis.grid(color='gray', linestyle='dashed')\n",
    "plt.rcParams.update({'font.size': 15})\n",
    "plt.show()"
   ]
  },
  {
   "cell_type": "code",
   "execution_count": 126,
   "id": "b893244e-c981-41e2-9949-e803aff2829f",
   "metadata": {},
   "outputs": [
    {
     "data": {
      "text/plain": [
       "Index(['black_pop', 'white_pop', 'asian_pop', 'black_loan_amnt',\n",
       "       'white_loan_amnt', 'asian_loan_amnt', 'year', 'black_loan_amnt_avg',\n",
       "       'white_loan_amnt_avg', 'asian_loan_amnt_avg'],\n",
       "      dtype='object')"
      ]
     },
     "execution_count": 126,
     "metadata": {},
     "output_type": "execute_result"
    }
   ],
   "source": [
    "df_plot.columns"
   ]
  },
  {
   "cell_type": "code",
   "execution_count": 290,
   "id": "7935796d-609a-4f9c-8485-4354c7c6e5ad",
   "metadata": {},
   "outputs": [
    {
     "data": {
      "application/vnd.plotly.v1+json": {
       "config": {
        "plotlyServerURL": "https://plot.ly"
       },
       "data": [
        {
         "hovertemplate": "variable=Black<br>Year=%{x}<br>Average Loan Amount=%{y}<extra></extra>",
         "legendgroup": "Black",
         "line": {
          "color": "#636efa",
          "dash": "solid"
         },
         "marker": {
          "symbol": "circle"
         },
         "mode": "lines+markers",
         "name": "Black",
         "orientation": "v",
         "showlegend": true,
         "type": "scatter",
         "x": [
          "2014",
          "2015",
          "2016",
          "2017",
          "2018"
         ],
         "xaxis": "x",
         "y": [
          14906.889681457842,
          15206.81016103941,
          14700.251934382582,
          14881.998312781792,
          16041.220451138597
         ],
         "yaxis": "y"
        },
        {
         "hovertemplate": "variable=White<br>Year=%{x}<br>Average Loan Amount=%{y}<extra></extra>",
         "legendgroup": "White",
         "line": {
          "color": "#EF553B",
          "dash": "solid"
         },
         "marker": {
          "symbol": "circle"
         },
         "mode": "lines+markers",
         "name": "White",
         "orientation": "v",
         "showlegend": true,
         "type": "scatter",
         "x": [
          "2014",
          "2015",
          "2016",
          "2017",
          "2018"
         ],
         "xaxis": "x",
         "y": [
          14820.315460608133,
          15215.969153236261,
          14724.58540879399,
          14870.506512885064,
          16058.594758504072
         ],
         "yaxis": "y"
        },
        {
         "hovertemplate": "variable=Asian<br>Year=%{x}<br>Average Loan Amount=%{y}<extra></extra>",
         "legendgroup": "Asian",
         "line": {
          "color": "#00cc96",
          "dash": "solid"
         },
         "marker": {
          "symbol": "circle"
         },
         "mode": "lines+markers",
         "name": "Asian",
         "orientation": "v",
         "showlegend": true,
         "type": "scatter",
         "x": [
          "2014",
          "2015",
          "2016",
          "2017",
          "2018"
         ],
         "xaxis": "x",
         "y": [
          14983.030811493583,
          15480.326094389364,
          15162.657888042848,
          15283.344726628215,
          16462.57135848946
         ],
         "yaxis": "y"
        }
       ],
       "layout": {
        "autosize": true,
        "legend": {
         "bordercolor": "Black",
         "borderwidth": 1,
         "orientation": "h",
         "title": {
          "text": ""
         },
         "tracegroupgap": 0,
         "x": 0,
         "y": 1
        },
        "margin": {
         "t": 60
        },
        "template": {
         "data": {
          "bar": [
           {
            "error_x": {
             "color": "#2a3f5f"
            },
            "error_y": {
             "color": "#2a3f5f"
            },
            "marker": {
             "line": {
              "color": "#E5ECF6",
              "width": 0.5
             },
             "pattern": {
              "fillmode": "overlay",
              "size": 10,
              "solidity": 0.2
             }
            },
            "type": "bar"
           }
          ],
          "barpolar": [
           {
            "marker": {
             "line": {
              "color": "#E5ECF6",
              "width": 0.5
             },
             "pattern": {
              "fillmode": "overlay",
              "size": 10,
              "solidity": 0.2
             }
            },
            "type": "barpolar"
           }
          ],
          "carpet": [
           {
            "aaxis": {
             "endlinecolor": "#2a3f5f",
             "gridcolor": "white",
             "linecolor": "white",
             "minorgridcolor": "white",
             "startlinecolor": "#2a3f5f"
            },
            "baxis": {
             "endlinecolor": "#2a3f5f",
             "gridcolor": "white",
             "linecolor": "white",
             "minorgridcolor": "white",
             "startlinecolor": "#2a3f5f"
            },
            "type": "carpet"
           }
          ],
          "choropleth": [
           {
            "colorbar": {
             "outlinewidth": 0,
             "ticks": ""
            },
            "type": "choropleth"
           }
          ],
          "contour": [
           {
            "colorbar": {
             "outlinewidth": 0,
             "ticks": ""
            },
            "colorscale": [
             [
              0,
              "#0d0887"
             ],
             [
              0.1111111111111111,
              "#46039f"
             ],
             [
              0.2222222222222222,
              "#7201a8"
             ],
             [
              0.3333333333333333,
              "#9c179e"
             ],
             [
              0.4444444444444444,
              "#bd3786"
             ],
             [
              0.5555555555555556,
              "#d8576b"
             ],
             [
              0.6666666666666666,
              "#ed7953"
             ],
             [
              0.7777777777777778,
              "#fb9f3a"
             ],
             [
              0.8888888888888888,
              "#fdca26"
             ],
             [
              1,
              "#f0f921"
             ]
            ],
            "type": "contour"
           }
          ],
          "contourcarpet": [
           {
            "colorbar": {
             "outlinewidth": 0,
             "ticks": ""
            },
            "type": "contourcarpet"
           }
          ],
          "heatmap": [
           {
            "colorbar": {
             "outlinewidth": 0,
             "ticks": ""
            },
            "colorscale": [
             [
              0,
              "#0d0887"
             ],
             [
              0.1111111111111111,
              "#46039f"
             ],
             [
              0.2222222222222222,
              "#7201a8"
             ],
             [
              0.3333333333333333,
              "#9c179e"
             ],
             [
              0.4444444444444444,
              "#bd3786"
             ],
             [
              0.5555555555555556,
              "#d8576b"
             ],
             [
              0.6666666666666666,
              "#ed7953"
             ],
             [
              0.7777777777777778,
              "#fb9f3a"
             ],
             [
              0.8888888888888888,
              "#fdca26"
             ],
             [
              1,
              "#f0f921"
             ]
            ],
            "type": "heatmap"
           }
          ],
          "heatmapgl": [
           {
            "colorbar": {
             "outlinewidth": 0,
             "ticks": ""
            },
            "colorscale": [
             [
              0,
              "#0d0887"
             ],
             [
              0.1111111111111111,
              "#46039f"
             ],
             [
              0.2222222222222222,
              "#7201a8"
             ],
             [
              0.3333333333333333,
              "#9c179e"
             ],
             [
              0.4444444444444444,
              "#bd3786"
             ],
             [
              0.5555555555555556,
              "#d8576b"
             ],
             [
              0.6666666666666666,
              "#ed7953"
             ],
             [
              0.7777777777777778,
              "#fb9f3a"
             ],
             [
              0.8888888888888888,
              "#fdca26"
             ],
             [
              1,
              "#f0f921"
             ]
            ],
            "type": "heatmapgl"
           }
          ],
          "histogram": [
           {
            "marker": {
             "pattern": {
              "fillmode": "overlay",
              "size": 10,
              "solidity": 0.2
             }
            },
            "type": "histogram"
           }
          ],
          "histogram2d": [
           {
            "colorbar": {
             "outlinewidth": 0,
             "ticks": ""
            },
            "colorscale": [
             [
              0,
              "#0d0887"
             ],
             [
              0.1111111111111111,
              "#46039f"
             ],
             [
              0.2222222222222222,
              "#7201a8"
             ],
             [
              0.3333333333333333,
              "#9c179e"
             ],
             [
              0.4444444444444444,
              "#bd3786"
             ],
             [
              0.5555555555555556,
              "#d8576b"
             ],
             [
              0.6666666666666666,
              "#ed7953"
             ],
             [
              0.7777777777777778,
              "#fb9f3a"
             ],
             [
              0.8888888888888888,
              "#fdca26"
             ],
             [
              1,
              "#f0f921"
             ]
            ],
            "type": "histogram2d"
           }
          ],
          "histogram2dcontour": [
           {
            "colorbar": {
             "outlinewidth": 0,
             "ticks": ""
            },
            "colorscale": [
             [
              0,
              "#0d0887"
             ],
             [
              0.1111111111111111,
              "#46039f"
             ],
             [
              0.2222222222222222,
              "#7201a8"
             ],
             [
              0.3333333333333333,
              "#9c179e"
             ],
             [
              0.4444444444444444,
              "#bd3786"
             ],
             [
              0.5555555555555556,
              "#d8576b"
             ],
             [
              0.6666666666666666,
              "#ed7953"
             ],
             [
              0.7777777777777778,
              "#fb9f3a"
             ],
             [
              0.8888888888888888,
              "#fdca26"
             ],
             [
              1,
              "#f0f921"
             ]
            ],
            "type": "histogram2dcontour"
           }
          ],
          "mesh3d": [
           {
            "colorbar": {
             "outlinewidth": 0,
             "ticks": ""
            },
            "type": "mesh3d"
           }
          ],
          "parcoords": [
           {
            "line": {
             "colorbar": {
              "outlinewidth": 0,
              "ticks": ""
             }
            },
            "type": "parcoords"
           }
          ],
          "pie": [
           {
            "automargin": true,
            "type": "pie"
           }
          ],
          "scatter": [
           {
            "marker": {
             "colorbar": {
              "outlinewidth": 0,
              "ticks": ""
             }
            },
            "type": "scatter"
           }
          ],
          "scatter3d": [
           {
            "line": {
             "colorbar": {
              "outlinewidth": 0,
              "ticks": ""
             }
            },
            "marker": {
             "colorbar": {
              "outlinewidth": 0,
              "ticks": ""
             }
            },
            "type": "scatter3d"
           }
          ],
          "scattercarpet": [
           {
            "marker": {
             "colorbar": {
              "outlinewidth": 0,
              "ticks": ""
             }
            },
            "type": "scattercarpet"
           }
          ],
          "scattergeo": [
           {
            "marker": {
             "colorbar": {
              "outlinewidth": 0,
              "ticks": ""
             }
            },
            "type": "scattergeo"
           }
          ],
          "scattergl": [
           {
            "marker": {
             "colorbar": {
              "outlinewidth": 0,
              "ticks": ""
             }
            },
            "type": "scattergl"
           }
          ],
          "scattermapbox": [
           {
            "marker": {
             "colorbar": {
              "outlinewidth": 0,
              "ticks": ""
             }
            },
            "type": "scattermapbox"
           }
          ],
          "scatterpolar": [
           {
            "marker": {
             "colorbar": {
              "outlinewidth": 0,
              "ticks": ""
             }
            },
            "type": "scatterpolar"
           }
          ],
          "scatterpolargl": [
           {
            "marker": {
             "colorbar": {
              "outlinewidth": 0,
              "ticks": ""
             }
            },
            "type": "scatterpolargl"
           }
          ],
          "scatterternary": [
           {
            "marker": {
             "colorbar": {
              "outlinewidth": 0,
              "ticks": ""
             }
            },
            "type": "scatterternary"
           }
          ],
          "surface": [
           {
            "colorbar": {
             "outlinewidth": 0,
             "ticks": ""
            },
            "colorscale": [
             [
              0,
              "#0d0887"
             ],
             [
              0.1111111111111111,
              "#46039f"
             ],
             [
              0.2222222222222222,
              "#7201a8"
             ],
             [
              0.3333333333333333,
              "#9c179e"
             ],
             [
              0.4444444444444444,
              "#bd3786"
             ],
             [
              0.5555555555555556,
              "#d8576b"
             ],
             [
              0.6666666666666666,
              "#ed7953"
             ],
             [
              0.7777777777777778,
              "#fb9f3a"
             ],
             [
              0.8888888888888888,
              "#fdca26"
             ],
             [
              1,
              "#f0f921"
             ]
            ],
            "type": "surface"
           }
          ],
          "table": [
           {
            "cells": {
             "fill": {
              "color": "#EBF0F8"
             },
             "line": {
              "color": "white"
             }
            },
            "header": {
             "fill": {
              "color": "#C8D4E3"
             },
             "line": {
              "color": "white"
             }
            },
            "type": "table"
           }
          ]
         },
         "layout": {
          "annotationdefaults": {
           "arrowcolor": "#2a3f5f",
           "arrowhead": 0,
           "arrowwidth": 1
          },
          "autotypenumbers": "strict",
          "coloraxis": {
           "colorbar": {
            "outlinewidth": 0,
            "ticks": ""
           }
          },
          "colorscale": {
           "diverging": [
            [
             0,
             "#8e0152"
            ],
            [
             0.1,
             "#c51b7d"
            ],
            [
             0.2,
             "#de77ae"
            ],
            [
             0.3,
             "#f1b6da"
            ],
            [
             0.4,
             "#fde0ef"
            ],
            [
             0.5,
             "#f7f7f7"
            ],
            [
             0.6,
             "#e6f5d0"
            ],
            [
             0.7,
             "#b8e186"
            ],
            [
             0.8,
             "#7fbc41"
            ],
            [
             0.9,
             "#4d9221"
            ],
            [
             1,
             "#276419"
            ]
           ],
           "sequential": [
            [
             0,
             "#0d0887"
            ],
            [
             0.1111111111111111,
             "#46039f"
            ],
            [
             0.2222222222222222,
             "#7201a8"
            ],
            [
             0.3333333333333333,
             "#9c179e"
            ],
            [
             0.4444444444444444,
             "#bd3786"
            ],
            [
             0.5555555555555556,
             "#d8576b"
            ],
            [
             0.6666666666666666,
             "#ed7953"
            ],
            [
             0.7777777777777778,
             "#fb9f3a"
            ],
            [
             0.8888888888888888,
             "#fdca26"
            ],
            [
             1,
             "#f0f921"
            ]
           ],
           "sequentialminus": [
            [
             0,
             "#0d0887"
            ],
            [
             0.1111111111111111,
             "#46039f"
            ],
            [
             0.2222222222222222,
             "#7201a8"
            ],
            [
             0.3333333333333333,
             "#9c179e"
            ],
            [
             0.4444444444444444,
             "#bd3786"
            ],
            [
             0.5555555555555556,
             "#d8576b"
            ],
            [
             0.6666666666666666,
             "#ed7953"
            ],
            [
             0.7777777777777778,
             "#fb9f3a"
            ],
            [
             0.8888888888888888,
             "#fdca26"
            ],
            [
             1,
             "#f0f921"
            ]
           ]
          },
          "colorway": [
           "#636efa",
           "#EF553B",
           "#00cc96",
           "#ab63fa",
           "#FFA15A",
           "#19d3f3",
           "#FF6692",
           "#B6E880",
           "#FF97FF",
           "#FECB52"
          ],
          "font": {
           "color": "#2a3f5f"
          },
          "geo": {
           "bgcolor": "white",
           "lakecolor": "white",
           "landcolor": "#E5ECF6",
           "showlakes": true,
           "showland": true,
           "subunitcolor": "white"
          },
          "hoverlabel": {
           "align": "left"
          },
          "hovermode": "closest",
          "mapbox": {
           "style": "light"
          },
          "paper_bgcolor": "white",
          "plot_bgcolor": "#E5ECF6",
          "polar": {
           "angularaxis": {
            "gridcolor": "white",
            "linecolor": "white",
            "ticks": ""
           },
           "bgcolor": "#E5ECF6",
           "radialaxis": {
            "gridcolor": "white",
            "linecolor": "white",
            "ticks": ""
           }
          },
          "scene": {
           "xaxis": {
            "backgroundcolor": "#E5ECF6",
            "gridcolor": "white",
            "gridwidth": 2,
            "linecolor": "white",
            "showbackground": true,
            "ticks": "",
            "zerolinecolor": "white"
           },
           "yaxis": {
            "backgroundcolor": "#E5ECF6",
            "gridcolor": "white",
            "gridwidth": 2,
            "linecolor": "white",
            "showbackground": true,
            "ticks": "",
            "zerolinecolor": "white"
           },
           "zaxis": {
            "backgroundcolor": "#E5ECF6",
            "gridcolor": "white",
            "gridwidth": 2,
            "linecolor": "white",
            "showbackground": true,
            "ticks": "",
            "zerolinecolor": "white"
           }
          },
          "shapedefaults": {
           "line": {
            "color": "#2a3f5f"
           }
          },
          "ternary": {
           "aaxis": {
            "gridcolor": "white",
            "linecolor": "white",
            "ticks": ""
           },
           "baxis": {
            "gridcolor": "white",
            "linecolor": "white",
            "ticks": ""
           },
           "bgcolor": "#E5ECF6",
           "caxis": {
            "gridcolor": "white",
            "linecolor": "white",
            "ticks": ""
           }
          },
          "title": {
           "x": 0.05
          },
          "xaxis": {
           "automargin": true,
           "gridcolor": "white",
           "linecolor": "white",
           "ticks": "",
           "title": {
            "standoff": 15
           },
           "zerolinecolor": "white",
           "zerolinewidth": 2
          },
          "yaxis": {
           "automargin": true,
           "gridcolor": "white",
           "linecolor": "white",
           "ticks": "",
           "title": {
            "standoff": 15
           },
           "zerolinecolor": "white",
           "zerolinewidth": 2
          }
         }
        },
        "xaxis": {
         "anchor": "y",
         "autorange": true,
         "domain": [
          0,
          1
         ],
         "range": [
          -0.24795429983016828,
          4.247954299830169
         ],
         "title": {
          "text": "Year"
         },
         "type": "category"
        },
        "yaxis": {
         "anchor": "x",
         "autorange": true,
         "domain": [
          0,
          1
         ],
         "range": [
          14563.799380547536,
          16599.023912324505
         ],
         "title": {
          "text": "Average Loan Amount"
         },
         "type": "linear"
        }
       }
      },
      "image/png": "[encoded data removed]",
      "text/html": [
       "<div>                            <div id=\"b17f7f3f-1822-487e-9bda-1399cba9f62f\" class=\"plotly-graph-div\" style=\"height:525px; width:100%;\"></div>            <script type=\"text/javascript\">                require([\"plotly\"], function(Plotly) {                    window.PLOTLYENV=window.PLOTLYENV || {};                                    if (document.getElementById(\"b17f7f3f-1822-487e-9bda-1399cba9f62f\")) {                    Plotly.newPlot(                        \"b17f7f3f-1822-487e-9bda-1399cba9f62f\",                        [{\"hovertemplate\":\"variable=Black<br>Year=%{x}<br>Average Loan Amount=%{y}<extra></extra>\",\"legendgroup\":\"Black\",\"line\":{\"color\":\"#636efa\",\"dash\":\"solid\"},\"marker\":{\"symbol\":\"circle\"},\"mode\":\"lines+markers\",\"name\":\"Black\",\"orientation\":\"v\",\"showlegend\":true,\"x\":[\"2014\",\"2015\",\"2016\",\"2017\",\"2018\"],\"xaxis\":\"x\",\"y\":[14906.889681457842,15206.81016103941,14700.251934382582,14881.998312781792,16041.220451138597],\"yaxis\":\"y\",\"type\":\"scatter\"},{\"hovertemplate\":\"variable=White<br>Year=%{x}<br>Average Loan Amount=%{y}<extra></extra>\",\"legendgroup\":\"White\",\"line\":{\"color\":\"#EF553B\",\"dash\":\"solid\"},\"marker\":{\"symbol\":\"circle\"},\"mode\":\"lines+markers\",\"name\":\"White\",\"orientation\":\"v\",\"showlegend\":true,\"x\":[\"2014\",\"2015\",\"2016\",\"2017\",\"2018\"],\"xaxis\":\"x\",\"y\":[14820.315460608133,15215.969153236261,14724.58540879399,14870.506512885064,16058.594758504072],\"yaxis\":\"y\",\"type\":\"scatter\"},{\"hovertemplate\":\"variable=Asian<br>Year=%{x}<br>Average Loan Amount=%{y}<extra></extra>\",\"legendgroup\":\"Asian\",\"line\":{\"color\":\"#00cc96\",\"dash\":\"solid\"},\"marker\":{\"symbol\":\"circle\"},\"mode\":\"lines+markers\",\"name\":\"Asian\",\"orientation\":\"v\",\"showlegend\":true,\"x\":[\"2014\",\"2015\",\"2016\",\"2017\",\"2018\"],\"xaxis\":\"x\",\"y\":[14983.030811493583,15480.326094389364,15162.657888042848,15283.344726628215,16462.57135848946],\"yaxis\":\"y\",\"type\":\"scatter\"}],                        {\"template\":{\"data\":{\"bar\":[{\"error_x\":{\"color\":\"#2a3f5f\"},\"error_y\":{\"color\":\"#2a3f5f\"},\"marker\":{\"line\":{\"color\":\"#E5ECF6\",\"width\":0.5},\"pattern\":{\"fillmode\":\"overlay\",\"size\":10,\"solidity\":0.2}},\"type\":\"bar\"}],\"barpolar\":[{\"marker\":{\"line\":{\"color\":\"#E5ECF6\",\"width\":0.5},\"pattern\":{\"fillmode\":\"overlay\",\"size\":10,\"solidity\":0.2}},\"type\":\"barpolar\"}],\"carpet\":[{\"aaxis\":{\"endlinecolor\":\"#2a3f5f\",\"gridcolor\":\"white\",\"linecolor\":\"white\",\"minorgridcolor\":\"white\",\"startlinecolor\":\"#2a3f5f\"},\"baxis\":{\"endlinecolor\":\"#2a3f5f\",\"gridcolor\":\"white\",\"linecolor\":\"white\",\"minorgridcolor\":\"white\",\"startlinecolor\":\"#2a3f5f\"},\"type\":\"carpet\"}],\"choropleth\":[{\"colorbar\":{\"outlinewidth\":0,\"ticks\":\"\"},\"type\":\"choropleth\"}],\"contour\":[{\"colorbar\":{\"outlinewidth\":0,\"ticks\":\"\"},\"colorscale\":[[0.0,\"#0d0887\"],[0.1111111111111111,\"#46039f\"],[0.2222222222222222,\"#7201a8\"],[0.3333333333333333,\"#9c179e\"],[0.4444444444444444,\"#bd3786\"],[0.5555555555555556,\"#d8576b\"],[0.6666666666666666,\"#ed7953\"],[0.7777777777777778,\"#fb9f3a\"],[0.8888888888888888,\"#fdca26\"],[1.0,\"#f0f921\"]],\"type\":\"contour\"}],\"contourcarpet\":[{\"colorbar\":{\"outlinewidth\":0,\"ticks\":\"\"},\"type\":\"contourcarpet\"}],\"heatmap\":[{\"colorbar\":{\"outlinewidth\":0,\"ticks\":\"\"},\"colorscale\":[[0.0,\"#0d0887\"],[0.1111111111111111,\"#46039f\"],[0.2222222222222222,\"#7201a8\"],[0.3333333333333333,\"#9c179e\"],[0.4444444444444444,\"#bd3786\"],[0.5555555555555556,\"#d8576b\"],[0.6666666666666666,\"#ed7953\"],[0.7777777777777778,\"#fb9f3a\"],[0.8888888888888888,\"#fdca26\"],[1.0,\"#f0f921\"]],\"type\":\"heatmap\"}],\"heatmapgl\":[{\"colorbar\":{\"outlinewidth\":0,\"ticks\":\"\"},\"colorscale\":[[0.0,\"#0d0887\"],[0.1111111111111111,\"#46039f\"],[0.2222222222222222,\"#7201a8\"],[0.3333333333333333,\"#9c179e\"],[0.4444444444444444,\"#bd3786\"],[0.5555555555555556,\"#d8576b\"],[0.6666666666666666,\"#ed7953\"],[0.7777777777777778,\"#fb9f3a\"],[0.8888888888888888,\"#fdca26\"],[1.0,\"#f0f921\"]],\"type\":\"heatmapgl\"}],\"histogram\":[{\"marker\":{\"pattern\":{\"fillmode\":\"overlay\",\"size\":10,\"solidity\":0.2}},\"type\":\"histogram\"}],\"histogram2d\":[{\"colorbar\":{\"outlinewidth\":0,\"ticks\":\"\"},\"colorscale\":[[0.0,\"#0d0887\"],[0.1111111111111111,\"#46039f\"],[0.2222222222222222,\"#7201a8\"],[0.3333333333333333,\"#9c179e\"],[0.4444444444444444,\"#bd3786\"],[0.5555555555555556,\"#d8576b\"],[0.6666666666666666,\"#ed7953\"],[0.7777777777777778,\"#fb9f3a\"],[0.8888888888888888,\"#fdca26\"],[1.0,\"#f0f921\"]],\"type\":\"histogram2d\"}],\"histogram2dcontour\":[{\"colorbar\":{\"outlinewidth\":0,\"ticks\":\"\"},\"colorscale\":[[0.0,\"#0d0887\"],[0.1111111111111111,\"#46039f\"],[0.2222222222222222,\"#7201a8\"],[0.3333333333333333,\"#9c179e\"],[0.4444444444444444,\"#bd3786\"],[0.5555555555555556,\"#d8576b\"],[0.6666666666666666,\"#ed7953\"],[0.7777777777777778,\"#fb9f3a\"],[0.8888888888888888,\"#fdca26\"],[1.0,\"#f0f921\"]],\"type\":\"histogram2dcontour\"}],\"mesh3d\":[{\"colorbar\":{\"outlinewidth\":0,\"ticks\":\"\"},\"type\":\"mesh3d\"}],\"parcoords\":[{\"line\":{\"colorbar\":{\"outlinewidth\":0,\"ticks\":\"\"}},\"type\":\"parcoords\"}],\"pie\":[{\"automargin\":true,\"type\":\"pie\"}],\"scatter\":[{\"marker\":{\"colorbar\":{\"outlinewidth\":0,\"ticks\":\"\"}},\"type\":\"scatter\"}],\"scatter3d\":[{\"line\":{\"colorbar\":{\"outlinewidth\":0,\"ticks\":\"\"}},\"marker\":{\"colorbar\":{\"outlinewidth\":0,\"ticks\":\"\"}},\"type\":\"scatter3d\"}],\"scattercarpet\":[{\"marker\":{\"colorbar\":{\"outlinewidth\":0,\"ticks\":\"\"}},\"type\":\"scattercarpet\"}],\"scattergeo\":[{\"marker\":{\"colorbar\":{\"outlinewidth\":0,\"ticks\":\"\"}},\"type\":\"scattergeo\"}],\"scattergl\":[{\"marker\":{\"colorbar\":{\"outlinewidth\":0,\"ticks\":\"\"}},\"type\":\"scattergl\"}],\"scattermapbox\":[{\"marker\":{\"colorbar\":{\"outlinewidth\":0,\"ticks\":\"\"}},\"type\":\"scattermapbox\"}],\"scatterpolar\":[{\"marker\":{\"colorbar\":{\"outlinewidth\":0,\"ticks\":\"\"}},\"type\":\"scatterpolar\"}],\"scatterpolargl\":[{\"marker\":{\"colorbar\":{\"outlinewidth\":0,\"ticks\":\"\"}},\"type\":\"scatterpolargl\"}],\"scatterternary\":[{\"marker\":{\"colorbar\":{\"outlinewidth\":0,\"ticks\":\"\"}},\"type\":\"scatterternary\"}],\"surface\":[{\"colorbar\":{\"outlinewidth\":0,\"ticks\":\"\"},\"colorscale\":[[0.0,\"#0d0887\"],[0.1111111111111111,\"#46039f\"],[0.2222222222222222,\"#7201a8\"],[0.3333333333333333,\"#9c179e\"],[0.4444444444444444,\"#bd3786\"],[0.5555555555555556,\"#d8576b\"],[0.6666666666666666,\"#ed7953\"],[0.7777777777777778,\"#fb9f3a\"],[0.8888888888888888,\"#fdca26\"],[1.0,\"#f0f921\"]],\"type\":\"surface\"}],\"table\":[{\"cells\":{\"fill\":{\"color\":\"#EBF0F8\"},\"line\":{\"color\":\"white\"}},\"header\":{\"fill\":{\"color\":\"#C8D4E3\"},\"line\":{\"color\":\"white\"}},\"type\":\"table\"}]},\"layout\":{\"annotationdefaults\":{\"arrowcolor\":\"#2a3f5f\",\"arrowhead\":0,\"arrowwidth\":1},\"autotypenumbers\":\"strict\",\"coloraxis\":{\"colorbar\":{\"outlinewidth\":0,\"ticks\":\"\"}},\"colorscale\":{\"diverging\":[[0,\"#8e0152\"],[0.1,\"#c51b7d\"],[0.2,\"#de77ae\"],[0.3,\"#f1b6da\"],[0.4,\"#fde0ef\"],[0.5,\"#f7f7f7\"],[0.6,\"#e6f5d0\"],[0.7,\"#b8e186\"],[0.8,\"#7fbc41\"],[0.9,\"#4d9221\"],[1,\"#276419\"]],\"sequential\":[[0.0,\"#0d0887\"],[0.1111111111111111,\"#46039f\"],[0.2222222222222222,\"#7201a8\"],[0.3333333333333333,\"#9c179e\"],[0.4444444444444444,\"#bd3786\"],[0.5555555555555556,\"#d8576b\"],[0.6666666666666666,\"#ed7953\"],[0.7777777777777778,\"#fb9f3a\"],[0.8888888888888888,\"#fdca26\"],[1.0,\"#f0f921\"]],\"sequentialminus\":[[0.0,\"#0d0887\"],[0.1111111111111111,\"#46039f\"],[0.2222222222222222,\"#7201a8\"],[0.3333333333333333,\"#9c179e\"],[0.4444444444444444,\"#bd3786\"],[0.5555555555555556,\"#d8576b\"],[0.6666666666666666,\"#ed7953\"],[0.7777777777777778,\"#fb9f3a\"],[0.8888888888888888,\"#fdca26\"],[1.0,\"#f0f921\"]]},\"colorway\":[\"#636efa\",\"#EF553B\",\"#00cc96\",\"#ab63fa\",\"#FFA15A\",\"#19d3f3\",\"#FF6692\",\"#B6E880\",\"#FF97FF\",\"#FECB52\"],\"font\":{\"color\":\"#2a3f5f\"},\"geo\":{\"bgcolor\":\"white\",\"lakecolor\":\"white\",\"landcolor\":\"#E5ECF6\",\"showlakes\":true,\"showland\":true,\"subunitcolor\":\"white\"},\"hoverlabel\":{\"align\":\"left\"},\"hovermode\":\"closest\",\"mapbox\":{\"style\":\"light\"},\"paper_bgcolor\":\"white\",\"plot_bgcolor\":\"#E5ECF6\",\"polar\":{\"angularaxis\":{\"gridcolor\":\"white\",\"linecolor\":\"white\",\"ticks\":\"\"},\"bgcolor\":\"#E5ECF6\",\"radialaxis\":{\"gridcolor\":\"white\",\"linecolor\":\"white\",\"ticks\":\"\"}},\"scene\":{\"xaxis\":{\"backgroundcolor\":\"#E5ECF6\",\"gridcolor\":\"white\",\"gridwidth\":2,\"linecolor\":\"white\",\"showbackground\":true,\"ticks\":\"\",\"zerolinecolor\":\"white\"},\"yaxis\":{\"backgroundcolor\":\"#E5ECF6\",\"gridcolor\":\"white\",\"gridwidth\":2,\"linecolor\":\"white\",\"showbackground\":true,\"ticks\":\"\",\"zerolinecolor\":\"white\"},\"zaxis\":{\"backgroundcolor\":\"#E5ECF6\",\"gridcolor\":\"white\",\"gridwidth\":2,\"linecolor\":\"white\",\"showbackground\":true,\"ticks\":\"\",\"zerolinecolor\":\"white\"}},\"shapedefaults\":{\"line\":{\"color\":\"#2a3f5f\"}},\"ternary\":{\"aaxis\":{\"gridcolor\":\"white\",\"linecolor\":\"white\",\"ticks\":\"\"},\"baxis\":{\"gridcolor\":\"white\",\"linecolor\":\"white\",\"ticks\":\"\"},\"bgcolor\":\"#E5ECF6\",\"caxis\":{\"gridcolor\":\"white\",\"linecolor\":\"white\",\"ticks\":\"\"}},\"title\":{\"x\":0.05},\"xaxis\":{\"automargin\":true,\"gridcolor\":\"white\",\"linecolor\":\"white\",\"ticks\":\"\",\"title\":{\"standoff\":15},\"zerolinecolor\":\"white\",\"zerolinewidth\":2},\"yaxis\":{\"automargin\":true,\"gridcolor\":\"white\",\"linecolor\":\"white\",\"ticks\":\"\",\"title\":{\"standoff\":15},\"zerolinecolor\":\"white\",\"zerolinewidth\":2}}},\"xaxis\":{\"anchor\":\"y\",\"domain\":[0.0,1.0],\"title\":{\"text\":\"Year\"}},\"yaxis\":{\"anchor\":\"x\",\"domain\":[0.0,1.0],\"title\":{\"text\":\"Average Loan Amount\"}},\"legend\":{\"title\":{\"text\":\"\"},\"tracegroupgap\":0,\"x\":0,\"y\":1,\"bordercolor\":\"Black\",\"borderwidth\":1,\"orientation\":\"h\"},\"margin\":{\"t\":60}},                        {\"responsive\": true}                    ).then(function(){\n",
       "                            \n",
       "var gd = document.getElementById('b17f7f3f-1822-487e-9bda-1399cba9f62f');\n",
       "var x = new MutationObserver(function (mutations, observer) {{\n",
       "        var display = window.getComputedStyle(gd).display;\n",
       "        if (!display || display === 'none') {{\n",
       "            console.log([gd, 'removed!']);\n",
       "            Plotly.purge(gd);\n",
       "            observer.disconnect();\n",
       "        }}\n",
       "}});\n",
       "\n",
       "// Listen for the removal of the full notebook cells\n",
       "var notebookContainer = gd.closest('#notebook-container');\n",
       "if (notebookContainer) {{\n",
       "    x.observe(notebookContainer, {childList: true});\n",
       "}}\n",
       "\n",
       "// Listen for the clearing of the current output cell\n",
       "var outputEl = gd.closest('.output');\n",
       "if (outputEl) {{\n",
       "    x.observe(outputEl, {childList: true});\n",
       "}}\n",
       "\n",
       "                        })                };                });            </script>        </div>"
      ]
     },
     "metadata": {},
     "output_type": "display_data"
    }
   ],
   "source": [
    "for race in races:\n",
    "    df_plot[race.capitalize()] = df_plot[ race+'_loan_amnt_avg']\n",
    "    \n",
    "df_plot['year'] = df_plot['year'].astype(str)\n",
    "\n",
    "fig = px.line(        \n",
    "        df_plot.rename({'black_loan_amnt_avg':'black', 'white_loan_amnt_avg':'white', 'asian_loan_amnt_avg':'asian'}), #Data Frame\n",
    "        x = 'year', #Columns from the data frame\n",
    "        y = df_plot.columns[-3:],\n",
    "#        title = \"Average Loan Amount by Race\",\n",
    "        markers = True,\n",
    "        labels = { 'year':'Year', 'value': 'Average Loan Amount',}\n",
    ")\n",
    "\n",
    "fig.update_layout(\n",
    "    legend=dict(\n",
    "        x=0,\n",
    "        y=1,\n",
    "        title = '',\n",
    "        bordercolor=\"Black\",\n",
    "        borderwidth=1,\n",
    "        orientation = 'h'\n",
    "    )\n",
    ")\n",
    "\n",
    "\n",
    "fig.show()"
   ]
  },
  {
   "cell_type": "code",
   "execution_count": 191,
   "id": "954df335-8f95-4574-9342-2bb2c8116a7b",
   "metadata": {},
   "outputs": [
    {
     "data": {
      "text/html": [
       "<div>\n",
       "<style scoped>\n",
       "    .dataframe tbody tr th:only-of-type {\n",
       "        vertical-align: middle;\n",
       "    }\n",
       "\n",
       "    .dataframe tbody tr th {\n",
       "        vertical-align: top;\n",
       "    }\n",
       "\n",
       "    .dataframe thead th {\n",
       "        text-align: right;\n",
       "    }\n",
       "</style>\n",
       "<table border=\"1\" class=\"dataframe\">\n",
       "  <thead>\n",
       "    <tr style=\"text-align: right;\">\n",
       "      <th></th>\n",
       "      <th>Amount_Requested</th>\n",
       "      <th>Application_Date</th>\n",
       "      <th>Loan_Title</th>\n",
       "      <th>Risk_Score</th>\n",
       "      <th>Debt_to_Income_Ratio</th>\n",
       "      <th>Zip_Code</th>\n",
       "      <th>State</th>\n",
       "      <th>Employment_Length</th>\n",
       "      <th>Policy_Code</th>\n",
       "      <th>year</th>\n",
       "    </tr>\n",
       "  </thead>\n",
       "  <tbody>\n",
       "    <tr>\n",
       "      <th>0</th>\n",
       "      <td>1000.0</td>\n",
       "      <td>2016-04-01</td>\n",
       "      <td>other</td>\n",
       "      <td>NaN</td>\n",
       "      <td>2.69%</td>\n",
       "      <td>331</td>\n",
       "      <td>FL</td>\n",
       "      <td>&lt; 1 year</td>\n",
       "      <td>0.0</td>\n",
       "      <td>2016</td>\n",
       "    </tr>\n",
       "    <tr>\n",
       "      <th>1</th>\n",
       "      <td>4000.0</td>\n",
       "      <td>2016-04-01</td>\n",
       "      <td>debt_consolidation</td>\n",
       "      <td>NaN</td>\n",
       "      <td>28.26%</td>\n",
       "      <td>834</td>\n",
       "      <td>ID</td>\n",
       "      <td>&lt; 1 year</td>\n",
       "      <td>0.0</td>\n",
       "      <td>2016</td>\n",
       "    </tr>\n",
       "    <tr>\n",
       "      <th>2</th>\n",
       "      <td>5000.0</td>\n",
       "      <td>2016-04-01</td>\n",
       "      <td>moving</td>\n",
       "      <td>NaN</td>\n",
       "      <td>-1%</td>\n",
       "      <td>648</td>\n",
       "      <td>MO</td>\n",
       "      <td>NaN</td>\n",
       "      <td>0.0</td>\n",
       "      <td>2016</td>\n",
       "    </tr>\n",
       "    <tr>\n",
       "      <th>3</th>\n",
       "      <td>1000.0</td>\n",
       "      <td>2016-04-01</td>\n",
       "      <td>moving</td>\n",
       "      <td>628.0</td>\n",
       "      <td>21.43%</td>\n",
       "      <td>380</td>\n",
       "      <td>TN</td>\n",
       "      <td>&lt; 1 year</td>\n",
       "      <td>0.0</td>\n",
       "      <td>2016</td>\n",
       "    </tr>\n",
       "    <tr>\n",
       "      <th>4</th>\n",
       "      <td>3000.0</td>\n",
       "      <td>2016-04-01</td>\n",
       "      <td>Debt consolidation</td>\n",
       "      <td>NaN</td>\n",
       "      <td>8.49%</td>\n",
       "      <td>895</td>\n",
       "      <td>NV</td>\n",
       "      <td>2 years</td>\n",
       "      <td>2.0</td>\n",
       "      <td>2016</td>\n",
       "    </tr>\n",
       "  </tbody>\n",
       "</table>\n",
       "</div>"
      ],
      "text/plain": [
       "   Amount_Requested Application_Date          Loan_Title  Risk_Score  \\\n",
       "0            1000.0       2016-04-01               other         NaN   \n",
       "1            4000.0       2016-04-01  debt_consolidation         NaN   \n",
       "2            5000.0       2016-04-01              moving         NaN   \n",
       "3            1000.0       2016-04-01              moving       628.0   \n",
       "4            3000.0       2016-04-01  Debt consolidation         NaN   \n",
       "\n",
       "  Debt_to_Income_Ratio Zip_Code State Employment_Length  Policy_Code  year  \n",
       "0                2.69%      331    FL          < 1 year          0.0  2016  \n",
       "1               28.26%      834    ID          < 1 year          0.0  2016  \n",
       "2                  -1%      648    MO               NaN          0.0  2016  \n",
       "3               21.43%      380    TN          < 1 year          0.0  2016  \n",
       "4                8.49%      895    NV           2 years          2.0  2016  "
      ]
     },
     "execution_count": 191,
     "metadata": {},
     "output_type": "execute_result"
    }
   ],
   "source": [
    "#Rejected Dataset\n",
    "#read data\n",
    "df_rej = pd.read_pickle('Lending_Club_Rejected_2014_2018.pickle')\n",
    "df_rej['Application_Date'] = pd.to_datetime(df_rej['Application_Date'])\n",
    "df_rej['year'] = pd.DatetimeIndex(df_rej['Application_Date']).year\n",
    "df_rej['Zip_Code'] = df_rej['Zip_Code'].map(lambda x: str(x).rstrip('xxx'))\n",
    "df_rej.head()"
   ]
  },
  {
   "cell_type": "code",
   "execution_count": 192,
   "id": "d62e3af7-e400-45da-98f3-e7638d2b50e6",
   "metadata": {},
   "outputs": [
    {
     "data": {
      "text/html": [
       "<div>\n",
       "<style scoped>\n",
       "    .dataframe tbody tr th:only-of-type {\n",
       "        vertical-align: middle;\n",
       "    }\n",
       "\n",
       "    .dataframe tbody tr th {\n",
       "        vertical-align: top;\n",
       "    }\n",
       "\n",
       "    .dataframe thead th {\n",
       "        text-align: right;\n",
       "    }\n",
       "</style>\n",
       "<table border=\"1\" class=\"dataframe\">\n",
       "  <thead>\n",
       "    <tr style=\"text-align: right;\">\n",
       "      <th></th>\n",
       "      <th></th>\n",
       "      <th>Loan_Title</th>\n",
       "      <th>year</th>\n",
       "      <th>Zip_Code</th>\n",
       "    </tr>\n",
       "    <tr>\n",
       "      <th>year</th>\n",
       "      <th>Zip_Code</th>\n",
       "      <th></th>\n",
       "      <th></th>\n",
       "      <th></th>\n",
       "    </tr>\n",
       "  </thead>\n",
       "  <tbody>\n",
       "    <tr>\n",
       "      <th rowspan=\"5\" valign=\"top\">2014</th>\n",
       "      <th>000</th>\n",
       "      <td>49</td>\n",
       "      <td>2014</td>\n",
       "      <td>000</td>\n",
       "    </tr>\n",
       "    <tr>\n",
       "      <th>001</th>\n",
       "      <td>17</td>\n",
       "      <td>2014</td>\n",
       "      <td>001</td>\n",
       "    </tr>\n",
       "    <tr>\n",
       "      <th>002</th>\n",
       "      <td>28</td>\n",
       "      <td>2014</td>\n",
       "      <td>002</td>\n",
       "    </tr>\n",
       "    <tr>\n",
       "      <th>003</th>\n",
       "      <td>4</td>\n",
       "      <td>2014</td>\n",
       "      <td>003</td>\n",
       "    </tr>\n",
       "    <tr>\n",
       "      <th>004</th>\n",
       "      <td>3</td>\n",
       "      <td>2014</td>\n",
       "      <td>004</td>\n",
       "    </tr>\n",
       "  </tbody>\n",
       "</table>\n",
       "</div>"
      ],
      "text/plain": [
       "               Loan_Title  year Zip_Code\n",
       "year Zip_Code                           \n",
       "2014 000               49  2014      000\n",
       "     001               17  2014      001\n",
       "     002               28  2014      002\n",
       "     003                4  2014      003\n",
       "     004                3  2014      004"
      ]
     },
     "execution_count": 192,
     "metadata": {},
     "output_type": "execute_result"
    }
   ],
   "source": [
    "df_rej = df_rej.groupby(['year', 'Zip_Code']).agg({'Loan_Title':'count', 'year':'first', 'Zip_Code':'first'})\n",
    "df_rej.head()"
   ]
  },
  {
   "cell_type": "code",
   "execution_count": 193,
   "id": "6cd90561-a2be-4b9e-a898-72dafb118aa3",
   "metadata": {},
   "outputs": [],
   "source": [
    "df_rej['Rejected']= df_rej['Loan_Title']\n",
    "df_rej = df_rej[['year', 'Zip_Code', 'Rejected']]"
   ]
  },
  {
   "cell_type": "code",
   "execution_count": 194,
   "id": "7a870b87-17dc-4ee2-bdc2-e28a54096bbe",
   "metadata": {},
   "outputs": [
    {
     "data": {
      "text/html": [
       "<div>\n",
       "<style scoped>\n",
       "    .dataframe tbody tr th:only-of-type {\n",
       "        vertical-align: middle;\n",
       "    }\n",
       "\n",
       "    .dataframe tbody tr th {\n",
       "        vertical-align: top;\n",
       "    }\n",
       "\n",
       "    .dataframe thead th {\n",
       "        text-align: right;\n",
       "    }\n",
       "</style>\n",
       "<table border=\"1\" class=\"dataframe\">\n",
       "  <thead>\n",
       "    <tr style=\"text-align: right;\">\n",
       "      <th></th>\n",
       "      <th></th>\n",
       "      <th>year</th>\n",
       "      <th>Zip_Code</th>\n",
       "      <th>Rejected</th>\n",
       "    </tr>\n",
       "    <tr>\n",
       "      <th>year</th>\n",
       "      <th>Zip_Code</th>\n",
       "      <th></th>\n",
       "      <th></th>\n",
       "      <th></th>\n",
       "    </tr>\n",
       "  </thead>\n",
       "  <tbody>\n",
       "    <tr>\n",
       "      <th rowspan=\"5\" valign=\"top\">2014</th>\n",
       "      <th>000</th>\n",
       "      <td>2014</td>\n",
       "      <td>000</td>\n",
       "      <td>49</td>\n",
       "    </tr>\n",
       "    <tr>\n",
       "      <th>001</th>\n",
       "      <td>2014</td>\n",
       "      <td>001</td>\n",
       "      <td>17</td>\n",
       "    </tr>\n",
       "    <tr>\n",
       "      <th>002</th>\n",
       "      <td>2014</td>\n",
       "      <td>002</td>\n",
       "      <td>28</td>\n",
       "    </tr>\n",
       "    <tr>\n",
       "      <th>003</th>\n",
       "      <td>2014</td>\n",
       "      <td>003</td>\n",
       "      <td>4</td>\n",
       "    </tr>\n",
       "    <tr>\n",
       "      <th>004</th>\n",
       "      <td>2014</td>\n",
       "      <td>004</td>\n",
       "      <td>3</td>\n",
       "    </tr>\n",
       "  </tbody>\n",
       "</table>\n",
       "</div>"
      ],
      "text/plain": [
       "               year Zip_Code  Rejected\n",
       "year Zip_Code                         \n",
       "2014 000       2014      000        49\n",
       "     001       2014      001        17\n",
       "     002       2014      002        28\n",
       "     003       2014      003         4\n",
       "     004       2014      004         3"
      ]
     },
     "execution_count": 194,
     "metadata": {},
     "output_type": "execute_result"
    }
   ],
   "source": [
    "df_rej.head()"
   ]
  },
  {
   "cell_type": "code",
   "execution_count": 199,
   "id": "9fb67827-2156-42a4-a7e1-d7d20ef98a84",
   "metadata": {},
   "outputs": [
    {
     "data": {
      "text/html": [
       "<div>\n",
       "<style scoped>\n",
       "    .dataframe tbody tr th:only-of-type {\n",
       "        vertical-align: middle;\n",
       "    }\n",
       "\n",
       "    .dataframe tbody tr th {\n",
       "        vertical-align: top;\n",
       "    }\n",
       "\n",
       "    .dataframe thead th {\n",
       "        text-align: right;\n",
       "    }\n",
       "</style>\n",
       "<table border=\"1\" class=\"dataframe\">\n",
       "  <thead>\n",
       "    <tr style=\"text-align: right;\">\n",
       "      <th></th>\n",
       "      <th></th>\n",
       "      <th>year</th>\n",
       "      <th>Zip_Code</th>\n",
       "      <th>Accepted</th>\n",
       "    </tr>\n",
       "    <tr>\n",
       "      <th>year</th>\n",
       "      <th>Zip_Code</th>\n",
       "      <th></th>\n",
       "      <th></th>\n",
       "      <th></th>\n",
       "    </tr>\n",
       "  </thead>\n",
       "  <tbody>\n",
       "    <tr>\n",
       "      <th rowspan=\"5\" valign=\"top\">2014</th>\n",
       "      <th>007</th>\n",
       "      <td>2014</td>\n",
       "      <td>007</td>\n",
       "      <td>2</td>\n",
       "    </tr>\n",
       "    <tr>\n",
       "      <th>008</th>\n",
       "      <td>2014</td>\n",
       "      <td>008</td>\n",
       "      <td>1</td>\n",
       "    </tr>\n",
       "    <tr>\n",
       "      <th>010</th>\n",
       "      <td>2014</td>\n",
       "      <td>010</td>\n",
       "      <td>379</td>\n",
       "    </tr>\n",
       "    <tr>\n",
       "      <th>011</th>\n",
       "      <td>2014</td>\n",
       "      <td>011</td>\n",
       "      <td>115</td>\n",
       "    </tr>\n",
       "    <tr>\n",
       "      <th>012</th>\n",
       "      <td>2014</td>\n",
       "      <td>012</td>\n",
       "      <td>93</td>\n",
       "    </tr>\n",
       "  </tbody>\n",
       "</table>\n",
       "</div>"
      ],
      "text/plain": [
       "               year Zip_Code  Accepted\n",
       "year Zip_Code                         \n",
       "2014 007       2014      007         2\n",
       "     008       2014      008         1\n",
       "     010       2014      010       379\n",
       "     011       2014      011       115\n",
       "     012       2014      012        93"
      ]
     },
     "execution_count": 199,
     "metadata": {},
     "output_type": "execute_result"
    }
   ],
   "source": [
    "df_agrp = df_acp.groupby(['year', 'Zip_Code']).agg({'purpose':'count', 'year':'first', 'Zip_Code':'first'})\n",
    "df_agrp['Accepted'] = df_agrp['purpose']\n",
    "df_agrp = df_agrp[['year', 'Zip_Code', 'Accepted']]\n",
    "df_agrp.head()"
   ]
  },
  {
   "cell_type": "code",
   "execution_count": 219,
   "id": "cb731738-822d-48fb-bc4f-2b502195d030",
   "metadata": {},
   "outputs": [
    {
     "data": {
      "text/html": [
       "<div>\n",
       "<style scoped>\n",
       "    .dataframe tbody tr th:only-of-type {\n",
       "        vertical-align: middle;\n",
       "    }\n",
       "\n",
       "    .dataframe tbody tr th {\n",
       "        vertical-align: top;\n",
       "    }\n",
       "\n",
       "    .dataframe thead th {\n",
       "        text-align: right;\n",
       "    }\n",
       "</style>\n",
       "<table border=\"1\" class=\"dataframe\">\n",
       "  <thead>\n",
       "    <tr style=\"text-align: right;\">\n",
       "      <th></th>\n",
       "      <th></th>\n",
       "      <th>year</th>\n",
       "      <th>Zip_Code</th>\n",
       "      <th>Accepted</th>\n",
       "      <th>Rejected</th>\n",
       "    </tr>\n",
       "    <tr>\n",
       "      <th>year</th>\n",
       "      <th>Zip_Code</th>\n",
       "      <th></th>\n",
       "      <th></th>\n",
       "      <th></th>\n",
       "      <th></th>\n",
       "    </tr>\n",
       "  </thead>\n",
       "  <tbody>\n",
       "    <tr>\n",
       "      <th rowspan=\"5\" valign=\"top\">2018</th>\n",
       "      <th>995</th>\n",
       "      <td>2018</td>\n",
       "      <td>995</td>\n",
       "      <td>NaN</td>\n",
       "      <td>9107.0</td>\n",
       "    </tr>\n",
       "    <tr>\n",
       "      <th>996</th>\n",
       "      <td>2018</td>\n",
       "      <td>996</td>\n",
       "      <td>NaN</td>\n",
       "      <td>4650.0</td>\n",
       "    </tr>\n",
       "    <tr>\n",
       "      <th>997</th>\n",
       "      <td>2018</td>\n",
       "      <td>997</td>\n",
       "      <td>NaN</td>\n",
       "      <td>3635.0</td>\n",
       "    </tr>\n",
       "    <tr>\n",
       "      <th>998</th>\n",
       "      <td>2018</td>\n",
       "      <td>998</td>\n",
       "      <td>NaN</td>\n",
       "      <td>1158.0</td>\n",
       "    </tr>\n",
       "    <tr>\n",
       "      <th>999</th>\n",
       "      <td>2018</td>\n",
       "      <td>999</td>\n",
       "      <td>NaN</td>\n",
       "      <td>472.0</td>\n",
       "    </tr>\n",
       "  </tbody>\n",
       "</table>\n",
       "</div>"
      ],
      "text/plain": [
       "               year Zip_Code  Accepted  Rejected\n",
       "year Zip_Code                                   \n",
       "2018 995       2018      995       NaN    9107.0\n",
       "     996       2018      996       NaN    4650.0\n",
       "     997       2018      997       NaN    3635.0\n",
       "     998       2018      998       NaN    1158.0\n",
       "     999       2018      999       NaN     472.0"
      ]
     },
     "execution_count": 219,
     "metadata": {},
     "output_type": "execute_result"
    }
   ],
   "source": [
    "df_total = pd.concat([df_agrp, df_rej], axis=0)\n",
    "df_total.tail()"
   ]
  },
  {
   "cell_type": "code",
   "execution_count": 220,
   "id": "41eb438c-ddb5-452b-a3b8-cbf6f6460f63",
   "metadata": {},
   "outputs": [
    {
     "data": {
      "text/html": [
       "<div>\n",
       "<style scoped>\n",
       "    .dataframe tbody tr th:only-of-type {\n",
       "        vertical-align: middle;\n",
       "    }\n",
       "\n",
       "    .dataframe tbody tr th {\n",
       "        vertical-align: top;\n",
       "    }\n",
       "\n",
       "    .dataframe thead th {\n",
       "        text-align: right;\n",
       "    }\n",
       "</style>\n",
       "<table border=\"1\" class=\"dataframe\">\n",
       "  <thead>\n",
       "    <tr style=\"text-align: right;\">\n",
       "      <th></th>\n",
       "      <th>year</th>\n",
       "      <th>Zip_Code</th>\n",
       "      <th>Accepted</th>\n",
       "      <th>Rejected</th>\n",
       "      <th>YEAR</th>\n",
       "      <th>STATE</th>\n",
       "      <th>zip3</th>\n",
       "      <th>FAMINC</th>\n",
       "      <th>is_black</th>\n",
       "      <th>is_asian</th>\n",
       "      <th>is_white</th>\n",
       "      <th>is_college</th>\n",
       "      <th>population</th>\n",
       "    </tr>\n",
       "  </thead>\n",
       "  <tbody>\n",
       "    <tr>\n",
       "      <th>0</th>\n",
       "      <td>2014</td>\n",
       "      <td>100</td>\n",
       "      <td>1912.0</td>\n",
       "      <td>NaN</td>\n",
       "      <td>2014</td>\n",
       "      <td>NY</td>\n",
       "      <td>100.0</td>\n",
       "      <td>76594.449713</td>\n",
       "      <td>0.189891</td>\n",
       "      <td>0.153005</td>\n",
       "      <td>0.639344</td>\n",
       "      <td>0.571839</td>\n",
       "      <td>4741269</td>\n",
       "    </tr>\n",
       "    <tr>\n",
       "      <th>1</th>\n",
       "      <td>2014</td>\n",
       "      <td>100</td>\n",
       "      <td>NaN</td>\n",
       "      <td>11385.0</td>\n",
       "      <td>2014</td>\n",
       "      <td>NY</td>\n",
       "      <td>100.0</td>\n",
       "      <td>76594.449713</td>\n",
       "      <td>0.189891</td>\n",
       "      <td>0.153005</td>\n",
       "      <td>0.639344</td>\n",
       "      <td>0.571839</td>\n",
       "      <td>4741269</td>\n",
       "    </tr>\n",
       "    <tr>\n",
       "      <th>2</th>\n",
       "      <td>2014</td>\n",
       "      <td>101</td>\n",
       "      <td>74.0</td>\n",
       "      <td>NaN</td>\n",
       "      <td>2014</td>\n",
       "      <td>NY</td>\n",
       "      <td>101.0</td>\n",
       "      <td>76594.449713</td>\n",
       "      <td>0.189891</td>\n",
       "      <td>0.153005</td>\n",
       "      <td>0.639344</td>\n",
       "      <td>0.571839</td>\n",
       "      <td>273228</td>\n",
       "    </tr>\n",
       "    <tr>\n",
       "      <th>3</th>\n",
       "      <td>2014</td>\n",
       "      <td>101</td>\n",
       "      <td>NaN</td>\n",
       "      <td>441.0</td>\n",
       "      <td>2014</td>\n",
       "      <td>NY</td>\n",
       "      <td>101.0</td>\n",
       "      <td>76594.449713</td>\n",
       "      <td>0.189891</td>\n",
       "      <td>0.153005</td>\n",
       "      <td>0.639344</td>\n",
       "      <td>0.571839</td>\n",
       "      <td>273228</td>\n",
       "    </tr>\n",
       "    <tr>\n",
       "      <th>4</th>\n",
       "      <td>2014</td>\n",
       "      <td>102</td>\n",
       "      <td>15.0</td>\n",
       "      <td>NaN</td>\n",
       "      <td>2014</td>\n",
       "      <td>NY</td>\n",
       "      <td>102.0</td>\n",
       "      <td>76594.449713</td>\n",
       "      <td>0.189891</td>\n",
       "      <td>0.153005</td>\n",
       "      <td>0.639344</td>\n",
       "      <td>0.571839</td>\n",
       "      <td>239610</td>\n",
       "    </tr>\n",
       "  </tbody>\n",
       "</table>\n",
       "</div>"
      ],
      "text/plain": [
       "   year Zip_Code  Accepted  Rejected  YEAR STATE   zip3        FAMINC  \\\n",
       "0  2014      100    1912.0       NaN  2014    NY  100.0  76594.449713   \n",
       "1  2014      100       NaN   11385.0  2014    NY  100.0  76594.449713   \n",
       "2  2014      101      74.0       NaN  2014    NY  101.0  76594.449713   \n",
       "3  2014      101       NaN     441.0  2014    NY  101.0  76594.449713   \n",
       "4  2014      102      15.0       NaN  2014    NY  102.0  76594.449713   \n",
       "\n",
       "   is_black  is_asian  is_white  is_college  population  \n",
       "0  0.189891  0.153005  0.639344    0.571839     4741269  \n",
       "1  0.189891  0.153005  0.639344    0.571839     4741269  \n",
       "2  0.189891  0.153005  0.639344    0.571839      273228  \n",
       "3  0.189891  0.153005  0.639344    0.571839      273228  \n",
       "4  0.189891  0.153005  0.639344    0.571839      239610  "
      ]
     },
     "execution_count": 220,
     "metadata": {},
     "output_type": "execute_result"
    }
   ],
   "source": [
    "df_total.reset_index(drop=True, inplace=True)\n",
    "df_total = pd.merge(df_total, df_demo, how = 'inner', on = ['year', 'Zip_Code'])\n",
    "df_total.head()"
   ]
  },
  {
   "cell_type": "code",
   "execution_count": 221,
   "id": "7a5219f4-36da-433f-b9ef-b191fbc1130a",
   "metadata": {},
   "outputs": [
    {
     "data": {
      "text/html": [
       "<div>\n",
       "<style scoped>\n",
       "    .dataframe tbody tr th:only-of-type {\n",
       "        vertical-align: middle;\n",
       "    }\n",
       "\n",
       "    .dataframe tbody tr th {\n",
       "        vertical-align: top;\n",
       "    }\n",
       "\n",
       "    .dataframe thead th {\n",
       "        text-align: right;\n",
       "    }\n",
       "</style>\n",
       "<table border=\"1\" class=\"dataframe\">\n",
       "  <thead>\n",
       "    <tr style=\"text-align: right;\">\n",
       "      <th></th>\n",
       "      <th>year</th>\n",
       "      <th>Zip_Code</th>\n",
       "      <th>Accepted</th>\n",
       "      <th>Rejected</th>\n",
       "      <th>YEAR</th>\n",
       "      <th>STATE</th>\n",
       "      <th>zip3</th>\n",
       "      <th>FAMINC</th>\n",
       "      <th>is_black</th>\n",
       "      <th>is_asian</th>\n",
       "      <th>is_white</th>\n",
       "      <th>is_college</th>\n",
       "      <th>population</th>\n",
       "      <th>acc_black</th>\n",
       "      <th>rej_black</th>\n",
       "      <th>acc_white</th>\n",
       "      <th>rej_white</th>\n",
       "      <th>acc_asian</th>\n",
       "      <th>rej_asian</th>\n",
       "    </tr>\n",
       "  </thead>\n",
       "  <tbody>\n",
       "    <tr>\n",
       "      <th>0</th>\n",
       "      <td>2014</td>\n",
       "      <td>100</td>\n",
       "      <td>1912.0</td>\n",
       "      <td>NaN</td>\n",
       "      <td>2014</td>\n",
       "      <td>NY</td>\n",
       "      <td>100.0</td>\n",
       "      <td>76594.449713</td>\n",
       "      <td>0.189891</td>\n",
       "      <td>0.153005</td>\n",
       "      <td>0.639344</td>\n",
       "      <td>0.571839</td>\n",
       "      <td>4741269</td>\n",
       "      <td>363.071038</td>\n",
       "      <td>NaN</td>\n",
       "      <td>1222.426230</td>\n",
       "      <td>NaN</td>\n",
       "      <td>292.546448</td>\n",
       "      <td>NaN</td>\n",
       "    </tr>\n",
       "    <tr>\n",
       "      <th>1</th>\n",
       "      <td>2014</td>\n",
       "      <td>100</td>\n",
       "      <td>NaN</td>\n",
       "      <td>11385.0</td>\n",
       "      <td>2014</td>\n",
       "      <td>NY</td>\n",
       "      <td>100.0</td>\n",
       "      <td>76594.449713</td>\n",
       "      <td>0.189891</td>\n",
       "      <td>0.153005</td>\n",
       "      <td>0.639344</td>\n",
       "      <td>0.571839</td>\n",
       "      <td>4741269</td>\n",
       "      <td>NaN</td>\n",
       "      <td>2161.905738</td>\n",
       "      <td>NaN</td>\n",
       "      <td>7278.934426</td>\n",
       "      <td>NaN</td>\n",
       "      <td>1741.967213</td>\n",
       "    </tr>\n",
       "    <tr>\n",
       "      <th>2</th>\n",
       "      <td>2014</td>\n",
       "      <td>101</td>\n",
       "      <td>74.0</td>\n",
       "      <td>NaN</td>\n",
       "      <td>2014</td>\n",
       "      <td>NY</td>\n",
       "      <td>101.0</td>\n",
       "      <td>76594.449713</td>\n",
       "      <td>0.189891</td>\n",
       "      <td>0.153005</td>\n",
       "      <td>0.639344</td>\n",
       "      <td>0.571839</td>\n",
       "      <td>273228</td>\n",
       "      <td>14.051913</td>\n",
       "      <td>NaN</td>\n",
       "      <td>47.311475</td>\n",
       "      <td>NaN</td>\n",
       "      <td>11.322404</td>\n",
       "      <td>NaN</td>\n",
       "    </tr>\n",
       "    <tr>\n",
       "      <th>3</th>\n",
       "      <td>2014</td>\n",
       "      <td>101</td>\n",
       "      <td>NaN</td>\n",
       "      <td>441.0</td>\n",
       "      <td>2014</td>\n",
       "      <td>NY</td>\n",
       "      <td>101.0</td>\n",
       "      <td>76594.449713</td>\n",
       "      <td>0.189891</td>\n",
       "      <td>0.153005</td>\n",
       "      <td>0.639344</td>\n",
       "      <td>0.571839</td>\n",
       "      <td>273228</td>\n",
       "      <td>NaN</td>\n",
       "      <td>83.741803</td>\n",
       "      <td>NaN</td>\n",
       "      <td>281.950820</td>\n",
       "      <td>NaN</td>\n",
       "      <td>67.475410</td>\n",
       "    </tr>\n",
       "    <tr>\n",
       "      <th>4</th>\n",
       "      <td>2014</td>\n",
       "      <td>102</td>\n",
       "      <td>15.0</td>\n",
       "      <td>NaN</td>\n",
       "      <td>2014</td>\n",
       "      <td>NY</td>\n",
       "      <td>102.0</td>\n",
       "      <td>76594.449713</td>\n",
       "      <td>0.189891</td>\n",
       "      <td>0.153005</td>\n",
       "      <td>0.639344</td>\n",
       "      <td>0.571839</td>\n",
       "      <td>239610</td>\n",
       "      <td>2.848361</td>\n",
       "      <td>NaN</td>\n",
       "      <td>9.590164</td>\n",
       "      <td>NaN</td>\n",
       "      <td>2.295082</td>\n",
       "      <td>NaN</td>\n",
       "    </tr>\n",
       "  </tbody>\n",
       "</table>\n",
       "</div>"
      ],
      "text/plain": [
       "   year Zip_Code  Accepted  Rejected  YEAR STATE   zip3        FAMINC  \\\n",
       "0  2014      100    1912.0       NaN  2014    NY  100.0  76594.449713   \n",
       "1  2014      100       NaN   11385.0  2014    NY  100.0  76594.449713   \n",
       "2  2014      101      74.0       NaN  2014    NY  101.0  76594.449713   \n",
       "3  2014      101       NaN     441.0  2014    NY  101.0  76594.449713   \n",
       "4  2014      102      15.0       NaN  2014    NY  102.0  76594.449713   \n",
       "\n",
       "   is_black  is_asian  is_white  is_college  population   acc_black  \\\n",
       "0  0.189891  0.153005  0.639344    0.571839     4741269  363.071038   \n",
       "1  0.189891  0.153005  0.639344    0.571839     4741269         NaN   \n",
       "2  0.189891  0.153005  0.639344    0.571839      273228   14.051913   \n",
       "3  0.189891  0.153005  0.639344    0.571839      273228         NaN   \n",
       "4  0.189891  0.153005  0.639344    0.571839      239610    2.848361   \n",
       "\n",
       "     rej_black    acc_white    rej_white   acc_asian    rej_asian  \n",
       "0          NaN  1222.426230          NaN  292.546448          NaN  \n",
       "1  2161.905738          NaN  7278.934426         NaN  1741.967213  \n",
       "2          NaN    47.311475          NaN   11.322404          NaN  \n",
       "3    83.741803          NaN   281.950820         NaN    67.475410  \n",
       "4          NaN     9.590164          NaN    2.295082          NaN  "
      ]
     },
     "execution_count": 221,
     "metadata": {},
     "output_type": "execute_result"
    }
   ],
   "source": [
    "for race in races:\n",
    "    df_total['acc_'+race] = df_total['is_'+race] * df_total['Accepted']\n",
    "    df_total['rej_'+race] = df_total['is_'+race] * df_total['Rejected']\n",
    "df_total.head()"
   ]
  },
  {
   "cell_type": "code",
   "execution_count": 280,
   "id": "f23c4d49-3231-44c6-8635-e98191b8bcc5",
   "metadata": {},
   "outputs": [
    {
     "data": {
      "text/html": [
       "<div>\n",
       "<style scoped>\n",
       "    .dataframe tbody tr th:only-of-type {\n",
       "        vertical-align: middle;\n",
       "    }\n",
       "\n",
       "    .dataframe tbody tr th {\n",
       "        vertical-align: top;\n",
       "    }\n",
       "\n",
       "    .dataframe thead th {\n",
       "        text-align: right;\n",
       "    }\n",
       "</style>\n",
       "<table border=\"1\" class=\"dataframe\">\n",
       "  <thead>\n",
       "    <tr style=\"text-align: right;\">\n",
       "      <th></th>\n",
       "      <th>year</th>\n",
       "      <th>acc_black</th>\n",
       "      <th>rej_black</th>\n",
       "      <th>acc_white</th>\n",
       "      <th>rej_white</th>\n",
       "      <th>acc_asian</th>\n",
       "      <th>rej_asian</th>\n",
       "      <th>Black</th>\n",
       "      <th>White</th>\n",
       "      <th>Asian</th>\n",
       "    </tr>\n",
       "  </thead>\n",
       "  <tbody>\n",
       "    <tr>\n",
       "      <th>0</th>\n",
       "      <td>2014</td>\n",
       "      <td>23279.636849</td>\n",
       "      <td>196601.511018</td>\n",
       "      <td>126398.564726</td>\n",
       "      <td>1.012380e+06</td>\n",
       "      <td>14283.425342</td>\n",
       "      <td>107019.605248</td>\n",
       "      <td>10.587373</td>\n",
       "      <td>11.099486</td>\n",
       "      <td>11.774995</td>\n",
       "    </tr>\n",
       "    <tr>\n",
       "      <th>1</th>\n",
       "      <td>2015</td>\n",
       "      <td>41103.965465</td>\n",
       "      <td>284635.094944</td>\n",
       "      <td>234158.370924</td>\n",
       "      <td>1.563034e+06</td>\n",
       "      <td>27521.224565</td>\n",
       "      <td>172139.246818</td>\n",
       "      <td>12.618679</td>\n",
       "      <td>13.029118</td>\n",
       "      <td>13.784013</td>\n",
       "    </tr>\n",
       "    <tr>\n",
       "      <th>2</th>\n",
       "      <td>2016</td>\n",
       "      <td>37834.697098</td>\n",
       "      <td>422784.154539</td>\n",
       "      <td>212883.741892</td>\n",
       "      <td>2.266400e+06</td>\n",
       "      <td>24746.938202</td>\n",
       "      <td>248012.980334</td>\n",
       "      <td>8.213884</td>\n",
       "      <td>8.586501</td>\n",
       "      <td>9.072791</td>\n",
       "    </tr>\n",
       "    <tr>\n",
       "      <th>3</th>\n",
       "      <td>2017</td>\n",
       "      <td>38955.901084</td>\n",
       "      <td>633563.980761</td>\n",
       "      <td>216254.127553</td>\n",
       "      <td>3.344774e+06</td>\n",
       "      <td>27334.400167</td>\n",
       "      <td>390315.623277</td>\n",
       "      <td>5.792528</td>\n",
       "      <td>6.072800</td>\n",
       "      <td>6.544810</td>\n",
       "    </tr>\n",
       "    <tr>\n",
       "      <th>4</th>\n",
       "      <td>2018</td>\n",
       "      <td>43949.723976</td>\n",
       "      <td>857101.598020</td>\n",
       "      <td>238737.116368</td>\n",
       "      <td>4.425610e+06</td>\n",
       "      <td>31135.745931</td>\n",
       "      <td>531178.471397</td>\n",
       "      <td>4.877605</td>\n",
       "      <td>5.118339</td>\n",
       "      <td>5.537073</td>\n",
       "    </tr>\n",
       "  </tbody>\n",
       "</table>\n",
       "</div>"
      ],
      "text/plain": [
       "   year     acc_black      rej_black      acc_white     rej_white  \\\n",
       "0  2014  23279.636849  196601.511018  126398.564726  1.012380e+06   \n",
       "1  2015  41103.965465  284635.094944  234158.370924  1.563034e+06   \n",
       "2  2016  37834.697098  422784.154539  212883.741892  2.266400e+06   \n",
       "3  2017  38955.901084  633563.980761  216254.127553  3.344774e+06   \n",
       "4  2018  43949.723976  857101.598020  238737.116368  4.425610e+06   \n",
       "\n",
       "      acc_asian      rej_asian      Black      White      Asian  \n",
       "0  14283.425342  107019.605248  10.587373  11.099486  11.774995  \n",
       "1  27521.224565  172139.246818  12.618679  13.029118  13.784013  \n",
       "2  24746.938202  248012.980334   8.213884   8.586501   9.072791  \n",
       "3  27334.400167  390315.623277   5.792528   6.072800   6.544810  \n",
       "4  31135.745931  531178.471397   4.877605   5.118339   5.537073  "
      ]
     },
     "execution_count": 280,
     "metadata": {},
     "output_type": "execute_result"
    }
   ],
   "source": [
    "df_accr = df_total.groupby('year').agg({ 'year':'first', 'acc_black':sum, 'rej_black':sum,\n",
    "                                        'acc_white':sum, 'rej_white':sum,\n",
    "                                        'acc_asian':sum, 'rej_asian':sum})\n",
    "for race in races:\n",
    "    df_accr[race.capitalize()] = df_accr['acc_'+race]*100/(df_accr['acc_'+race] + df_accr['rej_'+race])\n",
    "df_accr.reset_index(drop=True, inplace=True)\n",
    "df_accr['year'] = df_accr['year'].astype(str)\n",
    "df_accr.head()"
   ]
  },
  {
   "cell_type": "code",
   "execution_count": 301,
   "id": "ba3ca6f7-e212-4369-9256-6fe3a65ed536",
   "metadata": {},
   "outputs": [
    {
     "data": {
      "text/html": [
       "<div>\n",
       "<style scoped>\n",
       "    .dataframe tbody tr th:only-of-type {\n",
       "        vertical-align: middle;\n",
       "    }\n",
       "\n",
       "    .dataframe tbody tr th {\n",
       "        vertical-align: top;\n",
       "    }\n",
       "\n",
       "    .dataframe thead th {\n",
       "        text-align: right;\n",
       "    }\n",
       "</style>\n",
       "<table border=\"1\" class=\"dataframe\">\n",
       "  <thead>\n",
       "    <tr style=\"text-align: right;\">\n",
       "      <th></th>\n",
       "      <th>year</th>\n",
       "      <th>acc_black</th>\n",
       "      <th>rej_black</th>\n",
       "      <th>acc_white</th>\n",
       "      <th>rej_white</th>\n",
       "      <th>acc_asian</th>\n",
       "      <th>rej_asian</th>\n",
       "      <th>Black</th>\n",
       "      <th>White</th>\n",
       "      <th>Asian</th>\n",
       "      <th>Total Acc</th>\n",
       "      <th>Acceptance Rate</th>\n",
       "    </tr>\n",
       "  </thead>\n",
       "  <tbody>\n",
       "    <tr>\n",
       "      <th>0</th>\n",
       "      <td>2014</td>\n",
       "      <td>23279.636849</td>\n",
       "      <td>196601.511018</td>\n",
       "      <td>126398.564726</td>\n",
       "      <td>1.012380e+06</td>\n",
       "      <td>14283.425342</td>\n",
       "      <td>107019.605248</td>\n",
       "      <td>219881.147868</td>\n",
       "      <td>1.138779e+06</td>\n",
       "      <td>121303.030591</td>\n",
       "      <td>163961.626918</td>\n",
       "      <td>11.078768</td>\n",
       "    </tr>\n",
       "    <tr>\n",
       "      <th>1</th>\n",
       "      <td>2015</td>\n",
       "      <td>41103.965465</td>\n",
       "      <td>284635.094944</td>\n",
       "      <td>234158.370924</td>\n",
       "      <td>1.563034e+06</td>\n",
       "      <td>27521.224565</td>\n",
       "      <td>172139.246818</td>\n",
       "      <td>325739.060409</td>\n",
       "      <td>1.797193e+06</td>\n",
       "      <td>199660.471383</td>\n",
       "      <td>302783.560954</td>\n",
       "      <td>13.036449</td>\n",
       "    </tr>\n",
       "    <tr>\n",
       "      <th>2</th>\n",
       "      <td>2016</td>\n",
       "      <td>37834.697098</td>\n",
       "      <td>422784.154539</td>\n",
       "      <td>212883.741892</td>\n",
       "      <td>2.266400e+06</td>\n",
       "      <td>24746.938202</td>\n",
       "      <td>248012.980334</td>\n",
       "      <td>460618.851637</td>\n",
       "      <td>2.479284e+06</td>\n",
       "      <td>272759.918536</td>\n",
       "      <td>275465.377192</td>\n",
       "      <td>8.574363</td>\n",
       "    </tr>\n",
       "    <tr>\n",
       "      <th>3</th>\n",
       "      <td>2017</td>\n",
       "      <td>38955.901084</td>\n",
       "      <td>633563.980761</td>\n",
       "      <td>216254.127553</td>\n",
       "      <td>3.344774e+06</td>\n",
       "      <td>27334.400167</td>\n",
       "      <td>390315.623277</td>\n",
       "      <td>672519.881845</td>\n",
       "      <td>3.561029e+06</td>\n",
       "      <td>417650.023444</td>\n",
       "      <td>282544.428804</td>\n",
       "      <td>6.074659</td>\n",
       "    </tr>\n",
       "    <tr>\n",
       "      <th>4</th>\n",
       "      <td>2018</td>\n",
       "      <td>43949.723976</td>\n",
       "      <td>857101.598020</td>\n",
       "      <td>238737.116368</td>\n",
       "      <td>4.425610e+06</td>\n",
       "      <td>31135.745931</td>\n",
       "      <td>531178.471397</td>\n",
       "      <td>901051.321996</td>\n",
       "      <td>4.664347e+06</td>\n",
       "      <td>562314.217328</td>\n",
       "      <td>313822.586276</td>\n",
       "      <td>5.121366</td>\n",
       "    </tr>\n",
       "  </tbody>\n",
       "</table>\n",
       "</div>"
      ],
      "text/plain": [
       "   year     acc_black      rej_black      acc_white     rej_white  \\\n",
       "0  2014  23279.636849  196601.511018  126398.564726  1.012380e+06   \n",
       "1  2015  41103.965465  284635.094944  234158.370924  1.563034e+06   \n",
       "2  2016  37834.697098  422784.154539  212883.741892  2.266400e+06   \n",
       "3  2017  38955.901084  633563.980761  216254.127553  3.344774e+06   \n",
       "4  2018  43949.723976  857101.598020  238737.116368  4.425610e+06   \n",
       "\n",
       "      acc_asian      rej_asian          Black         White          Asian  \\\n",
       "0  14283.425342  107019.605248  219881.147868  1.138779e+06  121303.030591   \n",
       "1  27521.224565  172139.246818  325739.060409  1.797193e+06  199660.471383   \n",
       "2  24746.938202  248012.980334  460618.851637  2.479284e+06  272759.918536   \n",
       "3  27334.400167  390315.623277  672519.881845  3.561029e+06  417650.023444   \n",
       "4  31135.745931  531178.471397  901051.321996  4.664347e+06  562314.217328   \n",
       "\n",
       "       Total Acc  Acceptance Rate  \n",
       "0  163961.626918        11.078768  \n",
       "1  302783.560954        13.036449  \n",
       "2  275465.377192         8.574363  \n",
       "3  282544.428804         6.074659  \n",
       "4  313822.586276         5.121366  "
      ]
     },
     "execution_count": 301,
     "metadata": {},
     "output_type": "execute_result"
    }
   ],
   "source": [
    "df_accr['Total Acc'] = df_accr['acc_white']+df_accr['acc_black']+df_accr['acc_asian']\n",
    "df_accr['Acceptance Rate'] = 100*df_accr['Total Acc']/(df_accr['Total Acc']+df_accr['rej_black'] +df_accr['rej_white']+df_accr['rej_asian'])\n",
    "                            \n",
    "df_accr.head()"
   ]
  },
  {
   "cell_type": "code",
   "execution_count": 304,
   "id": "65370ff5-621a-4a8f-9ff1-548dec064abe",
   "metadata": {},
   "outputs": [
    {
     "data": {
      "application/vnd.plotly.v1+json": {
       "config": {
        "plotlyServerURL": "https://plot.ly"
       },
       "data": [
        {
         "hovertemplate": "Year=%{x}<br>Loan Acceptance Rate(%)=%{y}<extra></extra>",
         "legendgroup": "",
         "line": {
          "color": "#636efa",
          "dash": "solid"
         },
         "marker": {
          "symbol": "circle"
         },
         "mode": "lines+markers",
         "name": "",
         "orientation": "v",
         "showlegend": false,
         "type": "scatter",
         "x": [
          "2014",
          "2015",
          "2016",
          "2017",
          "2018"
         ],
         "xaxis": "x",
         "y": [
          11.078767586168084,
          13.036448600902228,
          8.574363025594764,
          6.0746585639439745,
          5.1213657897111
         ],
         "yaxis": "y"
        }
       ],
       "layout": {
        "autosize": true,
        "dragmode": "pan",
        "legend": {
         "tracegroupgap": 0
        },
        "margin": {
         "t": 60
        },
        "template": {
         "data": {
          "bar": [
           {
            "error_x": {
             "color": "#2a3f5f"
            },
            "error_y": {
             "color": "#2a3f5f"
            },
            "marker": {
             "line": {
              "color": "#E5ECF6",
              "width": 0.5
             },
             "pattern": {
              "fillmode": "overlay",
              "size": 10,
              "solidity": 0.2
             }
            },
            "type": "bar"
           }
          ],
          "barpolar": [
           {
            "marker": {
             "line": {
              "color": "#E5ECF6",
              "width": 0.5
             },
             "pattern": {
              "fillmode": "overlay",
              "size": 10,
              "solidity": 0.2
             }
            },
            "type": "barpolar"
           }
          ],
          "carpet": [
           {
            "aaxis": {
             "endlinecolor": "#2a3f5f",
             "gridcolor": "white",
             "linecolor": "white",
             "minorgridcolor": "white",
             "startlinecolor": "#2a3f5f"
            },
            "baxis": {
             "endlinecolor": "#2a3f5f",
             "gridcolor": "white",
             "linecolor": "white",
             "minorgridcolor": "white",
             "startlinecolor": "#2a3f5f"
            },
            "type": "carpet"
           }
          ],
          "choropleth": [
           {
            "colorbar": {
             "outlinewidth": 0,
             "ticks": ""
            },
            "type": "choropleth"
           }
          ],
          "contour": [
           {
            "colorbar": {
             "outlinewidth": 0,
             "ticks": ""
            },
            "colorscale": [
             [
              0,
              "#0d0887"
             ],
             [
              0.1111111111111111,
              "#46039f"
             ],
             [
              0.2222222222222222,
              "#7201a8"
             ],
             [
              0.3333333333333333,
              "#9c179e"
             ],
             [
              0.4444444444444444,
              "#bd3786"
             ],
             [
              0.5555555555555556,
              "#d8576b"
             ],
             [
              0.6666666666666666,
              "#ed7953"
             ],
             [
              0.7777777777777778,
              "#fb9f3a"
             ],
             [
              0.8888888888888888,
              "#fdca26"
             ],
             [
              1,
              "#f0f921"
             ]
            ],
            "type": "contour"
           }
          ],
          "contourcarpet": [
           {
            "colorbar": {
             "outlinewidth": 0,
             "ticks": ""
            },
            "type": "contourcarpet"
           }
          ],
          "heatmap": [
           {
            "colorbar": {
             "outlinewidth": 0,
             "ticks": ""
            },
            "colorscale": [
             [
              0,
              "#0d0887"
             ],
             [
              0.1111111111111111,
              "#46039f"
             ],
             [
              0.2222222222222222,
              "#7201a8"
             ],
             [
              0.3333333333333333,
              "#9c179e"
             ],
             [
              0.4444444444444444,
              "#bd3786"
             ],
             [
              0.5555555555555556,
              "#d8576b"
             ],
             [
              0.6666666666666666,
              "#ed7953"
             ],
             [
              0.7777777777777778,
              "#fb9f3a"
             ],
             [
              0.8888888888888888,
              "#fdca26"
             ],
             [
              1,
              "#f0f921"
             ]
            ],
            "type": "heatmap"
           }
          ],
          "heatmapgl": [
           {
            "colorbar": {
             "outlinewidth": 0,
             "ticks": ""
            },
            "colorscale": [
             [
              0,
              "#0d0887"
             ],
             [
              0.1111111111111111,
              "#46039f"
             ],
             [
              0.2222222222222222,
              "#7201a8"
             ],
             [
              0.3333333333333333,
              "#9c179e"
             ],
             [
              0.4444444444444444,
              "#bd3786"
             ],
             [
              0.5555555555555556,
              "#d8576b"
             ],
             [
              0.6666666666666666,
              "#ed7953"
             ],
             [
              0.7777777777777778,
              "#fb9f3a"
             ],
             [
              0.8888888888888888,
              "#fdca26"
             ],
             [
              1,
              "#f0f921"
             ]
            ],
            "type": "heatmapgl"
           }
          ],
          "histogram": [
           {
            "marker": {
             "pattern": {
              "fillmode": "overlay",
              "size": 10,
              "solidity": 0.2
             }
            },
            "type": "histogram"
           }
          ],
          "histogram2d": [
           {
            "colorbar": {
             "outlinewidth": 0,
             "ticks": ""
            },
            "colorscale": [
             [
              0,
              "#0d0887"
             ],
             [
              0.1111111111111111,
              "#46039f"
             ],
             [
              0.2222222222222222,
              "#7201a8"
             ],
             [
              0.3333333333333333,
              "#9c179e"
             ],
             [
              0.4444444444444444,
              "#bd3786"
             ],
             [
              0.5555555555555556,
              "#d8576b"
             ],
             [
              0.6666666666666666,
              "#ed7953"
             ],
             [
              0.7777777777777778,
              "#fb9f3a"
             ],
             [
              0.8888888888888888,
              "#fdca26"
             ],
             [
              1,
              "#f0f921"
             ]
            ],
            "type": "histogram2d"
           }
          ],
          "histogram2dcontour": [
           {
            "colorbar": {
             "outlinewidth": 0,
             "ticks": ""
            },
            "colorscale": [
             [
              0,
              "#0d0887"
             ],
             [
              0.1111111111111111,
              "#46039f"
             ],
             [
              0.2222222222222222,
              "#7201a8"
             ],
             [
              0.3333333333333333,
              "#9c179e"
             ],
             [
              0.4444444444444444,
              "#bd3786"
             ],
             [
              0.5555555555555556,
              "#d8576b"
             ],
             [
              0.6666666666666666,
              "#ed7953"
             ],
             [
              0.7777777777777778,
              "#fb9f3a"
             ],
             [
              0.8888888888888888,
              "#fdca26"
             ],
             [
              1,
              "#f0f921"
             ]
            ],
            "type": "histogram2dcontour"
           }
          ],
          "mesh3d": [
           {
            "colorbar": {
             "outlinewidth": 0,
             "ticks": ""
            },
            "type": "mesh3d"
           }
          ],
          "parcoords": [
           {
            "line": {
             "colorbar": {
              "outlinewidth": 0,
              "ticks": ""
             }
            },
            "type": "parcoords"
           }
          ],
          "pie": [
           {
            "automargin": true,
            "type": "pie"
           }
          ],
          "scatter": [
           {
            "marker": {
             "colorbar": {
              "outlinewidth": 0,
              "ticks": ""
             }
            },
            "type": "scatter"
           }
          ],
          "scatter3d": [
           {
            "line": {
             "colorbar": {
              "outlinewidth": 0,
              "ticks": ""
             }
            },
            "marker": {
             "colorbar": {
              "outlinewidth": 0,
              "ticks": ""
             }
            },
            "type": "scatter3d"
           }
          ],
          "scattercarpet": [
           {
            "marker": {
             "colorbar": {
              "outlinewidth": 0,
              "ticks": ""
             }
            },
            "type": "scattercarpet"
           }
          ],
          "scattergeo": [
           {
            "marker": {
             "colorbar": {
              "outlinewidth": 0,
              "ticks": ""
             }
            },
            "type": "scattergeo"
           }
          ],
          "scattergl": [
           {
            "marker": {
             "colorbar": {
              "outlinewidth": 0,
              "ticks": ""
             }
            },
            "type": "scattergl"
           }
          ],
          "scattermapbox": [
           {
            "marker": {
             "colorbar": {
              "outlinewidth": 0,
              "ticks": ""
             }
            },
            "type": "scattermapbox"
           }
          ],
          "scatterpolar": [
           {
            "marker": {
             "colorbar": {
              "outlinewidth": 0,
              "ticks": ""
             }
            },
            "type": "scatterpolar"
           }
          ],
          "scatterpolargl": [
           {
            "marker": {
             "colorbar": {
              "outlinewidth": 0,
              "ticks": ""
             }
            },
            "type": "scatterpolargl"
           }
          ],
          "scatterternary": [
           {
            "marker": {
             "colorbar": {
              "outlinewidth": 0,
              "ticks": ""
             }
            },
            "type": "scatterternary"
           }
          ],
          "surface": [
           {
            "colorbar": {
             "outlinewidth": 0,
             "ticks": ""
            },
            "colorscale": [
             [
              0,
              "#0d0887"
             ],
             [
              0.1111111111111111,
              "#46039f"
             ],
             [
              0.2222222222222222,
              "#7201a8"
             ],
             [
              0.3333333333333333,
              "#9c179e"
             ],
             [
              0.4444444444444444,
              "#bd3786"
             ],
             [
              0.5555555555555556,
              "#d8576b"
             ],
             [
              0.6666666666666666,
              "#ed7953"
             ],
             [
              0.7777777777777778,
              "#fb9f3a"
             ],
             [
              0.8888888888888888,
              "#fdca26"
             ],
             [
              1,
              "#f0f921"
             ]
            ],
            "type": "surface"
           }
          ],
          "table": [
           {
            "cells": {
             "fill": {
              "color": "#EBF0F8"
             },
             "line": {
              "color": "white"
             }
            },
            "header": {
             "fill": {
              "color": "#C8D4E3"
             },
             "line": {
              "color": "white"
             }
            },
            "type": "table"
           }
          ]
         },
         "layout": {
          "annotationdefaults": {
           "arrowcolor": "#2a3f5f",
           "arrowhead": 0,
           "arrowwidth": 1
          },
          "autotypenumbers": "strict",
          "coloraxis": {
           "colorbar": {
            "outlinewidth": 0,
            "ticks": ""
           }
          },
          "colorscale": {
           "diverging": [
            [
             0,
             "#8e0152"
            ],
            [
             0.1,
             "#c51b7d"
            ],
            [
             0.2,
             "#de77ae"
            ],
            [
             0.3,
             "#f1b6da"
            ],
            [
             0.4,
             "#fde0ef"
            ],
            [
             0.5,
             "#f7f7f7"
            ],
            [
             0.6,
             "#e6f5d0"
            ],
            [
             0.7,
             "#b8e186"
            ],
            [
             0.8,
             "#7fbc41"
            ],
            [
             0.9,
             "#4d9221"
            ],
            [
             1,
             "#276419"
            ]
           ],
           "sequential": [
            [
             0,
             "#0d0887"
            ],
            [
             0.1111111111111111,
             "#46039f"
            ],
            [
             0.2222222222222222,
             "#7201a8"
            ],
            [
             0.3333333333333333,
             "#9c179e"
            ],
            [
             0.4444444444444444,
             "#bd3786"
            ],
            [
             0.5555555555555556,
             "#d8576b"
            ],
            [
             0.6666666666666666,
             "#ed7953"
            ],
            [
             0.7777777777777778,
             "#fb9f3a"
            ],
            [
             0.8888888888888888,
             "#fdca26"
            ],
            [
             1,
             "#f0f921"
            ]
           ],
           "sequentialminus": [
            [
             0,
             "#0d0887"
            ],
            [
             0.1111111111111111,
             "#46039f"
            ],
            [
             0.2222222222222222,
             "#7201a8"
            ],
            [
             0.3333333333333333,
             "#9c179e"
            ],
            [
             0.4444444444444444,
             "#bd3786"
            ],
            [
             0.5555555555555556,
             "#d8576b"
            ],
            [
             0.6666666666666666,
             "#ed7953"
            ],
            [
             0.7777777777777778,
             "#fb9f3a"
            ],
            [
             0.8888888888888888,
             "#fdca26"
            ],
            [
             1,
             "#f0f921"
            ]
           ]
          },
          "colorway": [
           "#636efa",
           "#EF553B",
           "#00cc96",
           "#ab63fa",
           "#FFA15A",
           "#19d3f3",
           "#FF6692",
           "#B6E880",
           "#FF97FF",
           "#FECB52"
          ],
          "font": {
           "color": "#2a3f5f"
          },
          "geo": {
           "bgcolor": "white",
           "lakecolor": "white",
           "landcolor": "#E5ECF6",
           "showlakes": true,
           "showland": true,
           "subunitcolor": "white"
          },
          "hoverlabel": {
           "align": "left"
          },
          "hovermode": "closest",
          "mapbox": {
           "style": "light"
          },
          "paper_bgcolor": "white",
          "plot_bgcolor": "#E5ECF6",
          "polar": {
           "angularaxis": {
            "gridcolor": "white",
            "linecolor": "white",
            "ticks": ""
           },
           "bgcolor": "#E5ECF6",
           "radialaxis": {
            "gridcolor": "white",
            "linecolor": "white",
            "ticks": ""
           }
          },
          "scene": {
           "xaxis": {
            "backgroundcolor": "#E5ECF6",
            "gridcolor": "white",
            "gridwidth": 2,
            "linecolor": "white",
            "showbackground": true,
            "ticks": "",
            "zerolinecolor": "white"
           },
           "yaxis": {
            "backgroundcolor": "#E5ECF6",
            "gridcolor": "white",
            "gridwidth": 2,
            "linecolor": "white",
            "showbackground": true,
            "ticks": "",
            "zerolinecolor": "white"
           },
           "zaxis": {
            "backgroundcolor": "#E5ECF6",
            "gridcolor": "white",
            "gridwidth": 2,
            "linecolor": "white",
            "showbackground": true,
            "ticks": "",
            "zerolinecolor": "white"
           }
          },
          "shapedefaults": {
           "line": {
            "color": "#2a3f5f"
           }
          },
          "ternary": {
           "aaxis": {
            "gridcolor": "white",
            "linecolor": "white",
            "ticks": ""
           },
           "baxis": {
            "gridcolor": "white",
            "linecolor": "white",
            "ticks": ""
           },
           "bgcolor": "#E5ECF6",
           "caxis": {
            "gridcolor": "white",
            "linecolor": "white",
            "ticks": ""
           }
          },
          "title": {
           "x": 0.05
          },
          "xaxis": {
           "automargin": true,
           "gridcolor": "white",
           "linecolor": "white",
           "ticks": "",
           "title": {
            "standoff": 15
           },
           "zerolinecolor": "white",
           "zerolinewidth": 2
          },
          "yaxis": {
           "automargin": true,
           "gridcolor": "white",
           "linecolor": "white",
           "ticks": "",
           "title": {
            "standoff": 15
           },
           "zerolinecolor": "white",
           "zerolinewidth": 2
          }
         }
        },
        "xaxis": {
         "anchor": "y",
         "autorange": true,
         "domain": [
          0,
          1
         ],
         "range": [
          -0.24795429983016828,
          4.247954299830169
         ],
         "title": {
          "text": "Year"
         },
         "type": "category"
        },
        "yaxis": {
         "anchor": "x",
         "autorange": true,
         "domain": [
          0,
          1
         ],
         "range": [
          4.508518170471892,
          13.649296220141435
         ],
         "title": {
          "text": "Loan Acceptance Rate(%)"
         },
         "type": "linear"
        }
       }
      },
      "image/png": "[encoded data removed]",
      "text/html": [
       "<div>                            <div id=\"f13204d3-e72f-4d82-8531-0a82f925d05f\" class=\"plotly-graph-div\" style=\"height:525px; width:100%;\"></div>            <script type=\"text/javascript\">                require([\"plotly\"], function(Plotly) {                    window.PLOTLYENV=window.PLOTLYENV || {};                                    if (document.getElementById(\"f13204d3-e72f-4d82-8531-0a82f925d05f\")) {                    Plotly.newPlot(                        \"f13204d3-e72f-4d82-8531-0a82f925d05f\",                        [{\"hovertemplate\":\"Year=%{x}<br>Loan Acceptance Rate(%)=%{y}<extra></extra>\",\"legendgroup\":\"\",\"line\":{\"color\":\"#636efa\",\"dash\":\"solid\"},\"marker\":{\"symbol\":\"circle\"},\"mode\":\"lines+markers\",\"name\":\"\",\"orientation\":\"v\",\"showlegend\":false,\"x\":[\"2014\",\"2015\",\"2016\",\"2017\",\"2018\"],\"xaxis\":\"x\",\"y\":[11.078767586168084,13.036448600902228,8.574363025594764,6.0746585639439745,5.1213657897111],\"yaxis\":\"y\",\"type\":\"scatter\"}],                        {\"template\":{\"data\":{\"bar\":[{\"error_x\":{\"color\":\"#2a3f5f\"},\"error_y\":{\"color\":\"#2a3f5f\"},\"marker\":{\"line\":{\"color\":\"#E5ECF6\",\"width\":0.5},\"pattern\":{\"fillmode\":\"overlay\",\"size\":10,\"solidity\":0.2}},\"type\":\"bar\"}],\"barpolar\":[{\"marker\":{\"line\":{\"color\":\"#E5ECF6\",\"width\":0.5},\"pattern\":{\"fillmode\":\"overlay\",\"size\":10,\"solidity\":0.2}},\"type\":\"barpolar\"}],\"carpet\":[{\"aaxis\":{\"endlinecolor\":\"#2a3f5f\",\"gridcolor\":\"white\",\"linecolor\":\"white\",\"minorgridcolor\":\"white\",\"startlinecolor\":\"#2a3f5f\"},\"baxis\":{\"endlinecolor\":\"#2a3f5f\",\"gridcolor\":\"white\",\"linecolor\":\"white\",\"minorgridcolor\":\"white\",\"startlinecolor\":\"#2a3f5f\"},\"type\":\"carpet\"}],\"choropleth\":[{\"colorbar\":{\"outlinewidth\":0,\"ticks\":\"\"},\"type\":\"choropleth\"}],\"contour\":[{\"colorbar\":{\"outlinewidth\":0,\"ticks\":\"\"},\"colorscale\":[[0.0,\"#0d0887\"],[0.1111111111111111,\"#46039f\"],[0.2222222222222222,\"#7201a8\"],[0.3333333333333333,\"#9c179e\"],[0.4444444444444444,\"#bd3786\"],[0.5555555555555556,\"#d8576b\"],[0.6666666666666666,\"#ed7953\"],[0.7777777777777778,\"#fb9f3a\"],[0.8888888888888888,\"#fdca26\"],[1.0,\"#f0f921\"]],\"type\":\"contour\"}],\"contourcarpet\":[{\"colorbar\":{\"outlinewidth\":0,\"ticks\":\"\"},\"type\":\"contourcarpet\"}],\"heatmap\":[{\"colorbar\":{\"outlinewidth\":0,\"ticks\":\"\"},\"colorscale\":[[0.0,\"#0d0887\"],[0.1111111111111111,\"#46039f\"],[0.2222222222222222,\"#7201a8\"],[0.3333333333333333,\"#9c179e\"],[0.4444444444444444,\"#bd3786\"],[0.5555555555555556,\"#d8576b\"],[0.6666666666666666,\"#ed7953\"],[0.7777777777777778,\"#fb9f3a\"],[0.8888888888888888,\"#fdca26\"],[1.0,\"#f0f921\"]],\"type\":\"heatmap\"}],\"heatmapgl\":[{\"colorbar\":{\"outlinewidth\":0,\"ticks\":\"\"},\"colorscale\":[[0.0,\"#0d0887\"],[0.1111111111111111,\"#46039f\"],[0.2222222222222222,\"#7201a8\"],[0.3333333333333333,\"#9c179e\"],[0.4444444444444444,\"#bd3786\"],[0.5555555555555556,\"#d8576b\"],[0.6666666666666666,\"#ed7953\"],[0.7777777777777778,\"#fb9f3a\"],[0.8888888888888888,\"#fdca26\"],[1.0,\"#f0f921\"]],\"type\":\"heatmapgl\"}],\"histogram\":[{\"marker\":{\"pattern\":{\"fillmode\":\"overlay\",\"size\":10,\"solidity\":0.2}},\"type\":\"histogram\"}],\"histogram2d\":[{\"colorbar\":{\"outlinewidth\":0,\"ticks\":\"\"},\"colorscale\":[[0.0,\"#0d0887\"],[0.1111111111111111,\"#46039f\"],[0.2222222222222222,\"#7201a8\"],[0.3333333333333333,\"#9c179e\"],[0.4444444444444444,\"#bd3786\"],[0.5555555555555556,\"#d8576b\"],[0.6666666666666666,\"#ed7953\"],[0.7777777777777778,\"#fb9f3a\"],[0.8888888888888888,\"#fdca26\"],[1.0,\"#f0f921\"]],\"type\":\"histogram2d\"}],\"histogram2dcontour\":[{\"colorbar\":{\"outlinewidth\":0,\"ticks\":\"\"},\"colorscale\":[[0.0,\"#0d0887\"],[0.1111111111111111,\"#46039f\"],[0.2222222222222222,\"#7201a8\"],[0.3333333333333333,\"#9c179e\"],[0.4444444444444444,\"#bd3786\"],[0.5555555555555556,\"#d8576b\"],[0.6666666666666666,\"#ed7953\"],[0.7777777777777778,\"#fb9f3a\"],[0.8888888888888888,\"#fdca26\"],[1.0,\"#f0f921\"]],\"type\":\"histogram2dcontour\"}],\"mesh3d\":[{\"colorbar\":{\"outlinewidth\":0,\"ticks\":\"\"},\"type\":\"mesh3d\"}],\"parcoords\":[{\"line\":{\"colorbar\":{\"outlinewidth\":0,\"ticks\":\"\"}},\"type\":\"parcoords\"}],\"pie\":[{\"automargin\":true,\"type\":\"pie\"}],\"scatter\":[{\"marker\":{\"colorbar\":{\"outlinewidth\":0,\"ticks\":\"\"}},\"type\":\"scatter\"}],\"scatter3d\":[{\"line\":{\"colorbar\":{\"outlinewidth\":0,\"ticks\":\"\"}},\"marker\":{\"colorbar\":{\"outlinewidth\":0,\"ticks\":\"\"}},\"type\":\"scatter3d\"}],\"scattercarpet\":[{\"marker\":{\"colorbar\":{\"outlinewidth\":0,\"ticks\":\"\"}},\"type\":\"scattercarpet\"}],\"scattergeo\":[{\"marker\":{\"colorbar\":{\"outlinewidth\":0,\"ticks\":\"\"}},\"type\":\"scattergeo\"}],\"scattergl\":[{\"marker\":{\"colorbar\":{\"outlinewidth\":0,\"ticks\":\"\"}},\"type\":\"scattergl\"}],\"scattermapbox\":[{\"marker\":{\"colorbar\":{\"outlinewidth\":0,\"ticks\":\"\"}},\"type\":\"scattermapbox\"}],\"scatterpolar\":[{\"marker\":{\"colorbar\":{\"outlinewidth\":0,\"ticks\":\"\"}},\"type\":\"scatterpolar\"}],\"scatterpolargl\":[{\"marker\":{\"colorbar\":{\"outlinewidth\":0,\"ticks\":\"\"}},\"type\":\"scatterpolargl\"}],\"scatterternary\":[{\"marker\":{\"colorbar\":{\"outlinewidth\":0,\"ticks\":\"\"}},\"type\":\"scatterternary\"}],\"surface\":[{\"colorbar\":{\"outlinewidth\":0,\"ticks\":\"\"},\"colorscale\":[[0.0,\"#0d0887\"],[0.1111111111111111,\"#46039f\"],[0.2222222222222222,\"#7201a8\"],[0.3333333333333333,\"#9c179e\"],[0.4444444444444444,\"#bd3786\"],[0.5555555555555556,\"#d8576b\"],[0.6666666666666666,\"#ed7953\"],[0.7777777777777778,\"#fb9f3a\"],[0.8888888888888888,\"#fdca26\"],[1.0,\"#f0f921\"]],\"type\":\"surface\"}],\"table\":[{\"cells\":{\"fill\":{\"color\":\"#EBF0F8\"},\"line\":{\"color\":\"white\"}},\"header\":{\"fill\":{\"color\":\"#C8D4E3\"},\"line\":{\"color\":\"white\"}},\"type\":\"table\"}]},\"layout\":{\"annotationdefaults\":{\"arrowcolor\":\"#2a3f5f\",\"arrowhead\":0,\"arrowwidth\":1},\"autotypenumbers\":\"strict\",\"coloraxis\":{\"colorbar\":{\"outlinewidth\":0,\"ticks\":\"\"}},\"colorscale\":{\"diverging\":[[0,\"#8e0152\"],[0.1,\"#c51b7d\"],[0.2,\"#de77ae\"],[0.3,\"#f1b6da\"],[0.4,\"#fde0ef\"],[0.5,\"#f7f7f7\"],[0.6,\"#e6f5d0\"],[0.7,\"#b8e186\"],[0.8,\"#7fbc41\"],[0.9,\"#4d9221\"],[1,\"#276419\"]],\"sequential\":[[0.0,\"#0d0887\"],[0.1111111111111111,\"#46039f\"],[0.2222222222222222,\"#7201a8\"],[0.3333333333333333,\"#9c179e\"],[0.4444444444444444,\"#bd3786\"],[0.5555555555555556,\"#d8576b\"],[0.6666666666666666,\"#ed7953\"],[0.7777777777777778,\"#fb9f3a\"],[0.8888888888888888,\"#fdca26\"],[1.0,\"#f0f921\"]],\"sequentialminus\":[[0.0,\"#0d0887\"],[0.1111111111111111,\"#46039f\"],[0.2222222222222222,\"#7201a8\"],[0.3333333333333333,\"#9c179e\"],[0.4444444444444444,\"#bd3786\"],[0.5555555555555556,\"#d8576b\"],[0.6666666666666666,\"#ed7953\"],[0.7777777777777778,\"#fb9f3a\"],[0.8888888888888888,\"#fdca26\"],[1.0,\"#f0f921\"]]},\"colorway\":[\"#636efa\",\"#EF553B\",\"#00cc96\",\"#ab63fa\",\"#FFA15A\",\"#19d3f3\",\"#FF6692\",\"#B6E880\",\"#FF97FF\",\"#FECB52\"],\"font\":{\"color\":\"#2a3f5f\"},\"geo\":{\"bgcolor\":\"white\",\"lakecolor\":\"white\",\"landcolor\":\"#E5ECF6\",\"showlakes\":true,\"showland\":true,\"subunitcolor\":\"white\"},\"hoverlabel\":{\"align\":\"left\"},\"hovermode\":\"closest\",\"mapbox\":{\"style\":\"light\"},\"paper_bgcolor\":\"white\",\"plot_bgcolor\":\"#E5ECF6\",\"polar\":{\"angularaxis\":{\"gridcolor\":\"white\",\"linecolor\":\"white\",\"ticks\":\"\"},\"bgcolor\":\"#E5ECF6\",\"radialaxis\":{\"gridcolor\":\"white\",\"linecolor\":\"white\",\"ticks\":\"\"}},\"scene\":{\"xaxis\":{\"backgroundcolor\":\"#E5ECF6\",\"gridcolor\":\"white\",\"gridwidth\":2,\"linecolor\":\"white\",\"showbackground\":true,\"ticks\":\"\",\"zerolinecolor\":\"white\"},\"yaxis\":{\"backgroundcolor\":\"#E5ECF6\",\"gridcolor\":\"white\",\"gridwidth\":2,\"linecolor\":\"white\",\"showbackground\":true,\"ticks\":\"\",\"zerolinecolor\":\"white\"},\"zaxis\":{\"backgroundcolor\":\"#E5ECF6\",\"gridcolor\":\"white\",\"gridwidth\":2,\"linecolor\":\"white\",\"showbackground\":true,\"ticks\":\"\",\"zerolinecolor\":\"white\"}},\"shapedefaults\":{\"line\":{\"color\":\"#2a3f5f\"}},\"ternary\":{\"aaxis\":{\"gridcolor\":\"white\",\"linecolor\":\"white\",\"ticks\":\"\"},\"baxis\":{\"gridcolor\":\"white\",\"linecolor\":\"white\",\"ticks\":\"\"},\"bgcolor\":\"#E5ECF6\",\"caxis\":{\"gridcolor\":\"white\",\"linecolor\":\"white\",\"ticks\":\"\"}},\"title\":{\"x\":0.05},\"xaxis\":{\"automargin\":true,\"gridcolor\":\"white\",\"linecolor\":\"white\",\"ticks\":\"\",\"title\":{\"standoff\":15},\"zerolinecolor\":\"white\",\"zerolinewidth\":2},\"yaxis\":{\"automargin\":true,\"gridcolor\":\"white\",\"linecolor\":\"white\",\"ticks\":\"\",\"title\":{\"standoff\":15},\"zerolinecolor\":\"white\",\"zerolinewidth\":2}}},\"xaxis\":{\"anchor\":\"y\",\"domain\":[0.0,1.0],\"title\":{\"text\":\"Year\"}},\"yaxis\":{\"anchor\":\"x\",\"domain\":[0.0,1.0],\"title\":{\"text\":\"Loan Acceptance Rate(%)\"}},\"legend\":{\"tracegroupgap\":0},\"margin\":{\"t\":60}},                        {\"responsive\": true}                    ).then(function(){\n",
       "                            \n",
       "var gd = document.getElementById('f13204d3-e72f-4d82-8531-0a82f925d05f');\n",
       "var x = new MutationObserver(function (mutations, observer) {{\n",
       "        var display = window.getComputedStyle(gd).display;\n",
       "        if (!display || display === 'none') {{\n",
       "            console.log([gd, 'removed!']);\n",
       "            Plotly.purge(gd);\n",
       "            observer.disconnect();\n",
       "        }}\n",
       "}});\n",
       "\n",
       "// Listen for the removal of the full notebook cells\n",
       "var notebookContainer = gd.closest('#notebook-container');\n",
       "if (notebookContainer) {{\n",
       "    x.observe(notebookContainer, {childList: true});\n",
       "}}\n",
       "\n",
       "// Listen for the clearing of the current output cell\n",
       "var outputEl = gd.closest('.output');\n",
       "if (outputEl) {{\n",
       "    x.observe(outputEl, {childList: true});\n",
       "}}\n",
       "\n",
       "                        })                };                });            </script>        </div>"
      ]
     },
     "metadata": {},
     "output_type": "display_data"
    }
   ],
   "source": [
    "fig = px.line(        \n",
    "        df_accr,\n",
    "        x = 'year', #Columns from the data frame\n",
    "        y = 'Acceptance Rate',\n",
    "#        title = 'Loan Acceptance Rate by Race',\n",
    "        markers = True,\n",
    "        labels = { 'year':'Year', 'Acceptance Rate': 'Loan Acceptance Rate(%)',}\n",
    ")\n",
    "\n",
    "fig.show()"
   ]
  },
  {
   "cell_type": "code",
   "execution_count": 344,
   "id": "aed0b825-20d1-4e64-9399-4425ae24cb09",
   "metadata": {},
   "outputs": [
    {
     "data": {
      "image/png": "[encoded data removed]",
      "text/plain": [
       "<Figure size 576x576 with 1 Axes>"
      ]
     },
     "metadata": {
      "needs_background": "light"
     },
     "output_type": "display_data"
    }
   ],
   "source": [
    "df_ar_avg = df_total.agg({ 'acc_black':sum, 'rej_black':sum,\n",
    "                                        'acc_white':sum, 'rej_white':sum,\n",
    "                                        'acc_asian':sum, 'rej_asian':sum})\n",
    "df = pd.DataFrame([[0,0,0]], columns = [ 'Black', 'White', 'Asian'] )\n",
    "for race in races:\n",
    "    df[race.capitalize()] =df_ar_avg['acc_'+race] * 100/(df_ar_avg['acc_'+race] + df_ar_avg['rej_'+race])\n",
    "\n",
    "df = df.T\n",
    "#df['Acceptance Rate'] = df['0']\n",
    "#df['Acceptance Rate'] = \n",
    "\n",
    "fig, ax = plt.subplots(1, figsize=(8, 8))\n",
    "plt.bar(df.index, df[0], color ='#1D2F6F' )\n",
    "plt.xlabel('Community', fontsize = 20)\n",
    "plt.ylabel('Loan Acceptance Rate (%)', fontsize = 20)\n",
    "\n",
    "# remove spines\n",
    "ax.spines['right'].set_visible(False)\n",
    "ax.spines['left'].set_visible(False)\n",
    "ax.spines['top'].set_visible(False)\n",
    "#ax.spines['bottom'].set_visible(False)\n",
    "\n",
    "plt.ylim(6, ax.get_yticks()[-1] - 0.1)\n",
    "ax.yaxis.grid(color='gray', linestyle='dashed')\n",
    "plt.rcParams.update({'font.size': 15})\n",
    "plt.show()"
   ]
  },
  {
   "cell_type": "code",
   "execution_count": 333,
   "id": "0f907dae-c941-4814-905e-a4f5db3af915",
   "metadata": {},
   "outputs": [
    {
     "data": {
      "text/plain": [
       "0"
      ]
     },
     "execution_count": 333,
     "metadata": {},
     "output_type": "execute_result"
    }
   ],
   "source": [
    "df.columns[0]"
   ]
  },
  {
   "cell_type": "code",
   "execution_count": 286,
   "id": "4dc27719-922b-4109-a457-95f1c95cfbcb",
   "metadata": {},
   "outputs": [
    {
     "data": {
      "application/vnd.plotly.v1+json": {
       "config": {
        "plotlyServerURL": "https://plot.ly"
       },
       "data": [
        {
         "hovertemplate": "variable=Black<br>Year=%{x}<br>Total Loan Applications=%{y}<extra></extra>",
         "legendgroup": "Black",
         "line": {
          "color": "#636efa",
          "dash": "solid"
         },
         "marker": {
          "symbol": "circle"
         },
         "mode": "lines+markers",
         "name": "Black",
         "orientation": "v",
         "showlegend": true,
         "type": "scatter",
         "x": [
          "2014",
          "2015",
          "2016",
          "2017",
          "2018"
         ],
         "xaxis": "x",
         "y": [
          219881.1478676193,
          325739.0604088252,
          460618.85163688945,
          672519.8818452667,
          901051.321996281
         ],
         "yaxis": "y"
        },
        {
         "hovertemplate": "variable=White<br>Year=%{x}<br>Total Loan Applications=%{y}<extra></extra>",
         "legendgroup": "White",
         "line": {
          "color": "#EF553B",
          "dash": "solid"
         },
         "marker": {
          "symbol": "circle"
         },
         "mode": "lines+markers",
         "name": "White",
         "orientation": "v",
         "showlegend": true,
         "type": "scatter",
         "x": [
          "2014",
          "2015",
          "2016",
          "2017",
          "2018"
         ],
         "xaxis": "x",
         "y": [
          1138778.512724993,
          1797192.8415111038,
          2479284.0990091735,
          3561028.6078441367,
          4664347.245926776
         ],
         "yaxis": "y"
        },
        {
         "hovertemplate": "variable=Asian<br>Year=%{x}<br>Total Loan Applications=%{y}<extra></extra>",
         "legendgroup": "Asian",
         "line": {
          "color": "#00cc96",
          "dash": "solid"
         },
         "marker": {
          "symbol": "circle"
         },
         "mode": "lines+markers",
         "name": "Asian",
         "orientation": "v",
         "showlegend": true,
         "type": "scatter",
         "x": [
          "2014",
          "2015",
          "2016",
          "2017",
          "2018"
         ],
         "xaxis": "x",
         "y": [
          121303.03059077848,
          199660.47138335317,
          272759.918536087,
          417650.0234437399,
          562314.2173283977
         ],
         "yaxis": "y"
        }
       ],
       "layout": {
        "autosize": true,
        "legend": {
         "bordercolor": "Black",
         "borderwidth": 1,
         "orientation": "h",
         "title": {
          "text": ""
         },
         "tracegroupgap": 0,
         "x": 0,
         "y": 1
        },
        "margin": {
         "t": 60
        },
        "template": {
         "data": {
          "bar": [
           {
            "error_x": {
             "color": "#2a3f5f"
            },
            "error_y": {
             "color": "#2a3f5f"
            },
            "marker": {
             "line": {
              "color": "#E5ECF6",
              "width": 0.5
             },
             "pattern": {
              "fillmode": "overlay",
              "size": 10,
              "solidity": 0.2
             }
            },
            "type": "bar"
           }
          ],
          "barpolar": [
           {
            "marker": {
             "line": {
              "color": "#E5ECF6",
              "width": 0.5
             },
             "pattern": {
              "fillmode": "overlay",
              "size": 10,
              "solidity": 0.2
             }
            },
            "type": "barpolar"
           }
          ],
          "carpet": [
           {
            "aaxis": {
             "endlinecolor": "#2a3f5f",
             "gridcolor": "white",
             "linecolor": "white",
             "minorgridcolor": "white",
             "startlinecolor": "#2a3f5f"
            },
            "baxis": {
             "endlinecolor": "#2a3f5f",
             "gridcolor": "white",
             "linecolor": "white",
             "minorgridcolor": "white",
             "startlinecolor": "#2a3f5f"
            },
            "type": "carpet"
           }
          ],
          "choropleth": [
           {
            "colorbar": {
             "outlinewidth": 0,
             "ticks": ""
            },
            "type": "choropleth"
           }
          ],
          "contour": [
           {
            "colorbar": {
             "outlinewidth": 0,
             "ticks": ""
            },
            "colorscale": [
             [
              0,
              "#0d0887"
             ],
             [
              0.1111111111111111,
              "#46039f"
             ],
             [
              0.2222222222222222,
              "#7201a8"
             ],
             [
              0.3333333333333333,
              "#9c179e"
             ],
             [
              0.4444444444444444,
              "#bd3786"
             ],
             [
              0.5555555555555556,
              "#d8576b"
             ],
             [
              0.6666666666666666,
              "#ed7953"
             ],
             [
              0.7777777777777778,
              "#fb9f3a"
             ],
             [
              0.8888888888888888,
              "#fdca26"
             ],
             [
              1,
              "#f0f921"
             ]
            ],
            "type": "contour"
           }
          ],
          "contourcarpet": [
           {
            "colorbar": {
             "outlinewidth": 0,
             "ticks": ""
            },
            "type": "contourcarpet"
           }
          ],
          "heatmap": [
           {
            "colorbar": {
             "outlinewidth": 0,
             "ticks": ""
            },
            "colorscale": [
             [
              0,
              "#0d0887"
             ],
             [
              0.1111111111111111,
              "#46039f"
             ],
             [
              0.2222222222222222,
              "#7201a8"
             ],
             [
              0.3333333333333333,
              "#9c179e"
             ],
             [
              0.4444444444444444,
              "#bd3786"
             ],
             [
              0.5555555555555556,
              "#d8576b"
             ],
             [
              0.6666666666666666,
              "#ed7953"
             ],
             [
              0.7777777777777778,
              "#fb9f3a"
             ],
             [
              0.8888888888888888,
              "#fdca26"
             ],
             [
              1,
              "#f0f921"
             ]
            ],
            "type": "heatmap"
           }
          ],
          "heatmapgl": [
           {
            "colorbar": {
             "outlinewidth": 0,
             "ticks": ""
            },
            "colorscale": [
             [
              0,
              "#0d0887"
             ],
             [
              0.1111111111111111,
              "#46039f"
             ],
             [
              0.2222222222222222,
              "#7201a8"
             ],
             [
              0.3333333333333333,
              "#9c179e"
             ],
             [
              0.4444444444444444,
              "#bd3786"
             ],
             [
              0.5555555555555556,
              "#d8576b"
             ],
             [
              0.6666666666666666,
              "#ed7953"
             ],
             [
              0.7777777777777778,
              "#fb9f3a"
             ],
             [
              0.8888888888888888,
              "#fdca26"
             ],
             [
              1,
              "#f0f921"
             ]
            ],
            "type": "heatmapgl"
           }
          ],
          "histogram": [
           {
            "marker": {
             "pattern": {
              "fillmode": "overlay",
              "size": 10,
              "solidity": 0.2
             }
            },
            "type": "histogram"
           }
          ],
          "histogram2d": [
           {
            "colorbar": {
             "outlinewidth": 0,
             "ticks": ""
            },
            "colorscale": [
             [
              0,
              "#0d0887"
             ],
             [
              0.1111111111111111,
              "#46039f"
             ],
             [
              0.2222222222222222,
              "#7201a8"
             ],
             [
              0.3333333333333333,
              "#9c179e"
             ],
             [
              0.4444444444444444,
              "#bd3786"
             ],
             [
              0.5555555555555556,
              "#d8576b"
             ],
             [
              0.6666666666666666,
              "#ed7953"
             ],
             [
              0.7777777777777778,
              "#fb9f3a"
             ],
             [
              0.8888888888888888,
              "#fdca26"
             ],
             [
              1,
              "#f0f921"
             ]
            ],
            "type": "histogram2d"
           }
          ],
          "histogram2dcontour": [
           {
            "colorbar": {
             "outlinewidth": 0,
             "ticks": ""
            },
            "colorscale": [
             [
              0,
              "#0d0887"
             ],
             [
              0.1111111111111111,
              "#46039f"
             ],
             [
              0.2222222222222222,
              "#7201a8"
             ],
             [
              0.3333333333333333,
              "#9c179e"
             ],
             [
              0.4444444444444444,
              "#bd3786"
             ],
             [
              0.5555555555555556,
              "#d8576b"
             ],
             [
              0.6666666666666666,
              "#ed7953"
             ],
             [
              0.7777777777777778,
              "#fb9f3a"
             ],
             [
              0.8888888888888888,
              "#fdca26"
             ],
             [
              1,
              "#f0f921"
             ]
            ],
            "type": "histogram2dcontour"
           }
          ],
          "mesh3d": [
           {
            "colorbar": {
             "outlinewidth": 0,
             "ticks": ""
            },
            "type": "mesh3d"
           }
          ],
          "parcoords": [
           {
            "line": {
             "colorbar": {
              "outlinewidth": 0,
              "ticks": ""
             }
            },
            "type": "parcoords"
           }
          ],
          "pie": [
           {
            "automargin": true,
            "type": "pie"
           }
          ],
          "scatter": [
           {
            "marker": {
             "colorbar": {
              "outlinewidth": 0,
              "ticks": ""
             }
            },
            "type": "scatter"
           }
          ],
          "scatter3d": [
           {
            "line": {
             "colorbar": {
              "outlinewidth": 0,
              "ticks": ""
             }
            },
            "marker": {
             "colorbar": {
              "outlinewidth": 0,
              "ticks": ""
             }
            },
            "type": "scatter3d"
           }
          ],
          "scattercarpet": [
           {
            "marker": {
             "colorbar": {
              "outlinewidth": 0,
              "ticks": ""
             }
            },
            "type": "scattercarpet"
           }
          ],
          "scattergeo": [
           {
            "marker": {
             "colorbar": {
              "outlinewidth": 0,
              "ticks": ""
             }
            },
            "type": "scattergeo"
           }
          ],
          "scattergl": [
           {
            "marker": {
             "colorbar": {
              "outlinewidth": 0,
              "ticks": ""
             }
            },
            "type": "scattergl"
           }
          ],
          "scattermapbox": [
           {
            "marker": {
             "colorbar": {
              "outlinewidth": 0,
              "ticks": ""
             }
            },
            "type": "scattermapbox"
           }
          ],
          "scatterpolar": [
           {
            "marker": {
             "colorbar": {
              "outlinewidth": 0,
              "ticks": ""
             }
            },
            "type": "scatterpolar"
           }
          ],
          "scatterpolargl": [
           {
            "marker": {
             "colorbar": {
              "outlinewidth": 0,
              "ticks": ""
             }
            },
            "type": "scatterpolargl"
           }
          ],
          "scatterternary": [
           {
            "marker": {
             "colorbar": {
              "outlinewidth": 0,
              "ticks": ""
             }
            },
            "type": "scatterternary"
           }
          ],
          "surface": [
           {
            "colorbar": {
             "outlinewidth": 0,
             "ticks": ""
            },
            "colorscale": [
             [
              0,
              "#0d0887"
             ],
             [
              0.1111111111111111,
              "#46039f"
             ],
             [
              0.2222222222222222,
              "#7201a8"
             ],
             [
              0.3333333333333333,
              "#9c179e"
             ],
             [
              0.4444444444444444,
              "#bd3786"
             ],
             [
              0.5555555555555556,
              "#d8576b"
             ],
             [
              0.6666666666666666,
              "#ed7953"
             ],
             [
              0.7777777777777778,
              "#fb9f3a"
             ],
             [
              0.8888888888888888,
              "#fdca26"
             ],
             [
              1,
              "#f0f921"
             ]
            ],
            "type": "surface"
           }
          ],
          "table": [
           {
            "cells": {
             "fill": {
              "color": "#EBF0F8"
             },
             "line": {
              "color": "white"
             }
            },
            "header": {
             "fill": {
              "color": "#C8D4E3"
             },
             "line": {
              "color": "white"
             }
            },
            "type": "table"
           }
          ]
         },
         "layout": {
          "annotationdefaults": {
           "arrowcolor": "#2a3f5f",
           "arrowhead": 0,
           "arrowwidth": 1
          },
          "autotypenumbers": "strict",
          "coloraxis": {
           "colorbar": {
            "outlinewidth": 0,
            "ticks": ""
           }
          },
          "colorscale": {
           "diverging": [
            [
             0,
             "#8e0152"
            ],
            [
             0.1,
             "#c51b7d"
            ],
            [
             0.2,
             "#de77ae"
            ],
            [
             0.3,
             "#f1b6da"
            ],
            [
             0.4,
             "#fde0ef"
            ],
            [
             0.5,
             "#f7f7f7"
            ],
            [
             0.6,
             "#e6f5d0"
            ],
            [
             0.7,
             "#b8e186"
            ],
            [
             0.8,
             "#7fbc41"
            ],
            [
             0.9,
             "#4d9221"
            ],
            [
             1,
             "#276419"
            ]
           ],
           "sequential": [
            [
             0,
             "#0d0887"
            ],
            [
             0.1111111111111111,
             "#46039f"
            ],
            [
             0.2222222222222222,
             "#7201a8"
            ],
            [
             0.3333333333333333,
             "#9c179e"
            ],
            [
             0.4444444444444444,
             "#bd3786"
            ],
            [
             0.5555555555555556,
             "#d8576b"
            ],
            [
             0.6666666666666666,
             "#ed7953"
            ],
            [
             0.7777777777777778,
             "#fb9f3a"
            ],
            [
             0.8888888888888888,
             "#fdca26"
            ],
            [
             1,
             "#f0f921"
            ]
           ],
           "sequentialminus": [
            [
             0,
             "#0d0887"
            ],
            [
             0.1111111111111111,
             "#46039f"
            ],
            [
             0.2222222222222222,
             "#7201a8"
            ],
            [
             0.3333333333333333,
             "#9c179e"
            ],
            [
             0.4444444444444444,
             "#bd3786"
            ],
            [
             0.5555555555555556,
             "#d8576b"
            ],
            [
             0.6666666666666666,
             "#ed7953"
            ],
            [
             0.7777777777777778,
             "#fb9f3a"
            ],
            [
             0.8888888888888888,
             "#fdca26"
            ],
            [
             1,
             "#f0f921"
            ]
           ]
          },
          "colorway": [
           "#636efa",
           "#EF553B",
           "#00cc96",
           "#ab63fa",
           "#FFA15A",
           "#19d3f3",
           "#FF6692",
           "#B6E880",
           "#FF97FF",
           "#FECB52"
          ],
          "font": {
           "color": "#2a3f5f"
          },
          "geo": {
           "bgcolor": "white",
           "lakecolor": "white",
           "landcolor": "#E5ECF6",
           "showlakes": true,
           "showland": true,
           "subunitcolor": "white"
          },
          "hoverlabel": {
           "align": "left"
          },
          "hovermode": "closest",
          "mapbox": {
           "style": "light"
          },
          "paper_bgcolor": "white",
          "plot_bgcolor": "#E5ECF6",
          "polar": {
           "angularaxis": {
            "gridcolor": "white",
            "linecolor": "white",
            "ticks": ""
           },
           "bgcolor": "#E5ECF6",
           "radialaxis": {
            "gridcolor": "white",
            "linecolor": "white",
            "ticks": ""
           }
          },
          "scene": {
           "xaxis": {
            "backgroundcolor": "#E5ECF6",
            "gridcolor": "white",
            "gridwidth": 2,
            "linecolor": "white",
            "showbackground": true,
            "ticks": "",
            "zerolinecolor": "white"
           },
           "yaxis": {
            "backgroundcolor": "#E5ECF6",
            "gridcolor": "white",
            "gridwidth": 2,
            "linecolor": "white",
            "showbackground": true,
            "ticks": "",
            "zerolinecolor": "white"
           },
           "zaxis": {
            "backgroundcolor": "#E5ECF6",
            "gridcolor": "white",
            "gridwidth": 2,
            "linecolor": "white",
            "showbackground": true,
            "ticks": "",
            "zerolinecolor": "white"
           }
          },
          "shapedefaults": {
           "line": {
            "color": "#2a3f5f"
           }
          },
          "ternary": {
           "aaxis": {
            "gridcolor": "white",
            "linecolor": "white",
            "ticks": ""
           },
           "baxis": {
            "gridcolor": "white",
            "linecolor": "white",
            "ticks": ""
           },
           "bgcolor": "#E5ECF6",
           "caxis": {
            "gridcolor": "white",
            "linecolor": "white",
            "ticks": ""
           }
          },
          "title": {
           "x": 0.05
          },
          "xaxis": {
           "automargin": true,
           "gridcolor": "white",
           "linecolor": "white",
           "ticks": "",
           "title": {
            "standoff": 15
           },
           "zerolinecolor": "white",
           "zerolinewidth": 2
          },
          "yaxis": {
           "automargin": true,
           "gridcolor": "white",
           "linecolor": "white",
           "ticks": "",
           "title": {
            "standoff": 15
           },
           "zerolinecolor": "white",
           "zerolinewidth": 2
          }
         }
        },
        "xaxis": {
         "anchor": "y",
         "autorange": true,
         "domain": [
          0,
          1
         ],
         "range": [
          -0.24795429983016828,
          4.247954299830169
         ],
         "title": {
          "text": "Year"
         },
         "type": "category"
        },
        "yaxis": {
         "anchor": "x",
         "autorange": true,
         "domain": [
          0,
          1
         ],
         "range": [
          -230454.98608221873,
          5016105.262599773
         ],
         "title": {
          "text": "Total Loan Applications"
         },
         "type": "linear"
        }
       }
      },
      "image/png": "[encoded data removed]",
      "text/html": [
       "<div>                            <div id=\"a4c042b6-6851-480e-810a-8c04724ae8d2\" class=\"plotly-graph-div\" style=\"height:525px; width:100%;\"></div>            <script type=\"text/javascript\">                require([\"plotly\"], function(Plotly) {                    window.PLOTLYENV=window.PLOTLYENV || {};                                    if (document.getElementById(\"a4c042b6-6851-480e-810a-8c04724ae8d2\")) {                    Plotly.newPlot(                        \"a4c042b6-6851-480e-810a-8c04724ae8d2\",                        [{\"hovertemplate\":\"variable=Black<br>Year=%{x}<br>Total Loan Applications=%{y}<extra></extra>\",\"legendgroup\":\"Black\",\"line\":{\"color\":\"#636efa\",\"dash\":\"solid\"},\"marker\":{\"symbol\":\"circle\"},\"mode\":\"lines+markers\",\"name\":\"Black\",\"orientation\":\"v\",\"showlegend\":true,\"x\":[\"2014\",\"2015\",\"2016\",\"2017\",\"2018\"],\"xaxis\":\"x\",\"y\":[219881.1478676193,325739.0604088252,460618.85163688945,672519.8818452667,901051.321996281],\"yaxis\":\"y\",\"type\":\"scatter\"},{\"hovertemplate\":\"variable=White<br>Year=%{x}<br>Total Loan Applications=%{y}<extra></extra>\",\"legendgroup\":\"White\",\"line\":{\"color\":\"#EF553B\",\"dash\":\"solid\"},\"marker\":{\"symbol\":\"circle\"},\"mode\":\"lines+markers\",\"name\":\"White\",\"orientation\":\"v\",\"showlegend\":true,\"x\":[\"2014\",\"2015\",\"2016\",\"2017\",\"2018\"],\"xaxis\":\"x\",\"y\":[1138778.512724993,1797192.8415111038,2479284.0990091735,3561028.6078441367,4664347.245926776],\"yaxis\":\"y\",\"type\":\"scatter\"},{\"hovertemplate\":\"variable=Asian<br>Year=%{x}<br>Total Loan Applications=%{y}<extra></extra>\",\"legendgroup\":\"Asian\",\"line\":{\"color\":\"#00cc96\",\"dash\":\"solid\"},\"marker\":{\"symbol\":\"circle\"},\"mode\":\"lines+markers\",\"name\":\"Asian\",\"orientation\":\"v\",\"showlegend\":true,\"x\":[\"2014\",\"2015\",\"2016\",\"2017\",\"2018\"],\"xaxis\":\"x\",\"y\":[121303.03059077848,199660.47138335317,272759.918536087,417650.0234437399,562314.2173283977],\"yaxis\":\"y\",\"type\":\"scatter\"}],                        {\"template\":{\"data\":{\"bar\":[{\"error_x\":{\"color\":\"#2a3f5f\"},\"error_y\":{\"color\":\"#2a3f5f\"},\"marker\":{\"line\":{\"color\":\"#E5ECF6\",\"width\":0.5},\"pattern\":{\"fillmode\":\"overlay\",\"size\":10,\"solidity\":0.2}},\"type\":\"bar\"}],\"barpolar\":[{\"marker\":{\"line\":{\"color\":\"#E5ECF6\",\"width\":0.5},\"pattern\":{\"fillmode\":\"overlay\",\"size\":10,\"solidity\":0.2}},\"type\":\"barpolar\"}],\"carpet\":[{\"aaxis\":{\"endlinecolor\":\"#2a3f5f\",\"gridcolor\":\"white\",\"linecolor\":\"white\",\"minorgridcolor\":\"white\",\"startlinecolor\":\"#2a3f5f\"},\"baxis\":{\"endlinecolor\":\"#2a3f5f\",\"gridcolor\":\"white\",\"linecolor\":\"white\",\"minorgridcolor\":\"white\",\"startlinecolor\":\"#2a3f5f\"},\"type\":\"carpet\"}],\"choropleth\":[{\"colorbar\":{\"outlinewidth\":0,\"ticks\":\"\"},\"type\":\"choropleth\"}],\"contour\":[{\"colorbar\":{\"outlinewidth\":0,\"ticks\":\"\"},\"colorscale\":[[0.0,\"#0d0887\"],[0.1111111111111111,\"#46039f\"],[0.2222222222222222,\"#7201a8\"],[0.3333333333333333,\"#9c179e\"],[0.4444444444444444,\"#bd3786\"],[0.5555555555555556,\"#d8576b\"],[0.6666666666666666,\"#ed7953\"],[0.7777777777777778,\"#fb9f3a\"],[0.8888888888888888,\"#fdca26\"],[1.0,\"#f0f921\"]],\"type\":\"contour\"}],\"contourcarpet\":[{\"colorbar\":{\"outlinewidth\":0,\"ticks\":\"\"},\"type\":\"contourcarpet\"}],\"heatmap\":[{\"colorbar\":{\"outlinewidth\":0,\"ticks\":\"\"},\"colorscale\":[[0.0,\"#0d0887\"],[0.1111111111111111,\"#46039f\"],[0.2222222222222222,\"#7201a8\"],[0.3333333333333333,\"#9c179e\"],[0.4444444444444444,\"#bd3786\"],[0.5555555555555556,\"#d8576b\"],[0.6666666666666666,\"#ed7953\"],[0.7777777777777778,\"#fb9f3a\"],[0.8888888888888888,\"#fdca26\"],[1.0,\"#f0f921\"]],\"type\":\"heatmap\"}],\"heatmapgl\":[{\"colorbar\":{\"outlinewidth\":0,\"ticks\":\"\"},\"colorscale\":[[0.0,\"#0d0887\"],[0.1111111111111111,\"#46039f\"],[0.2222222222222222,\"#7201a8\"],[0.3333333333333333,\"#9c179e\"],[0.4444444444444444,\"#bd3786\"],[0.5555555555555556,\"#d8576b\"],[0.6666666666666666,\"#ed7953\"],[0.7777777777777778,\"#fb9f3a\"],[0.8888888888888888,\"#fdca26\"],[1.0,\"#f0f921\"]],\"type\":\"heatmapgl\"}],\"histogram\":[{\"marker\":{\"pattern\":{\"fillmode\":\"overlay\",\"size\":10,\"solidity\":0.2}},\"type\":\"histogram\"}],\"histogram2d\":[{\"colorbar\":{\"outlinewidth\":0,\"ticks\":\"\"},\"colorscale\":[[0.0,\"#0d0887\"],[0.1111111111111111,\"#46039f\"],[0.2222222222222222,\"#7201a8\"],[0.3333333333333333,\"#9c179e\"],[0.4444444444444444,\"#bd3786\"],[0.5555555555555556,\"#d8576b\"],[0.6666666666666666,\"#ed7953\"],[0.7777777777777778,\"#fb9f3a\"],[0.8888888888888888,\"#fdca26\"],[1.0,\"#f0f921\"]],\"type\":\"histogram2d\"}],\"histogram2dcontour\":[{\"colorbar\":{\"outlinewidth\":0,\"ticks\":\"\"},\"colorscale\":[[0.0,\"#0d0887\"],[0.1111111111111111,\"#46039f\"],[0.2222222222222222,\"#7201a8\"],[0.3333333333333333,\"#9c179e\"],[0.4444444444444444,\"#bd3786\"],[0.5555555555555556,\"#d8576b\"],[0.6666666666666666,\"#ed7953\"],[0.7777777777777778,\"#fb9f3a\"],[0.8888888888888888,\"#fdca26\"],[1.0,\"#f0f921\"]],\"type\":\"histogram2dcontour\"}],\"mesh3d\":[{\"colorbar\":{\"outlinewidth\":0,\"ticks\":\"\"},\"type\":\"mesh3d\"}],\"parcoords\":[{\"line\":{\"colorbar\":{\"outlinewidth\":0,\"ticks\":\"\"}},\"type\":\"parcoords\"}],\"pie\":[{\"automargin\":true,\"type\":\"pie\"}],\"scatter\":[{\"marker\":{\"colorbar\":{\"outlinewidth\":0,\"ticks\":\"\"}},\"type\":\"scatter\"}],\"scatter3d\":[{\"line\":{\"colorbar\":{\"outlinewidth\":0,\"ticks\":\"\"}},\"marker\":{\"colorbar\":{\"outlinewidth\":0,\"ticks\":\"\"}},\"type\":\"scatter3d\"}],\"scattercarpet\":[{\"marker\":{\"colorbar\":{\"outlinewidth\":0,\"ticks\":\"\"}},\"type\":\"scattercarpet\"}],\"scattergeo\":[{\"marker\":{\"colorbar\":{\"outlinewidth\":0,\"ticks\":\"\"}},\"type\":\"scattergeo\"}],\"scattergl\":[{\"marker\":{\"colorbar\":{\"outlinewidth\":0,\"ticks\":\"\"}},\"type\":\"scattergl\"}],\"scattermapbox\":[{\"marker\":{\"colorbar\":{\"outlinewidth\":0,\"ticks\":\"\"}},\"type\":\"scattermapbox\"}],\"scatterpolar\":[{\"marker\":{\"colorbar\":{\"outlinewidth\":0,\"ticks\":\"\"}},\"type\":\"scatterpolar\"}],\"scatterpolargl\":[{\"marker\":{\"colorbar\":{\"outlinewidth\":0,\"ticks\":\"\"}},\"type\":\"scatterpolargl\"}],\"scatterternary\":[{\"marker\":{\"colorbar\":{\"outlinewidth\":0,\"ticks\":\"\"}},\"type\":\"scatterternary\"}],\"surface\":[{\"colorbar\":{\"outlinewidth\":0,\"ticks\":\"\"},\"colorscale\":[[0.0,\"#0d0887\"],[0.1111111111111111,\"#46039f\"],[0.2222222222222222,\"#7201a8\"],[0.3333333333333333,\"#9c179e\"],[0.4444444444444444,\"#bd3786\"],[0.5555555555555556,\"#d8576b\"],[0.6666666666666666,\"#ed7953\"],[0.7777777777777778,\"#fb9f3a\"],[0.8888888888888888,\"#fdca26\"],[1.0,\"#f0f921\"]],\"type\":\"surface\"}],\"table\":[{\"cells\":{\"fill\":{\"color\":\"#EBF0F8\"},\"line\":{\"color\":\"white\"}},\"header\":{\"fill\":{\"color\":\"#C8D4E3\"},\"line\":{\"color\":\"white\"}},\"type\":\"table\"}]},\"layout\":{\"annotationdefaults\":{\"arrowcolor\":\"#2a3f5f\",\"arrowhead\":0,\"arrowwidth\":1},\"autotypenumbers\":\"strict\",\"coloraxis\":{\"colorbar\":{\"outlinewidth\":0,\"ticks\":\"\"}},\"colorscale\":{\"diverging\":[[0,\"#8e0152\"],[0.1,\"#c51b7d\"],[0.2,\"#de77ae\"],[0.3,\"#f1b6da\"],[0.4,\"#fde0ef\"],[0.5,\"#f7f7f7\"],[0.6,\"#e6f5d0\"],[0.7,\"#b8e186\"],[0.8,\"#7fbc41\"],[0.9,\"#4d9221\"],[1,\"#276419\"]],\"sequential\":[[0.0,\"#0d0887\"],[0.1111111111111111,\"#46039f\"],[0.2222222222222222,\"#7201a8\"],[0.3333333333333333,\"#9c179e\"],[0.4444444444444444,\"#bd3786\"],[0.5555555555555556,\"#d8576b\"],[0.6666666666666666,\"#ed7953\"],[0.7777777777777778,\"#fb9f3a\"],[0.8888888888888888,\"#fdca26\"],[1.0,\"#f0f921\"]],\"sequentialminus\":[[0.0,\"#0d0887\"],[0.1111111111111111,\"#46039f\"],[0.2222222222222222,\"#7201a8\"],[0.3333333333333333,\"#9c179e\"],[0.4444444444444444,\"#bd3786\"],[0.5555555555555556,\"#d8576b\"],[0.6666666666666666,\"#ed7953\"],[0.7777777777777778,\"#fb9f3a\"],[0.8888888888888888,\"#fdca26\"],[1.0,\"#f0f921\"]]},\"colorway\":[\"#636efa\",\"#EF553B\",\"#00cc96\",\"#ab63fa\",\"#FFA15A\",\"#19d3f3\",\"#FF6692\",\"#B6E880\",\"#FF97FF\",\"#FECB52\"],\"font\":{\"color\":\"#2a3f5f\"},\"geo\":{\"bgcolor\":\"white\",\"lakecolor\":\"white\",\"landcolor\":\"#E5ECF6\",\"showlakes\":true,\"showland\":true,\"subunitcolor\":\"white\"},\"hoverlabel\":{\"align\":\"left\"},\"hovermode\":\"closest\",\"mapbox\":{\"style\":\"light\"},\"paper_bgcolor\":\"white\",\"plot_bgcolor\":\"#E5ECF6\",\"polar\":{\"angularaxis\":{\"gridcolor\":\"white\",\"linecolor\":\"white\",\"ticks\":\"\"},\"bgcolor\":\"#E5ECF6\",\"radialaxis\":{\"gridcolor\":\"white\",\"linecolor\":\"white\",\"ticks\":\"\"}},\"scene\":{\"xaxis\":{\"backgroundcolor\":\"#E5ECF6\",\"gridcolor\":\"white\",\"gridwidth\":2,\"linecolor\":\"white\",\"showbackground\":true,\"ticks\":\"\",\"zerolinecolor\":\"white\"},\"yaxis\":{\"backgroundcolor\":\"#E5ECF6\",\"gridcolor\":\"white\",\"gridwidth\":2,\"linecolor\":\"white\",\"showbackground\":true,\"ticks\":\"\",\"zerolinecolor\":\"white\"},\"zaxis\":{\"backgroundcolor\":\"#E5ECF6\",\"gridcolor\":\"white\",\"gridwidth\":2,\"linecolor\":\"white\",\"showbackground\":true,\"ticks\":\"\",\"zerolinecolor\":\"white\"}},\"shapedefaults\":{\"line\":{\"color\":\"#2a3f5f\"}},\"ternary\":{\"aaxis\":{\"gridcolor\":\"white\",\"linecolor\":\"white\",\"ticks\":\"\"},\"baxis\":{\"gridcolor\":\"white\",\"linecolor\":\"white\",\"ticks\":\"\"},\"bgcolor\":\"#E5ECF6\",\"caxis\":{\"gridcolor\":\"white\",\"linecolor\":\"white\",\"ticks\":\"\"}},\"title\":{\"x\":0.05},\"xaxis\":{\"automargin\":true,\"gridcolor\":\"white\",\"linecolor\":\"white\",\"ticks\":\"\",\"title\":{\"standoff\":15},\"zerolinecolor\":\"white\",\"zerolinewidth\":2},\"yaxis\":{\"automargin\":true,\"gridcolor\":\"white\",\"linecolor\":\"white\",\"ticks\":\"\",\"title\":{\"standoff\":15},\"zerolinecolor\":\"white\",\"zerolinewidth\":2}}},\"xaxis\":{\"anchor\":\"y\",\"domain\":[0.0,1.0],\"title\":{\"text\":\"Year\"}},\"yaxis\":{\"anchor\":\"x\",\"domain\":[0.0,1.0],\"title\":{\"text\":\"Total Loan Applications\"}},\"legend\":{\"title\":{\"text\":\"\"},\"tracegroupgap\":0,\"x\":0,\"y\":1,\"bordercolor\":\"Black\",\"borderwidth\":1,\"orientation\":\"h\"},\"margin\":{\"t\":60}},                        {\"responsive\": true}                    ).then(function(){\n",
       "                            \n",
       "var gd = document.getElementById('a4c042b6-6851-480e-810a-8c04724ae8d2');\n",
       "var x = new MutationObserver(function (mutations, observer) {{\n",
       "        var display = window.getComputedStyle(gd).display;\n",
       "        if (!display || display === 'none') {{\n",
       "            console.log([gd, 'removed!']);\n",
       "            Plotly.purge(gd);\n",
       "            observer.disconnect();\n",
       "        }}\n",
       "}});\n",
       "\n",
       "// Listen for the removal of the full notebook cells\n",
       "var notebookContainer = gd.closest('#notebook-container');\n",
       "if (notebookContainer) {{\n",
       "    x.observe(notebookContainer, {childList: true});\n",
       "}}\n",
       "\n",
       "// Listen for the clearing of the current output cell\n",
       "var outputEl = gd.closest('.output');\n",
       "if (outputEl) {{\n",
       "    x.observe(outputEl, {childList: true});\n",
       "}}\n",
       "\n",
       "                        })                };                });            </script>        </div>"
      ]
     },
     "metadata": {},
     "output_type": "display_data"
    }
   ],
   "source": [
    "for race in races:\n",
    "    df_accr[race.capitalize()] =df_accr['acc_'+race] + df_accr['rej_'+race]\n",
    "    \n",
    "fig = px.line(        \n",
    "        df_accr,\n",
    "        x = 'year', #Columns from the data frame\n",
    "        y = df_accr.columns[-3:],\n",
    "        markers = True,\n",
    "        labels = { 'year':'Year', 'value': 'Total Loan Applications',\n",
    "                 }\n",
    ")\n",
    "\n",
    "fig.update_layout(\n",
    "    legend=dict(\n",
    "        x=0,\n",
    "        y=1,\n",
    "        title = '',\n",
    "#        bgcolor=\"LightBlue\",\n",
    "        bordercolor=\"Black\",\n",
    "        borderwidth=1,\n",
    "        orientation = 'h'\n",
    "    )\n",
    ")\n",
    "\n",
    "fig.show()"
   ]
  },
  {
   "cell_type": "code",
   "execution_count": 345,
   "id": "65ba1a0b-afe8-4917-a381-92a831e0a94c",
   "metadata": {},
   "outputs": [
    {
     "data": {
      "text/html": [
       "<div>\n",
       "<style scoped>\n",
       "    .dataframe tbody tr th:only-of-type {\n",
       "        vertical-align: middle;\n",
       "    }\n",
       "\n",
       "    .dataframe tbody tr th {\n",
       "        vertical-align: top;\n",
       "    }\n",
       "\n",
       "    .dataframe thead th {\n",
       "        text-align: right;\n",
       "    }\n",
       "</style>\n",
       "<table border=\"1\" class=\"dataframe\">\n",
       "  <thead>\n",
       "    <tr style=\"text-align: right;\">\n",
       "      <th></th>\n",
       "      <th>id</th>\n",
       "      <th>loan_amnt</th>\n",
       "      <th>funded_amnt</th>\n",
       "      <th>int_rate</th>\n",
       "      <th>grade</th>\n",
       "      <th>sub_grade</th>\n",
       "      <th>emp_length</th>\n",
       "      <th>annual_inc</th>\n",
       "      <th>issue_d</th>\n",
       "      <th>Zip_Code</th>\n",
       "      <th>addr_state</th>\n",
       "      <th>year</th>\n",
       "      <th>purpose</th>\n",
       "      <th>desc</th>\n",
       "    </tr>\n",
       "  </thead>\n",
       "  <tbody>\n",
       "    <tr>\n",
       "      <th>0</th>\n",
       "      <td>68407277</td>\n",
       "      <td>3600.0</td>\n",
       "      <td>3600.0</td>\n",
       "      <td>13.99</td>\n",
       "      <td>C</td>\n",
       "      <td>C4</td>\n",
       "      <td>10+ years</td>\n",
       "      <td>55000.0</td>\n",
       "      <td>2015-12-01</td>\n",
       "      <td>190</td>\n",
       "      <td>PA</td>\n",
       "      <td>2015</td>\n",
       "      <td>debt_consolidation</td>\n",
       "      <td>NaN</td>\n",
       "    </tr>\n",
       "    <tr>\n",
       "      <th>1</th>\n",
       "      <td>68355089</td>\n",
       "      <td>24700.0</td>\n",
       "      <td>24700.0</td>\n",
       "      <td>11.99</td>\n",
       "      <td>C</td>\n",
       "      <td>C1</td>\n",
       "      <td>10+ years</td>\n",
       "      <td>65000.0</td>\n",
       "      <td>2015-12-01</td>\n",
       "      <td>577</td>\n",
       "      <td>SD</td>\n",
       "      <td>2015</td>\n",
       "      <td>small_business</td>\n",
       "      <td>NaN</td>\n",
       "    </tr>\n",
       "    <tr>\n",
       "      <th>2</th>\n",
       "      <td>68341763</td>\n",
       "      <td>20000.0</td>\n",
       "      <td>20000.0</td>\n",
       "      <td>10.78</td>\n",
       "      <td>B</td>\n",
       "      <td>B4</td>\n",
       "      <td>10+ years</td>\n",
       "      <td>63000.0</td>\n",
       "      <td>2015-12-01</td>\n",
       "      <td>605</td>\n",
       "      <td>IL</td>\n",
       "      <td>2015</td>\n",
       "      <td>home_improvement</td>\n",
       "      <td>NaN</td>\n",
       "    </tr>\n",
       "    <tr>\n",
       "      <th>3</th>\n",
       "      <td>66310712</td>\n",
       "      <td>35000.0</td>\n",
       "      <td>35000.0</td>\n",
       "      <td>14.85</td>\n",
       "      <td>C</td>\n",
       "      <td>C5</td>\n",
       "      <td>10+ years</td>\n",
       "      <td>110000.0</td>\n",
       "      <td>2015-12-01</td>\n",
       "      <td>076</td>\n",
       "      <td>NJ</td>\n",
       "      <td>2015</td>\n",
       "      <td>debt_consolidation</td>\n",
       "      <td>NaN</td>\n",
       "    </tr>\n",
       "    <tr>\n",
       "      <th>4</th>\n",
       "      <td>68476807</td>\n",
       "      <td>10400.0</td>\n",
       "      <td>10400.0</td>\n",
       "      <td>22.45</td>\n",
       "      <td>F</td>\n",
       "      <td>F1</td>\n",
       "      <td>3 years</td>\n",
       "      <td>104433.0</td>\n",
       "      <td>2015-12-01</td>\n",
       "      <td>174</td>\n",
       "      <td>PA</td>\n",
       "      <td>2015</td>\n",
       "      <td>major_purchase</td>\n",
       "      <td>NaN</td>\n",
       "    </tr>\n",
       "  </tbody>\n",
       "</table>\n",
       "</div>"
      ],
      "text/plain": [
       "         id  loan_amnt  funded_amnt  int_rate grade sub_grade emp_length  \\\n",
       "0  68407277     3600.0       3600.0     13.99     C        C4  10+ years   \n",
       "1  68355089    24700.0      24700.0     11.99     C        C1  10+ years   \n",
       "2  68341763    20000.0      20000.0     10.78     B        B4  10+ years   \n",
       "3  66310712    35000.0      35000.0     14.85     C        C5  10+ years   \n",
       "4  68476807    10400.0      10400.0     22.45     F        F1    3 years   \n",
       "\n",
       "   annual_inc    issue_d Zip_Code addr_state  year             purpose desc  \n",
       "0     55000.0 2015-12-01      190         PA  2015  debt_consolidation  NaN  \n",
       "1     65000.0 2015-12-01      577         SD  2015      small_business  NaN  \n",
       "2     63000.0 2015-12-01      605         IL  2015    home_improvement  NaN  \n",
       "3    110000.0 2015-12-01      076         NJ  2015  debt_consolidation  NaN  \n",
       "4    104433.0 2015-12-01      174         PA  2015      major_purchase  NaN  "
      ]
     },
     "execution_count": 345,
     "metadata": {},
     "output_type": "execute_result"
    }
   ],
   "source": [
    "df_acp.head()"
   ]
  },
  {
   "cell_type": "code",
   "execution_count": 405,
   "id": "5bc40c1b-52e9-4a72-99ee-d1cd5ee4459f",
   "metadata": {},
   "outputs": [
    {
     "data": {
      "text/plain": [
       "array(['Fully Paid', 'In Grace Period', 'Charged Off', 'Current',\n",
       "       'Late (31-120 days)', 'Late (16-30 days)', 'Default'], dtype=object)"
      ]
     },
     "execution_count": 405,
     "metadata": {},
     "output_type": "execute_result"
    }
   ],
   "source": [
    "df_acpdemo['loan_status'].unique()"
   ]
  },
  {
   "cell_type": "code",
   "execution_count": 355,
   "id": "88d32259-9daf-4d6e-abec-eba5021c8a23",
   "metadata": {},
   "outputs": [
    {
     "data": {
      "text/plain": [
       "['206',\n",
       " '455',\n",
       " '708',\n",
       " '706',\n",
       " '302',\n",
       " '310',\n",
       " '311',\n",
       " '209',\n",
       " '236',\n",
       " '701',\n",
       " '202',\n",
       " '707',\n",
       " '235',\n",
       " '291',\n",
       " '354',\n",
       " '204',\n",
       " '205',\n",
       " '203',\n",
       " '720',\n",
       " '721',\n",
       " '722',\n",
       " '352',\n",
       " '351',\n",
       " '292',\n",
       " '303',\n",
       " '366',\n",
       " '290',\n",
       " '712',\n",
       " '714',\n",
       " '350']"
      ]
     },
     "execution_count": 355,
     "metadata": {},
     "output_type": "execute_result"
    }
   ],
   "source": [
    "zip_sum = df_acpdemo.groupby('Zip_Code').agg({'Zip_Code':'first', 'is_black':'mean'})\n",
    "black_zips = zip_sum.nlargest(30,'is_black')['Zip_Code'].tolist()\n",
    "black_zips"
   ]
  },
  {
   "cell_type": "code",
   "execution_count": 379,
   "id": "6f6ccda8-6a70-4799-bc57-c8a0d7ad963c",
   "metadata": {},
   "outputs": [],
   "source": [
    "#Get Muslim Zips\n",
    "df_muslim = pd.read_csv('muslim_by_county_cleaned.csv')\n",
    "muslim_zips = df_muslim.nlargest(30,'Percent')['zip3'].tolist()\n",
    "muslim_zips = [str(round(x)) for x in muslim_zips]"
   ]
  },
  {
   "cell_type": "code",
   "execution_count": 437,
   "id": "b4f67450-41b8-45a6-807b-9472d33761d8",
   "metadata": {},
   "outputs": [],
   "source": [
    "df_dclass = df_acpdemo\n",
    "df_dclass['Quarter'] = df_dclass['year'].astype(str).map(lambda x: x+'Q') + df_dclass['quarter'].astype(str)\n",
    "df_dclass['Defaulted'] = df_dclass['loan_status'].map( lambda x: x in ['Charged Off', 'Default'])\n",
    "df_dclass['Paid'] = df_dclass['loan_status'].map( lambda x: x == 'Fully Paid')\n",
    "df_dclass['Total'] = df_dclass['Defaulted'] | df_dclass['Paid']\n",
    "df_dclass['Black'] = df_dclass['Zip_Code'].map(lambda x: 'Black Neighbourhoods' if x in black_zips else 'Other')\n",
    "df_dclass['Muslim'] = df_dclass['Zip_Code'].map(lambda x: 'Muslim Neighbourhoods' if x in muslim_zips else 'Other')"
   ]
  },
  {
   "cell_type": "code",
   "execution_count": 438,
   "id": "4b8914ce-9e12-4a26-a9af-58adecad012a",
   "metadata": {},
   "outputs": [
    {
     "data": {
      "text/html": [
       "<div>\n",
       "<style scoped>\n",
       "    .dataframe tbody tr th:only-of-type {\n",
       "        vertical-align: middle;\n",
       "    }\n",
       "\n",
       "    .dataframe tbody tr th {\n",
       "        vertical-align: top;\n",
       "    }\n",
       "\n",
       "    .dataframe thead th {\n",
       "        text-align: right;\n",
       "    }\n",
       "</style>\n",
       "<table border=\"1\" class=\"dataframe\">\n",
       "  <thead>\n",
       "    <tr style=\"text-align: right;\">\n",
       "      <th></th>\n",
       "      <th></th>\n",
       "      <th>int_rate</th>\n",
       "      <th>funded_amnt</th>\n",
       "      <th>Paid</th>\n",
       "      <th>Total</th>\n",
       "      <th>Quarter</th>\n",
       "      <th>Black</th>\n",
       "      <th>Default Rate</th>\n",
       "    </tr>\n",
       "    <tr>\n",
       "      <th>Quarter</th>\n",
       "      <th>Black</th>\n",
       "      <th></th>\n",
       "      <th></th>\n",
       "      <th></th>\n",
       "      <th></th>\n",
       "      <th></th>\n",
       "      <th></th>\n",
       "      <th></th>\n",
       "    </tr>\n",
       "  </thead>\n",
       "  <tbody>\n",
       "    <tr>\n",
       "      <th rowspan=\"2\" valign=\"top\">2014Q1</th>\n",
       "      <th>Black Neighbourhoods</th>\n",
       "      <td>14.583684</td>\n",
       "      <td>19920625.0</td>\n",
       "      <td>1062</td>\n",
       "      <td>1291</td>\n",
       "      <td>2014Q1</td>\n",
       "      <td>Black Neighbourhoods</td>\n",
       "      <td>17.738187</td>\n",
       "    </tr>\n",
       "    <tr>\n",
       "      <th>Other</th>\n",
       "      <td>14.342604</td>\n",
       "      <td>487096550.0</td>\n",
       "      <td>27056</td>\n",
       "      <td>32421</td>\n",
       "      <td>2014Q1</td>\n",
       "      <td>Other</td>\n",
       "      <td>16.547916</td>\n",
       "    </tr>\n",
       "    <tr>\n",
       "      <th rowspan=\"2\" valign=\"top\">2014Q2</th>\n",
       "      <th>Black Neighbourhoods</th>\n",
       "      <td>14.191239</td>\n",
       "      <td>22726500.0</td>\n",
       "      <td>1117</td>\n",
       "      <td>1411</td>\n",
       "      <td>2014Q2</td>\n",
       "      <td>Black Neighbourhoods</td>\n",
       "      <td>20.836286</td>\n",
       "    </tr>\n",
       "    <tr>\n",
       "      <th>Other</th>\n",
       "      <td>14.094436</td>\n",
       "      <td>562630775.0</td>\n",
       "      <td>29598</td>\n",
       "      <td>36337</td>\n",
       "      <td>2014Q2</td>\n",
       "      <td>Other</td>\n",
       "      <td>18.545835</td>\n",
       "    </tr>\n",
       "    <tr>\n",
       "      <th>2014Q3</th>\n",
       "      <th>Black Neighbourhoods</th>\n",
       "      <td>14.007122</td>\n",
       "      <td>25879550.0</td>\n",
       "      <td>1297</td>\n",
       "      <td>1605</td>\n",
       "      <td>2014Q3</td>\n",
       "      <td>Black Neighbourhoods</td>\n",
       "      <td>19.190031</td>\n",
       "    </tr>\n",
       "  </tbody>\n",
       "</table>\n",
       "</div>"
      ],
      "text/plain": [
       "                               int_rate  funded_amnt   Paid  Total Quarter  \\\n",
       "Quarter Black                                                                \n",
       "2014Q1  Black Neighbourhoods  14.583684   19920625.0   1062   1291  2014Q1   \n",
       "        Other                 14.342604  487096550.0  27056  32421  2014Q1   \n",
       "2014Q2  Black Neighbourhoods  14.191239   22726500.0   1117   1411  2014Q2   \n",
       "        Other                 14.094436  562630775.0  29598  36337  2014Q2   \n",
       "2014Q3  Black Neighbourhoods  14.007122   25879550.0   1297   1605  2014Q3   \n",
       "\n",
       "                                             Black  Default Rate  \n",
       "Quarter Black                                                     \n",
       "2014Q1  Black Neighbourhoods  Black Neighbourhoods     17.738187  \n",
       "        Other                                Other     16.547916  \n",
       "2014Q2  Black Neighbourhoods  Black Neighbourhoods     20.836286  \n",
       "        Other                                Other     18.545835  \n",
       "2014Q3  Black Neighbourhoods  Black Neighbourhoods     19.190031  "
      ]
     },
     "execution_count": 438,
     "metadata": {},
     "output_type": "execute_result"
    }
   ],
   "source": [
    "df_bl = df_dclass.groupby(['Quarter', 'Black']).agg({'int_rate':'mean', 'funded_amnt':'sum',\n",
    "                                                    'Paid':'sum', 'Total':'sum', 'Quarter':'first',\n",
    "                                                    'Black':'first', 'Quarter':'first'})\n",
    "df_bl['Default Rate'] = 100 - df_bl['Paid']*100/df_bl['Total']\n",
    "df_bl.head()"
   ]
  },
  {
   "cell_type": "code",
   "execution_count": 502,
   "id": "a8950015-7271-41bb-964a-9a433acf98d3",
   "metadata": {},
   "outputs": [],
   "source": [
    "df_bl['funded_amnt'] = df_bl['funded_amnt']/1e6\n",
    "Black_int = pd.crosstab(df_bl['Quarter'], df_bl['Black'], df_bl['int_rate'], aggfunc = 'mean',)# colnames=['Loan Interest rate(%)'])\n",
    "Black_fund = pd.crosstab(df_bl['Quarter'], df_bl['Black'], df_bl['funded_amnt'], aggfunc = 'sum',)# colnames=['Loan Interest rate(%)'])\n",
    "Black_def = pd.crosstab(df_bl['Quarter'], df_bl['Black'], df_bl['Default Rate'], aggfunc = 'mean',)# colnames=['Loan Interest rate(%)'])"
   ]
  },
  {
   "cell_type": "code",
   "execution_count": 477,
   "id": "ace5e6b6-5af2-4cc8-808b-354ad8264dfa",
   "metadata": {},
   "outputs": [
    {
     "data": {
      "text/plain": [
       "Index(['2014Q1', '2014Q2', '2014Q3', '2014Q4', '2015Q1', '2015Q2', '2015Q3',\n",
       "       '2015Q4', '2016Q1', '2016Q2', '2016Q3', '2016Q4', '2017Q1', '2017Q2',\n",
       "       '2017Q3', '2017Q4', '2018Q1', '2018Q2', '2018Q3', '2018Q4'],\n",
       "      dtype='object', name='Quarter')"
      ]
     },
     "execution_count": 477,
     "metadata": {},
     "output_type": "execute_result"
    }
   ],
   "source": [
    "Black_int.index"
   ]
  },
  {
   "cell_type": "code",
   "execution_count": 471,
   "id": "49eb829e-c580-47fd-ac44-6b30b35fff9e",
   "metadata": {},
   "outputs": [
    {
     "data": {
      "text/html": [
       "<div>\n",
       "<style scoped>\n",
       "    .dataframe tbody tr th:only-of-type {\n",
       "        vertical-align: middle;\n",
       "    }\n",
       "\n",
       "    .dataframe tbody tr th {\n",
       "        vertical-align: top;\n",
       "    }\n",
       "\n",
       "    .dataframe thead th {\n",
       "        text-align: right;\n",
       "    }\n",
       "</style>\n",
       "<table border=\"1\" class=\"dataframe\">\n",
       "  <thead>\n",
       "    <tr style=\"text-align: right;\">\n",
       "      <th>Black</th>\n",
       "      <th>Black Neighbourhoods</th>\n",
       "      <th>Other</th>\n",
       "      <th>Quarter</th>\n",
       "    </tr>\n",
       "    <tr>\n",
       "      <th>Quarter</th>\n",
       "      <th></th>\n",
       "      <th></th>\n",
       "      <th></th>\n",
       "    </tr>\n",
       "  </thead>\n",
       "  <tbody>\n",
       "    <tr>\n",
       "      <th>2014Q1</th>\n",
       "      <td>17.738187</td>\n",
       "      <td>16.547916</td>\n",
       "      <td>2014Q1</td>\n",
       "    </tr>\n",
       "    <tr>\n",
       "      <th>2014Q2</th>\n",
       "      <td>20.836286</td>\n",
       "      <td>18.545835</td>\n",
       "      <td>2014Q2</td>\n",
       "    </tr>\n",
       "    <tr>\n",
       "      <th>2014Q3</th>\n",
       "      <td>19.190031</td>\n",
       "      <td>18.839332</td>\n",
       "      <td>2014Q3</td>\n",
       "    </tr>\n",
       "    <tr>\n",
       "      <th>2014Q4</th>\n",
       "      <td>19.672131</td>\n",
       "      <td>19.489194</td>\n",
       "      <td>2014Q4</td>\n",
       "    </tr>\n",
       "    <tr>\n",
       "      <th>2015Q1</th>\n",
       "      <td>21.379625</td>\n",
       "      <td>20.184226</td>\n",
       "      <td>2015Q1</td>\n",
       "    </tr>\n",
       "  </tbody>\n",
       "</table>\n",
       "</div>"
      ],
      "text/plain": [
       "Black    Black Neighbourhoods      Other Quarter\n",
       "Quarter                                         \n",
       "2014Q1              17.738187  16.547916  2014Q1\n",
       "2014Q2              20.836286  18.545835  2014Q2\n",
       "2014Q3              19.190031  18.839332  2014Q3\n",
       "2014Q4              19.672131  19.489194  2014Q4\n",
       "2015Q1              21.379625  20.184226  2015Q1"
      ]
     },
     "execution_count": 471,
     "metadata": {},
     "output_type": "execute_result"
    }
   ],
   "source": [
    "pd.merge"
   ]
  },
  {
   "cell_type": "code",
   "execution_count": 503,
   "id": "fb0a30b9-d418-4882-bc90-9ea8e9648879",
   "metadata": {},
   "outputs": [],
   "source": [
    "df_new = pd.merge(Black_fund, Black_def, left_index=True, right_index=True)"
   ]
  },
  {
   "cell_type": "code",
   "execution_count": 504,
   "id": "10c5cccd-53b9-4e50-8f30-6bcd9026b1dc",
   "metadata": {},
   "outputs": [
    {
     "name": "stdout",
     "output_type": "stream",
     "text": [
      "\\begin{tabular}{lrrrr}\n",
      "\\toprule\n",
      "Black &  Black Neighbourhoods\\_x &  Other\\_x &  Black Neighbourhoods\\_y &  Other\\_y \\\\\n",
      "Quarter &                         &          &                         &          \\\\\n",
      "\\midrule\n",
      "2014Q1  &                   19.92 &   487.10 &                   17.74 &    16.55 \\\\\n",
      "2014Q2  &                   22.73 &   562.63 &                   20.84 &    18.55 \\\\\n",
      "2014Q3  &                   25.88 &   603.27 &                   19.19 &    18.84 \\\\\n",
      "2014Q4  &                   30.91 &   766.04 &                   19.67 &    19.49 \\\\\n",
      "2015Q1  &                   37.99 &   933.77 &                   21.38 &    20.18 \\\\\n",
      "2015Q2  &                   43.95 &  1039.63 &                   21.54 &    20.64 \\\\\n",
      "2015Q3  &                   52.23 &  1218.63 &                   21.07 &    20.24 \\\\\n",
      "2015Q4  &                   57.26 &  1413.67 &                   21.06 &    19.84 \\\\\n",
      "2016Q1  &                   36.38 &  1331.10 &                   20.77 &    20.38 \\\\\n",
      "2016Q2  &                   26.89 &   919.52 &                   24.05 &    25.36 \\\\\n",
      "2016Q3  &                   24.46 &   906.01 &                   25.40 &    25.87 \\\\\n",
      "2016Q4  &                   25.91 &   945.69 &                   26.26 &    23.85 \\\\\n",
      "2017Q1  &                   26.13 &   925.57 &                   21.77 &    22.84 \\\\\n",
      "2017Q2  &                   27.33 &   992.44 &                   26.00 &    23.91 \\\\\n",
      "2017Q3  &                   32.34 &  1154.09 &                   25.20 &    23.86 \\\\\n",
      "2017Q4  &                   31.27 &  1173.07 &                   24.68 &    21.43 \\\\\n",
      "2018Q1  &                   30.04 &  1116.86 &                   20.66 &    19.69 \\\\\n",
      "2018Q2  &                   37.43 &  1338.15 &                   20.42 &    18.41 \\\\\n",
      "2018Q3  &                   36.51 &  1323.16 &                   10.31 &    10.34 \\\\\n",
      "2018Q4  &                   35.89 &  1319.57 &                    3.49 &     2.34 \\\\\n",
      "\\bottomrule\n",
      "\\end{tabular}\n",
      "\n"
     ]
    },
    {
     "name": "stderr",
     "output_type": "stream",
     "text": [
      "/var/folders/zx/f9brkgk91s7cwmn105cp0sv80000gn/T/ipykernel_38010/1894316866.py:1: FutureWarning:\n",
      "\n",
      "In future versions `DataFrame.to_latex` is expected to utilise the base implementation of `Styler.to_latex` for formatting and rendering. The arguments signature may therefore change. It is recommended instead to use `DataFrame.style.to_latex` which also contains additional functionality.\n",
      "\n"
     ]
    }
   ],
   "source": [
    "print(df_new.round(2).to_latex())"
   ]
  },
  {
   "cell_type": "code",
   "execution_count": 488,
   "id": "42f695c6-707c-4181-80a5-7688c5d63a2b",
   "metadata": {},
   "outputs": [
    {
     "data": {
      "text/html": [
       "<div>\n",
       "<style scoped>\n",
       "    .dataframe tbody tr th:only-of-type {\n",
       "        vertical-align: middle;\n",
       "    }\n",
       "\n",
       "    .dataframe tbody tr th {\n",
       "        vertical-align: top;\n",
       "    }\n",
       "\n",
       "    .dataframe thead th {\n",
       "        text-align: right;\n",
       "    }\n",
       "</style>\n",
       "<table border=\"1\" class=\"dataframe\">\n",
       "  <thead>\n",
       "    <tr style=\"text-align: right;\">\n",
       "      <th></th>\n",
       "      <th></th>\n",
       "      <th>int_rate</th>\n",
       "      <th>funded_amnt</th>\n",
       "      <th>Paid</th>\n",
       "      <th>Total</th>\n",
       "      <th>Quarter</th>\n",
       "      <th>Muslim</th>\n",
       "      <th>Default Rate</th>\n",
       "    </tr>\n",
       "    <tr>\n",
       "      <th>Quarter</th>\n",
       "      <th>Muslim</th>\n",
       "      <th></th>\n",
       "      <th></th>\n",
       "      <th></th>\n",
       "      <th></th>\n",
       "      <th></th>\n",
       "      <th></th>\n",
       "      <th></th>\n",
       "    </tr>\n",
       "  </thead>\n",
       "  <tbody>\n",
       "    <tr>\n",
       "      <th rowspan=\"2\" valign=\"top\">2014Q1</th>\n",
       "      <th>Muslim Neighbourhoods</th>\n",
       "      <td>14.605918</td>\n",
       "      <td>11966425.0</td>\n",
       "      <td>589</td>\n",
       "      <td>731</td>\n",
       "      <td>2014Q1</td>\n",
       "      <td>Muslim Neighbourhoods</td>\n",
       "      <td>19.425445</td>\n",
       "    </tr>\n",
       "    <tr>\n",
       "      <th>Other</th>\n",
       "      <td>14.346230</td>\n",
       "      <td>495050750.0</td>\n",
       "      <td>27529</td>\n",
       "      <td>32981</td>\n",
       "      <td>2014Q1</td>\n",
       "      <td>Other</td>\n",
       "      <td>16.530730</td>\n",
       "    </tr>\n",
       "    <tr>\n",
       "      <th rowspan=\"2\" valign=\"top\">2014Q2</th>\n",
       "      <th>Muslim Neighbourhoods</th>\n",
       "      <td>14.331470</td>\n",
       "      <td>14634050.0</td>\n",
       "      <td>718</td>\n",
       "      <td>872</td>\n",
       "      <td>2014Q2</td>\n",
       "      <td>Muslim Neighbourhoods</td>\n",
       "      <td>17.660550</td>\n",
       "    </tr>\n",
       "    <tr>\n",
       "      <th>Other</th>\n",
       "      <td>14.092487</td>\n",
       "      <td>570723225.0</td>\n",
       "      <td>29997</td>\n",
       "      <td>36876</td>\n",
       "      <td>2014Q2</td>\n",
       "      <td>Other</td>\n",
       "      <td>18.654409</td>\n",
       "    </tr>\n",
       "    <tr>\n",
       "      <th>2014Q3</th>\n",
       "      <th>Muslim Neighbourhoods</th>\n",
       "      <td>13.676709</td>\n",
       "      <td>13942500.0</td>\n",
       "      <td>667</td>\n",
       "      <td>813</td>\n",
       "      <td>2014Q3</td>\n",
       "      <td>Muslim Neighbourhoods</td>\n",
       "      <td>17.958180</td>\n",
       "    </tr>\n",
       "  </tbody>\n",
       "</table>\n",
       "</div>"
      ],
      "text/plain": [
       "                                int_rate  funded_amnt   Paid  Total Quarter  \\\n",
       "Quarter Muslim                                                                \n",
       "2014Q1  Muslim Neighbourhoods  14.605918   11966425.0    589    731  2014Q1   \n",
       "        Other                  14.346230  495050750.0  27529  32981  2014Q1   \n",
       "2014Q2  Muslim Neighbourhoods  14.331470   14634050.0    718    872  2014Q2   \n",
       "        Other                  14.092487  570723225.0  29997  36876  2014Q2   \n",
       "2014Q3  Muslim Neighbourhoods  13.676709   13942500.0    667    813  2014Q3   \n",
       "\n",
       "                                              Muslim  Default Rate  \n",
       "Quarter Muslim                                                      \n",
       "2014Q1  Muslim Neighbourhoods  Muslim Neighbourhoods     19.425445  \n",
       "        Other                                  Other     16.530730  \n",
       "2014Q2  Muslim Neighbourhoods  Muslim Neighbourhoods     17.660550  \n",
       "        Other                                  Other     18.654409  \n",
       "2014Q3  Muslim Neighbourhoods  Muslim Neighbourhoods     17.958180  "
      ]
     },
     "execution_count": 488,
     "metadata": {},
     "output_type": "execute_result"
    }
   ],
   "source": [
    "df_ml = df_dclass.groupby(['Quarter', 'Muslim']).agg({'int_rate':'mean', 'funded_amnt':'sum',\n",
    "                                                    'Paid':'sum', 'Total':'sum', 'Quarter':'first',\n",
    "                                                    'Muslim':'first', 'Quarter':'first'})\n",
    "df_ml['Default Rate'] = 100 - df_ml['Paid']*100/df_ml['Total']\n",
    "df_ml.head()"
   ]
  },
  {
   "cell_type": "code",
   "execution_count": 498,
   "id": "a36c7f24-ee6a-46a1-8ac2-79e705f42be1",
   "metadata": {},
   "outputs": [],
   "source": [
    "df_ml['funded_amnt'] =df_ml['funded_amnt']/1e6\n",
    "Muslim_fund = pd.crosstab(df_ml['Quarter'], df_ml['Muslim'], df_ml['funded_amnt'], aggfunc = 'sum',)# colnames=['Loan Interest rate(%)'])\n",
    "Muslim_def = pd.crosstab(df_ml['Quarter'], df_ml['Muslim'], df_ml['Default Rate'], aggfunc = 'mean',)# colnames=['Loan Interest rate(%)'])"
   ]
  },
  {
   "cell_type": "code",
   "execution_count": 499,
   "id": "c3ea36b0-dab2-4a23-b8c1-877d77e87d0d",
   "metadata": {},
   "outputs": [],
   "source": [
    "df_new = pd.merge(Muslim_fund, Muslim_def, left_index=True, right_index=True)"
   ]
  },
  {
   "cell_type": "code",
   "execution_count": 501,
   "id": "f9d0294c-c60a-4bee-94c4-159ec704083f",
   "metadata": {},
   "outputs": [
    {
     "name": "stdout",
     "output_type": "stream",
     "text": [
      "\\begin{tabular}{lrrrr}\n",
      "\\toprule\n",
      "Muslim &  Muslim Neighbourhoods\\_x &  Other\\_x &  Muslim Neighbourhoods\\_y &  Other\\_y \\\\\n",
      "Quarter &                          &          &                          &          \\\\\n",
      "\\midrule\n",
      "2014Q1  &                    11.97 &   495.05 &                    19.43 &    16.53 \\\\\n",
      "2014Q2  &                    14.63 &   570.72 &                    17.66 &    18.65 \\\\\n",
      "2014Q3  &                    13.94 &   615.21 &                    17.96 &    18.87 \\\\\n",
      "2014Q4  &                    18.14 &   778.81 &                    21.24 &    19.46 \\\\\n",
      "2015Q1  &                    25.59 &   946.17 &                    20.58 &    20.22 \\\\\n",
      "2015Q2  &                    30.45 &  1053.12 &                    21.21 &    20.66 \\\\\n",
      "2015Q3  &                    33.82 &  1237.04 &                    19.82 &    20.28 \\\\\n",
      "2015Q4  &                    39.95 &  1430.98 &                    19.54 &    19.90 \\\\\n",
      "2016Q1  &                    42.15 &  1325.33 &                    20.89 &    20.37 \\\\\n",
      "2016Q2  &                    29.12 &   917.29 &                    24.55 &    25.35 \\\\\n",
      "2016Q3  &                    26.17 &   904.31 &                    24.31 &    25.90 \\\\\n",
      "2016Q4  &                    27.13 &   944.47 &                    26.41 &    23.85 \\\\\n",
      "2017Q1  &                    28.16 &   923.53 &                    22.57 &    22.82 \\\\\n",
      "2017Q2  &                    29.91 &   989.86 &                    24.14 &    23.96 \\\\\n",
      "2017Q3  &                    34.22 &  1152.21 &                    22.05 &    23.94 \\\\\n",
      "2017Q4  &                    33.39 &  1170.95 &                    23.20 &    21.47 \\\\\n",
      "2018Q1  &                    32.17 &  1114.73 &                    20.37 &    19.69 \\\\\n",
      "2018Q2  &                    38.03 &  1337.56 &                    16.98 &    18.50 \\\\\n",
      "2018Q3  &                    37.44 &  1322.23 &                     8.99 &    10.38 \\\\\n",
      "2018Q4  &                    36.04 &  1319.43 &                     3.23 &     2.35 \\\\\n",
      "\\bottomrule\n",
      "\\end{tabular}\n",
      "\n"
     ]
    },
    {
     "name": "stderr",
     "output_type": "stream",
     "text": [
      "/var/folders/zx/f9brkgk91s7cwmn105cp0sv80000gn/T/ipykernel_38010/1894316866.py:1: FutureWarning:\n",
      "\n",
      "In future versions `DataFrame.to_latex` is expected to utilise the base implementation of `Styler.to_latex` for formatting and rendering. The arguments signature may therefore change. It is recommended instead to use `DataFrame.style.to_latex` which also contains additional functionality.\n",
      "\n"
     ]
    }
   ],
   "source": [
    "print(df_new.round(2).to_latex())"
   ]
  },
  {
   "cell_type": "code",
   "execution_count": null,
   "id": "d4495f93-3f81-4d0d-a53f-a4c225c4aa8f",
   "metadata": {},
   "outputs": [],
   "source": []
  }
 ],
 "metadata": {
  "kernelspec": {
   "display_name": "Python 3 (ipykernel)",
   "language": "python",
   "name": "python3"
  },
  "language_info": {
   "codemirror_mode": {
    "name": "ipython",
    "version": 3
   },
   "file_extension": ".py",
   "mimetype": "text/x-python",
   "name": "python",
   "nbconvert_exporter": "python",
   "pygments_lexer": "ipython3",
   "version": "3.9.12"
  }
 },
 "nbformat": 4,
 "nbformat_minor": 5
}
