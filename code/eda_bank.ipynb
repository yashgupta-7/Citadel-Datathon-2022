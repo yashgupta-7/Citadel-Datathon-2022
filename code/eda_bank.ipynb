{
 "cells": [
  {
   "cell_type": "code",
   "execution_count": null,
   "metadata": {},
   "outputs": [],
   "source": [
    "import pandas as pd\n",
    "import numpy as np\n",
    "import matplotlib.pyplot as plt\n",
    "import seaborn as sns\n",
    "import os\n",
    "import gc\n",
    "%matplotlib inline\n",
    "\n",
    "pd.set_option('display.max_columns', None)\n",
    "pd.set_option('display.max_rows', None)\n",
    "\n",
    "DATA_DIR = 'data'"
   ]
  },
  {
   "cell_type": "code",
   "execution_count": null,
   "metadata": {},
   "outputs": [],
   "source": [
    "bank = pd.read_csv('data/bank_by_zip.csv')"
   ]
  },
  {
   "cell_type": "code",
   "execution_count": null,
   "metadata": {},
   "outputs": [],
   "source": [
    "bank.dropna(inplace=True)"
   ]
  },
  {
   "cell_type": "code",
   "execution_count": null,
   "metadata": {},
   "outputs": [],
   "source": [
    "race = 'black'\n",
    "normalize_period = '2016Q2'\n",
    "top_n = 300\n",
    "\n",
    "df_demograph = pd.read_csv(os.path.join(DATA_DIR, 'cps_data/demographic_cleaned.csv'), dtype={'zip3': str})\n",
    "black_zip = df_demograph.groupby('zip3')[f'is_{race}'].mean()\n",
    "black_zip = black_zip.sort_values(ascending=False).index[:top_n].tolist()"
   ]
  },
  {
   "cell_type": "code",
   "execution_count": null,
   "metadata": {},
   "outputs": [],
   "source": [
    "len(set(black_zip))"
   ]
  },
  {
   "cell_type": "code",
   "execution_count": null,
   "metadata": {},
   "outputs": [],
   "source": [
    "loan_df = bank[['lncrcd', 'lncon', 'date', 'zip3']].copy()\n",
    "loan_df['issue_q'] = pd.to_datetime(loan_df['date']).dt.to_period('Q')\n",
    "loan_df['zip3'] = loan_df['zip3'].astype(str)\n",
    "loan_df['lncon'] = loan_df['lncon'].rolling(4).mean()\n",
    "loan_df['lncrcd'] = loan_df['lncrcd'].rolling(4).mean()\n",
    "# loan_df['lncon'] = np.log(loan_df['lncon'] + 1)\n",
    "# loan_df['lncrcd'] = np.log(loan_df['lncrcd'] + 1)"
   ]
  },
  {
   "cell_type": "code",
   "execution_count": null,
   "metadata": {},
   "outputs": [],
   "source": [
    "# loan_df.fillna(loan_df.mean(), inplace=True)"
   ]
  },
  {
   "cell_type": "code",
   "execution_count": null,
   "metadata": {},
   "outputs": [],
   "source": [
    "loan_black = loan_df[loan_df['zip3'].isin(black_zip)]\n",
    "loan_non_black = loan_df[~loan_df['zip3'].isin(black_zip)]"
   ]
  },
  {
   "cell_type": "code",
   "execution_count": null,
   "metadata": {},
   "outputs": [],
   "source": [
    "mask = (pd.to_datetime(loan_black['date']) >= '2015-01-01')\n",
    "loan_black = loan_black[mask]\n",
    "mask = (pd.to_datetime(loan_non_black['date']) >= '2015-01-01')\n",
    "loan_non_black = loan_non_black[mask]"
   ]
  },
  {
   "cell_type": "code",
   "execution_count": null,
   "metadata": {},
   "outputs": [],
   "source": [
    "loan_black_amt = loan_black.groupby('issue_q')['lncon'].sum()\n",
    "loan_black_amt /= loan_black_amt[normalize_period]\n",
    "loan_non_black_amt = loan_non_black.groupby('issue_q')['lncon'].sum()\n",
    "loan_non_black_amt /= loan_non_black_amt[normalize_period]\n",
    "\n",
    "fig = plt.figure(figsize=(8,6))\n",
    "loan_black_amt.plot(label=f'{race}')\n",
    "loan_non_black_amt.plot(label=f'non-{race}')\n",
    "plt.axvline(x=normalize_period, color = 'black',  linestyle='--')\n",
    "plt.title(f'Bank Loan Amount around LC Scandal')\n",
    "plt.legend()\n",
    "plt.xlabel('Time')\n",
    "plt.ylabel('Normalized Average Funded Amout')\n",
    "plt.ylim(0.5, 1.5)\n",
    "# plt.show()\n",
    "plt.savefig('bank_2016q2_black.png')"
   ]
  },
  {
   "cell_type": "code",
   "execution_count": null,
   "metadata": {},
   "outputs": [],
   "source": []
  }
 ],
 "metadata": {
  "interpreter": {
   "hash": "4917c47da835c5286ffcf64176df4c2ef8d44571c62bb8c4b958a352f23ad9ef"
  },
  "kernelspec": {
   "display_name": "Python 3.9.12 ('py39')",
   "language": "python",
   "name": "python3"
  },
  "language_info": {
   "codemirror_mode": {
    "name": "ipython",
    "version": 3
   },
   "file_extension": ".py",
   "mimetype": "text/x-python",
   "name": "python",
   "nbconvert_exporter": "python",
   "pygments_lexer": "ipython3",
   "version": "3.9.12"
  },
  "orig_nbformat": 4
 },
 "nbformat": 4,
 "nbformat_minor": 2
}
