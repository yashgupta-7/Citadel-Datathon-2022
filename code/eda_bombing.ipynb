{
 "cells": [
  {
   "cell_type": "code",
   "execution_count": null,
   "metadata": {},
   "outputs": [],
   "source": [
    "import pandas as pd\n",
    "import numpy as np\n",
    "import matplotlib.pyplot as plt\n",
    "import seaborn as sns\n",
    "import os\n",
    "import gc\n",
    "%matplotlib inline\n",
    "\n",
    "pd.set_option('display.max_columns', None)\n",
    "pd.set_option('display.max_rows', None)\n",
    "\n",
    "DATA_DIR = 'data'"
   ]
  },
  {
   "cell_type": "code",
   "execution_count": null,
   "metadata": {},
   "outputs": [],
   "source": [
    "df_demograph = pd.read_csv(os.path.join(DATA_DIR, 'cps_data/demographic_cleaned.csv'), dtype={'zip3': str})\n",
    "\n",
    "nevada_zip = [str(x) for x in range(850, 950)]\n",
    "nyc_zip = [str(x) for x in range(100, 110)]\n",
    "\n",
    "zip_fil = nyc_zip\n",
    "mask = df_demograph['zip3'].isin(nyc_zip)\n",
    "df_demograph = df_demograph[mask]"
   ]
  },
  {
   "cell_type": "code",
   "execution_count": null,
   "metadata": {},
   "outputs": [],
   "source": [
    "df_acp = pd.read_pickle(os.path.join(DATA_DIR, 'accepted_merged.pickle'))"
   ]
  },
  {
   "cell_type": "code",
   "execution_count": null,
   "metadata": {},
   "outputs": [],
   "source": [
    "race = 'black'\n",
    "normalize_period = '2017Q4'\n",
    "top_n = 30\n",
    "\n",
    "black_zip = df_demograph.groupby('zip3')[f'is_{race}'].mean()\n",
    "black_zip = black_zip.sort_values(ascending=False).index[:top_n].tolist()\n",
    "\n",
    "# black_zip = df_acp.groupby('zip3')[f'is_{race}'].first().sort_values(ascending=False).index[:top_n].tolist()\n",
    "\n",
    "loan_df = df_acp[['funded_amnt', 'issue_d', 'zip3']]\n",
    "loan_df['issue_q'] = pd.to_datetime(loan_df['issue_d']).dt.to_period('Q')\n",
    "\n",
    "loan_black = loan_df[loan_df['zip3'].isin(black_zip)]\n",
    "loan_non_black = loan_df[~loan_df['zip3'].isin(black_zip)]\n",
    "\n",
    "loan_black_amt = loan_black.groupby('issue_q')['funded_amnt'].sum()\n",
    "loan_black_amt /= loan_black_amt[normalize_period]\n",
    "loan_non_black_amt = loan_non_black.groupby('issue_q')['funded_amnt'].sum()\n",
    "loan_non_black_amt /= loan_non_black_amt[normalize_period]\n",
    "\n",
    "fig = plt.figure(figsize=(8,6))\n",
    "loan_black_amt.plot(label=f'{race}')\n",
    "loan_non_black_amt.plot(label=f'non-{race}')\n",
    "plt.axvline(x=normalize_period, color = 'black',  linestyle='--')\n",
    "plt.title(f'Loan Amount around LC Scandal')\n",
    "plt.legend()\n",
    "plt.xlabel('Time')\n",
    "plt.ylabel('Normalized Average Funded Amout')\n",
    "# plt.show()\n",
    "plt.savefig('fund_amnt_{0}_{1}.png'.format(race, normalize_period))"
   ]
  },
  {
   "cell_type": "code",
   "execution_count": null,
   "metadata": {},
   "outputs": [],
   "source": [
    "len(loan_black), len(loan_non_black)"
   ]
  },
  {
   "cell_type": "code",
   "execution_count": null,
   "metadata": {},
   "outputs": [],
   "source": []
  }
 ],
 "metadata": {
  "interpreter": {
   "hash": "4917c47da835c5286ffcf64176df4c2ef8d44571c62bb8c4b958a352f23ad9ef"
  },
  "kernelspec": {
   "display_name": "Python 3.9.12 ('py39')",
   "language": "python",
   "name": "python3"
  },
  "language_info": {
   "codemirror_mode": {
    "name": "ipython",
    "version": 3
   },
   "file_extension": ".py",
   "mimetype": "text/x-python",
   "name": "python",
   "nbconvert_exporter": "python",
   "pygments_lexer": "ipython3",
   "version": "3.9.12"
  },
  "orig_nbformat": 4
 },
 "nbformat": 4,
 "nbformat_minor": 2
}
