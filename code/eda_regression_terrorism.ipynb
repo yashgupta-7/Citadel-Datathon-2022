{
 "cells": [
  {
   "cell_type": "code",
   "execution_count": null,
   "metadata": {},
   "outputs": [],
   "source": [
    "import pandas as pd\n",
    "import numpy as np\n",
    "import matplotlib.pyplot as plt\n",
    "import seaborn as sns\n",
    "import os\n",
    "import gc\n",
    "import statsmodels.formula.api as sm\n",
    "from stargazer.stargazer import Stargazer\n",
    "%matplotlib inline\n",
    "\n",
    "pd.set_option('display.max_columns', None)\n",
    "pd.set_option('display.max_rows', None)\n",
    "\n",
    "DATA_DIR = 'data'"
   ]
  },
  {
   "cell_type": "code",
   "execution_count": null,
   "metadata": {},
   "outputs": [],
   "source": [
    "df_acp = pd.read_pickle(os.path.join(DATA_DIR, 'accepted_merged.pickle'))"
   ]
  },
  {
   "cell_type": "code",
   "execution_count": null,
   "metadata": {},
   "outputs": [],
   "source": [
    "df_demograph = pd.read_csv(os.path.join(DATA_DIR, 'cps_data/demographic_cleaned.csv'), dtype={'zip3': str})"
   ]
  },
  {
   "cell_type": "code",
   "execution_count": null,
   "metadata": {},
   "outputs": [],
   "source": [
    "race = 'black'\n",
    "normalize_period = '2016-03-01'\n",
    "top_n = 20\n",
    "nyc_zip = [str(x) for x in range(0, 1000)]"
   ]
  },
  {
   "cell_type": "code",
   "execution_count": null,
   "metadata": {},
   "outputs": [],
   "source": [
    "mus_by_zip = pd.read_csv('/Users/yashgupta/Downloads/xibai_drive/datathon_2022/data/muslim_by_county_cleaned.csv', dtype={'zip3':str})\n",
    "# mus_by_zip['zip3'] = mus_by_zip['zip3'].astype(str)\n",
    "mus_by_zip = mus_by_zip[mus_by_zip['zip3'].isin(nyc_zip)].sort_values(by='Percent')\n",
    "mus_zip = mus_by_zip['zip3'][:top_n].tolist()\n",
    "len(mus_zip)"
   ]
  },
  {
   "cell_type": "code",
   "execution_count": null,
   "metadata": {},
   "outputs": [],
   "source": [
    "black_zip = df_demograph.groupby('zip3')[f'is_{race}'].mean()\n",
    "black_zip = black_zip.sort_values(ascending=False).index[:top_n].tolist()\n",
    "# black_zip = mus_zip\n",
    "emp2yr = {'10+ years':10, '3 years':3, '4 years':4, '6 years':6, '1 year':1, '7 years':7, '8 years':8, '5 years':5, '2 years':2, '9 years':9, '< 1 year':1, 0:0}\n",
    "\n",
    "west = ['CA', 'OR', 'UT','WA', 'CO', 'NV', 'AK', 'MT', 'HI', 'WY', 'ID']\n",
    "south_west = ['AZ', 'TX', 'NM', 'OK']\n",
    "south_east = ['GA', 'NC', 'VA', 'FL', 'KY', 'SC', 'LA', 'AL', 'WV', 'DC', 'AR', 'DE', 'MS', 'TN' ]\n",
    "mid_west = ['IL', 'MO', 'MN', 'OH', 'WI', 'KS', 'MI', 'SD', 'IA', 'NE', 'IN', 'ND']\n",
    "north_east = ['CT', 'NY', 'PA', 'NJ', 'RI','MA', 'MD', 'VT', 'NH', 'ME']\n",
    "\n",
    "def finding_regions(state):\n",
    "    if state in west:\n",
    "        return 'West'\n",
    "    elif state in south_west:\n",
    "        return 'SouthWest'\n",
    "    elif state in south_east:\n",
    "        return 'SouthEast'\n",
    "    elif state in mid_west:\n",
    "        return 'MidWest'\n",
    "    else:\n",
    "        return 'NorthEast'"
   ]
  },
  {
   "cell_type": "code",
   "execution_count": null,
   "metadata": {},
   "outputs": [],
   "source": [
    "df_rej = pd.read_pickle(os.path.join(DATA_DIR, 'rejected.pickle'))"
   ]
  },
  {
   "cell_type": "code",
   "execution_count": null,
   "metadata": {},
   "outputs": [],
   "source": [
    "X_rej = df_rej[['dti', 'addr_state', 'emp_length', 'year', 'loan_amnt', 'zip3']].copy()\n",
    "X_rej['black_zip']  = (df_rej['zip3'].isin(black_zip)).astype(int)\n",
    "X_rej['is_funded'] = 0\n",
    "X_rej['post'] = (pd.to_datetime(df_rej['issue_d']) >= normalize_period).astype(int)\n",
    "X_rej['emp_length'].fillna(0, inplace=True)\n",
    "X_rej['emp_length'] = X_rej['emp_length'].apply(lambda x: emp2yr[x]).astype(int)\n",
    "X_rej['region'] = X_rej['addr_state'].apply(lambda x: finding_regions(x))\n",
    "del df_rej"
   ]
  },
  {
   "cell_type": "code",
   "execution_count": null,
   "metadata": {},
   "outputs": [],
   "source": [
    "df_acp['year'] = df_acp['issue_d'].dt.year\n",
    "X_acp = df_acp[['dti', 'addr_state', 'emp_length', 'year', 'loan_amnt', 'zip3']].copy()\n",
    "X_acp['black_zip']  = (df_acp['zip3'].isin(black_zip)).astype(int)\n",
    "X_acp['is_funded'] = 1\n",
    "X_acp['post'] = (pd.to_datetime(df_acp['issue_d']) >= normalize_period).astype(int)\n",
    "X_acp['emp_length'].fillna(0, inplace=True)\n",
    "X_acp['emp_length'] = X_acp['emp_length'].apply(lambda x: emp2yr[x]).astype(int)\n",
    "X_acp['region'] = X_acp['addr_state'].apply(lambda x: finding_regions(x))"
   ]
  },
  {
   "cell_type": "code",
   "execution_count": null,
   "metadata": {},
   "outputs": [],
   "source": [
    "X  = pd.concat([X_acp, X_rej])\n",
    "X['dti'].clip(upper=100, inplace=True)\n",
    "X['post_black_zip'] = X['post']*X['black_zip']\n",
    "X['loan_amnt'].fillna(1, inplace=True)\n",
    "X['loan_amnt'].clip(upper=40000, inplace=True)\n",
    "X['log_loan_amnt'] = np.log(X['loan_amnt'] + 1)\n",
    "X['loan_amnt_norm'] = X['loan_amnt'] / 40000"
   ]
  },
  {
   "cell_type": "code",
   "execution_count": null,
   "metadata": {},
   "outputs": [],
   "source": [
    "X = X[X['zip3'].isin(nyc_zip)]"
   ]
  },
  {
   "cell_type": "code",
   "execution_count": null,
   "metadata": {},
   "outputs": [],
   "source": [
    "pre_mask = (X['post'] == 0)\n",
    "post_mask = ~pre_mask"
   ]
  },
  {
   "cell_type": "markdown",
   "metadata": {},
   "source": [
    "PRE"
   ]
  },
  {
   "cell_type": "code",
   "execution_count": null,
   "metadata": {},
   "outputs": [],
   "source": [
    "df = X[pre_mask]\n",
    "result_pre = sm.ols(formula = \"is_funded ~ dti + black_zip + emp_length + C(year)*C(region) + loan_amnt_norm\", data = df).fit()\n",
    "result_pre.summary()"
   ]
  },
  {
   "cell_type": "markdown",
   "metadata": {},
   "source": [
    "POST"
   ]
  },
  {
   "cell_type": "code",
   "execution_count": null,
   "metadata": {},
   "outputs": [],
   "source": [
    "df = X[post_mask]\n",
    "result_post = sm.ols(formula = \"is_funded ~ dti + black_zip + emp_length + C(year)*C(region) + loan_amnt_norm\", data = df).fit()\n",
    "result_post.summary()"
   ]
  },
  {
   "cell_type": "code",
   "execution_count": null,
   "metadata": {},
   "outputs": [],
   "source": [
    "out_stargazer = Stargazer([result_pre, result_post])\n",
    "print(out_stargazer.render_latex())\n",
    "with open(\"regression_our\", \"w\") as f:\n",
    "    f.write(str(out_stargazer.render_latex()))"
   ]
  }
 ],
 "metadata": {
  "interpreter": {
   "hash": "4917c47da835c5286ffcf64176df4c2ef8d44571c62bb8c4b958a352f23ad9ef"
  },
  "kernelspec": {
   "display_name": "Python 3.9.12 ('py39')",
   "language": "python",
   "name": "python3"
  },
  "language_info": {
   "codemirror_mode": {
    "name": "ipython",
    "version": 3
   },
   "file_extension": ".py",
   "mimetype": "text/x-python",
   "name": "python",
   "nbconvert_exporter": "python",
   "pygments_lexer": "ipython3",
   "version": "3.9.12"
  },
  "orig_nbformat": 4
 },
 "nbformat": 4,
 "nbformat_minor": 2
}
