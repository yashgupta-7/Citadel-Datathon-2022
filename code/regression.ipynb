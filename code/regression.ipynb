{
  "cells": [
    {
      "cell_type": "code",
      "execution_count": null,
      "metadata": {
        "id": "LTEBxwbPoLKz"
      },
      "outputs": [],
      "source": [
        "import pandas as pd\n",
        "import numpy as np\n",
        "import matplotlib.pyplot as plt\n",
        "import seaborn as sns\n",
        "import os\n",
        "import gc\n",
        "%matplotlib inline\n",
        "\n",
        "pd.set_option('display.max_columns', None)\n",
        "pd.set_option('display.max_rows', None)\n",
        "\n",
        "DATA_DIR = '/content/drive/MyDrive/datathon_2022/data'"
      ]
    },
    {
      "cell_type": "code",
      "execution_count": null,
      "metadata": {
        "colab": {
          "base_uri": "https://localhost:8080/"
        },
        "id": "6IY2BEAPUYTT",
        "outputId": "92febea7-1319-44c6-8cec-b8530d57278f"
      },
      "outputs": [],
      "source": [
        "# from google.colab import drive\n",
        "# drive.mount('/content/drive')"
      ]
    },
    {
      "cell_type": "markdown",
      "metadata": {
        "id": "LRnYSkILI1gk"
      },
      "source": [
        "# 1. Prepare dataframe"
      ]
    },
    {
      "cell_type": "code",
      "execution_count": null,
      "metadata": {
        "id": "rPhQZNeZUhcq"
      },
      "outputs": [],
      "source": [
        "# zip_info = pd.read_csv(os.path.join(DATA_DIR, 'zip_info.csv'), dtype={'zip3':str})\n",
        "\n",
        "# df_acp = pd.read_pickle(os.path.join(DATA_DIR, 'accepted_merged.pickle'))\n",
        "# df_acp = df_acp.drop(columns=['id']+zip_info.columns[3:].tolist())\n",
        "\n",
        "# df_rej = pd.read_pickle(os.path.join(DATA_DIR, 'rejected.pickle'))"
      ]
    },
    {
      "cell_type": "code",
      "execution_count": null,
      "metadata": {
        "id": "1_r80pdptJiE"
      },
      "outputs": [],
      "source": [
        "emp2yr = {'10+ years':10, '3 years':3, '4 years':4, '6 years':6, '1 year':1, '7 years':7, '8 years':8, '5 years':5, '2 years':2, '9 years':9, '< 1 year':1, 0:0}\n",
        "df_rej['emp_length'].replace(emp2yr, inplace=True)\n",
        "df_acp['emp_length'].replace(emp2yr, inplace=True)\n",
        "df_acp.rename(columns={'issue_d_year':'year'}, inplace=True)"
      ]
    },
    {
      "cell_type": "code",
      "execution_count": null,
      "metadata": {
        "colab": {
          "base_uri": "https://localhost:8080/"
        },
        "id": "Dx0LjBjJCO2x",
        "outputId": "28e9455f-d4e7-4fa6-cb85-3dd7c625df30"
      },
      "outputs": [],
      "source": [
        "tdf = df_acp[df_rej.columns]\n",
        "tdf['accepted'] = 1\n",
        "tdf = pd.concat([tdf, df_rej], axis=0)\n",
        "tdf['accepted'] = tdf['accepted'].fillna(0)"
      ]
    },
    {
      "cell_type": "code",
      "execution_count": null,
      "metadata": {
        "colab": {
          "base_uri": "https://localhost:8080/"
        },
        "id": "BhAA83lXCUu3",
        "outputId": "d0864fd4-968a-4e52-e7f1-8aebe24540fa"
      },
      "outputs": [],
      "source": [
        "del df_rej\n",
        "gc.collect()"
      ]
    },
    {
      "cell_type": "code",
      "execution_count": null,
      "metadata": {
        "id": "Snx9tbyzGFpQ"
      },
      "outputs": [],
      "source": [
        "tdf['dti'] = tdf['dti'].clip(upper=999)\n",
        "tdf['dti'] = tdf['dti'].fillna(999)\n",
        "tdf['dti_cat'] = pd.cut(tdf['dti'], bins=[0,20,40,100,1000], labels=[\"20\",\"40\", \"100\", \"1000\"])"
      ]
    },
    {
      "cell_type": "code",
      "execution_count": null,
      "metadata": {
        "id": "t5xoFXy7HcAf"
      },
      "outputs": [],
      "source": [
        "tdf.to_csv(os.path.join(DATA_DIR, 'simple_regress.csv'), index=False)"
      ]
    },
    {
      "cell_type": "code",
      "execution_count": null,
      "metadata": {
        "id": "nAU-LrY8IrmO"
      },
      "outputs": [],
      "source": [
        "# del tdf \n",
        "# gc.collect()"
      ]
    },
    {
      "cell_type": "markdown",
      "metadata": {
        "id": "qRRu6-pigf78"
      },
      "source": [
        "# 2. Logistic Regression"
      ]
    },
    {
      "cell_type": "code",
      "execution_count": null,
      "metadata": {
        "id": "5CLGMullIv_3"
      },
      "outputs": [],
      "source": [
        "df = pd.read_csv(os.path.join(DATA_DIR, 'simple_regress.csv'), dtype={'zip3': str, 'dti_cat': str})\n",
        "zip_info = pd.read_csv(os.path.join(DATA_DIR, 'zip_info.csv'), dtype={'zip3':str})"
      ]
    },
    {
      "cell_type": "code",
      "execution_count": null,
      "metadata": {
        "id": "FljNQ3YHprO7"
      },
      "outputs": [],
      "source": [
        "df = df[df['zip3'].isin(zip_info['zip3'].unique().tolist())]\n",
        "df = df[df['loan_amnt'] >= 100]"
      ]
    },
    {
      "cell_type": "code",
      "execution_count": null,
      "metadata": {
        "id": "R7gp2cM7hLIK"
      },
      "outputs": [],
      "source": [
        "df['issue_q'] = pd.to_datetime(df['issue_d']).dt.to_period('Q')\n",
        "\n",
        "df['post'] = (pd.to_datetime(df['issue_d']) > pd.to_datetime('6/1/2016')).astype(int)\n",
        "\n",
        "black_zip = zip_info[(zip_info['is_black']>0.4) & (zip_info['year']==2016)]['zip3'].tolist()\n",
        "df['black'] = (df['zip3'].isin(black_zip)).astype(int)\n",
        "df['post_black'] = df['post'] * df['black']\n",
        "df['log_loan_amnt'] = np.log(df['loan_amnt'])"
      ]
    },
    {
      "cell_type": "code",
      "execution_count": null,
      "metadata": {
        "id": "gfQHl6JaEpBJ"
      },
      "outputs": [],
      "source": [
        "asian_zip = zip_info[(zip_info['is_black']>0.4) & (zip_info['year']==2016)]['zip3'].tolist()\n",
        "df['black'] = (df['zip3'].isin(black_zip)).astype(int)"
      ]
    },
    {
      "cell_type": "code",
      "execution_count": null,
      "metadata": {
        "colab": {
          "base_uri": "https://localhost:8080/",
          "height": 294
        },
        "id": "jCPUyzq1jaeG",
        "outputId": "17a08b7b-fe9f-415f-af32-546b9ed8970c"
      },
      "outputs": [],
      "source": [
        "df['log_loan_amnt'].plot.hist()"
      ]
    },
    {
      "cell_type": "code",
      "execution_count": null,
      "metadata": {
        "colab": {
          "base_uri": "https://localhost:8080/"
        },
        "id": "1O4TxQiTigei",
        "outputId": "90613822-3552-4b0d-f0bd-ffd7522e696a"
      },
      "outputs": [],
      "source": [
        "import statsmodels.formula.api as sm\n",
        "\n",
        "result = sm.logit(formula = \"accepted ~ log_loan_amnt + C(dti_cat) + emp_length + C(post) + C(post_black) + C(year)\", data = df).fit()"
      ]
    },
    {
      "cell_type": "code",
      "execution_count": null,
      "metadata": {
        "id": "E-70ud4PL68m"
      },
      "outputs": [],
      "source": [
        "result_2 = sm.logit(formula = \"accepted ~ log_loan_amnt + C(dti_cat) + emp_length + C(post) + C(black) + C(post_black) + C(year)\", data = df).fit()"
      ]
    },
    {
      "cell_type": "code",
      "execution_count": null,
      "metadata": {
        "colab": {
          "base_uri": "https://localhost:8080/",
          "height": 466
        },
        "id": "FY09I8f162Y_",
        "outputId": "05318ba8-f015-421d-f828-bdf05a987281"
      },
      "outputs": [],
      "source": [
        "result.summary()"
      ]
    },
    {
      "cell_type": "code",
      "execution_count": null,
      "metadata": {
        "colab": {
          "base_uri": "https://localhost:8080/"
        },
        "id": "ZnfR84fLDVbU",
        "outputId": "afbf1229-d9d8-4622-ccce-a614ee2530b8"
      },
      "outputs": [],
      "source": [
        "# !pip install stargazer"
      ]
    },
    {
      "cell_type": "code",
      "execution_count": null,
      "metadata": {
        "id": "2FvAIjpUDZCv"
      },
      "outputs": [],
      "source": [
        "from stargazer.stargazer import Stargazer\n",
        "out_stargazer = Stargazer([result])"
      ]
    },
    {
      "cell_type": "code",
      "execution_count": null,
      "metadata": {
        "colab": {
          "base_uri": "https://localhost:8080/",
          "height": 769
        },
        "id": "NqfOkzZNDxRw",
        "outputId": "9547fc76-3570-4441-fa81-c1b92cda5288"
      },
      "outputs": [],
      "source": [
        "out_stargazer"
      ]
    }
  ],
  "metadata": {
    "colab": {
      "collapsed_sections": [],
      "name": "regression",
      "provenance": []
    },
    "interpreter": {
      "hash": "4917c47da835c5286ffcf64176df4c2ef8d44571c62bb8c4b958a352f23ad9ef"
    },
    "kernelspec": {
      "display_name": "Python 3.9.12 ('py39')",
      "language": "python",
      "name": "python3"
    },
    "language_info": {
      "codemirror_mode": {
        "name": "ipython",
        "version": 3
      },
      "file_extension": ".py",
      "mimetype": "text/x-python",
      "name": "python",
      "nbconvert_exporter": "python",
      "pygments_lexer": "ipython3",
      "version": "3.9.12"
    }
  },
  "nbformat": 4,
  "nbformat_minor": 0
}
